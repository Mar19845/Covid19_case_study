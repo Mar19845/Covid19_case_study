{
 "cells": [
  {
   "cell_type": "markdown",
   "id": "03917b18-9f3e-4d99-a03c-b59aafe00adc",
   "metadata": {},
   "source": [
    "## Universidad del Valle de Guatemala\n",
    "### Data Science\n",
    "#### Juan Marroquin 19845\n",
    "#### Carlos Raxtum 19721"
   ]
  },
  {
   "cell_type": "code",
   "execution_count": 1,
   "id": "59fcfe73-0d93-429b-981c-24ad94a89674",
   "metadata": {},
   "outputs": [],
   "source": [
    "import pandas as pd"
   ]
  },
  {
   "cell_type": "markdown",
   "id": "7346cd79-a561-4990-8a03-74089fc77804",
   "metadata": {},
   "source": [
    "###### functions that rename and convert the data"
   ]
  },
  {
   "cell_type": "code",
   "execution_count": 2,
   "id": "07da3617-5a2c-44bb-a584-7b4f828ac112",
   "metadata": {},
   "outputs": [],
   "source": [
    "# rename columns\n",
    "def rename_columns(df):\n",
    "    output = df.rename(\n",
    "        columns = {\n",
    "            'Province/State':'subregion',\n",
    "            'Country/Region': 'country',\n",
    "            'Lat': 'lat',\n",
    "            'Long':'long',\n",
    "        }\n",
    "    )\n",
    "    return output"
   ]
  },
  {
   "cell_type": "code",
   "execution_count": 3,
   "id": "907bed9d-026b-4244-86e0-1d6ae7b46955",
   "metadata": {},
   "outputs": [],
   "source": [
    "def melt_data(df,new_name):\n",
    "    output = df.melt(id_vars = ['country','subregion','lat','long'],\n",
    "                     var_name = 'date_Raw',\n",
    "                     value_name = new_name\n",
    "    )\n",
    "    return output"
   ]
  },
  {
   "cell_type": "code",
   "execution_count": 4,
   "id": "998916a5-380c-4951-903e-4ba916c242ad",
   "metadata": {},
   "outputs": [],
   "source": [
    "def convert_dates(df):\n",
    "    output = df.assign(\n",
    "        date = pd.to_datetime(df.date_Raw,format='%m/%d/%y')\n",
    "    )\n",
    "    output.drop(columns = ['date_Raw'],inplace = True)\n",
    "    return output"
   ]
  },
  {
   "cell_type": "code",
   "execution_count": 5,
   "id": "e25be66b-ad29-4d8f-99ee-b040409b382d",
   "metadata": {},
   "outputs": [],
   "source": [
    "def arrange_data(df,new_name):\n",
    "    output = df.filter(['country','subregion','date','lat','long',new_name]).sort_values(['country','subregion','date','lat','long']).reset_index(drop=True)\n",
    "    return output"
   ]
  },
  {
   "cell_type": "code",
   "execution_count": 6,
   "id": "18579fd1-c181-4197-80e5-7f27fc50d177",
   "metadata": {},
   "outputs": [],
   "source": [
    "def get_csv(url,value_var_name):\n",
    "    df = pd.read_csv(url)\n",
    "    df = rename_columns(df)\n",
    "    df = melt_data(df,value_var_name)\n",
    "    df = convert_dates(df)\n",
    "    df = arrange_data(df,value_var_name)\n",
    "    return df"
   ]
  },
  {
   "cell_type": "markdown",
   "id": "a02b6ef1-97d6-4fee-955a-cb3b632a2262",
   "metadata": {},
   "source": [
    "##### Get data from url"
   ]
  },
  {
   "cell_type": "code",
   "execution_count": 7,
   "id": "73cae101-a958-41a9-80f7-727a2b0d8c0f",
   "metadata": {},
   "outputs": [],
   "source": [
    "#get case confirmed data\n",
    "url ='https://data.humdata.org/hxlproxy/api/data-preview.csv?url=https%3A%2F%2Fraw.githubusercontent.com%2FCSSEGISandData%2FCOVID-19%2Fmaster%2Fcsse_covid_19_data%2Fcsse_covid_19_time_series%2Ftime_series_covid19_confirmed_global.csv&filename=time_series_covid19_confirmed_global.csv'\n",
    "case_confirmed = get_csv(url,'confirmed')\n",
    "# get death confirmed data\n",
    "url = 'https://data.humdata.org/hxlproxy/api/data-preview.csv?url=https%3A%2F%2Fraw.githubusercontent.com%2FCSSEGISandData%2FCOVID-19%2Fmaster%2Fcsse_covid_19_data%2Fcsse_covid_19_time_series%2Ftime_series_covid19_deaths_global.csv&filename=time_series_covid19_deaths_global.csv'\n",
    "dead_confirmed = get_csv(url,'death')\n",
    "#get recoverd confirmed data\n",
    "url = 'https://data.humdata.org/hxlproxy/api/data-preview.csv?url=https%3A%2F%2Fraw.githubusercontent.com%2FCSSEGISandData%2FCOVID-19%2Fmaster%2Fcsse_covid_19_data%2Fcsse_covid_19_time_series%2Ftime_series_covid19_recovered_global.csv&filename=time_series_covid19_recovered_global.csv'\n",
    "recoverd_confirmed = get_csv(url,'recovered')"
   ]
  },
  {
   "cell_type": "code",
   "execution_count": 8,
   "id": "35cab49b-6ca4-479f-82be-3a28d5b52029",
   "metadata": {},
   "outputs": [
    {
     "name": "stdout",
     "output_type": "stream",
     "text": [
      "case confirmed:  (286977, 6)\n",
      "dead confirmed:  (286977, 6)\n",
      "recoverd confirmed:  (272082, 6)\n"
     ]
    }
   ],
   "source": [
    "print('case confirmed: ',case_confirmed.shape)\n",
    "print('dead confirmed: ',dead_confirmed.shape)\n",
    "print('recoverd confirmed: ',recoverd_confirmed.shape)"
   ]
  },
  {
   "cell_type": "markdown",
   "id": "d7444062-a742-434f-aaee-f26044ad4c36",
   "metadata": {},
   "source": [
    "###### drop columns before merge"
   ]
  },
  {
   "cell_type": "code",
   "execution_count": 9,
   "id": "5158626f-9e8a-4741-893e-d0806f580a46",
   "metadata": {},
   "outputs": [],
   "source": [
    "dead_confirmed.drop(columns=['lat','long'],inplace=True)\n",
    "recoverd_confirmed.drop(columns=['lat','long'],inplace=True)"
   ]
  },
  {
   "cell_type": "markdown",
   "id": "a3fa81dd-067b-41cf-a420-5a440dc4c0ed",
   "metadata": {},
   "source": [
    "##### Merge the dfs into one"
   ]
  },
  {
   "cell_type": "code",
   "execution_count": 10,
   "id": "a706f520-8d73-405c-98cf-c06680c48a56",
   "metadata": {},
   "outputs": [],
   "source": [
    "merge_data = case_confirmed.merge(dead_confirmed, on = ['country','subregion','date'],how = 'left').merge(recoverd_confirmed, on = ['country','subregion','date'],how = 'left')"
   ]
  },
  {
   "cell_type": "code",
   "execution_count": 11,
   "id": "8288a81b-b62c-49a2-869c-47842678e6f0",
   "metadata": {},
   "outputs": [
    {
     "data": {
      "text/html": [
       "<div>\n",
       "<style scoped>\n",
       "    .dataframe tbody tr th:only-of-type {\n",
       "        vertical-align: middle;\n",
       "    }\n",
       "\n",
       "    .dataframe tbody tr th {\n",
       "        vertical-align: top;\n",
       "    }\n",
       "\n",
       "    .dataframe thead th {\n",
       "        text-align: right;\n",
       "    }\n",
       "</style>\n",
       "<table border=\"1\" class=\"dataframe\">\n",
       "  <thead>\n",
       "    <tr style=\"text-align: right;\">\n",
       "      <th></th>\n",
       "      <th>country</th>\n",
       "      <th>subregion</th>\n",
       "      <th>date</th>\n",
       "      <th>lat</th>\n",
       "      <th>long</th>\n",
       "      <th>confirmed</th>\n",
       "      <th>death</th>\n",
       "      <th>recovered</th>\n",
       "    </tr>\n",
       "  </thead>\n",
       "  <tbody>\n",
       "    <tr>\n",
       "      <th>0</th>\n",
       "      <td>Afghanistan</td>\n",
       "      <td>NaN</td>\n",
       "      <td>2020-01-22</td>\n",
       "      <td>33.93911</td>\n",
       "      <td>67.709953</td>\n",
       "      <td>0</td>\n",
       "      <td>0</td>\n",
       "      <td>0.0</td>\n",
       "    </tr>\n",
       "    <tr>\n",
       "      <th>1</th>\n",
       "      <td>Afghanistan</td>\n",
       "      <td>NaN</td>\n",
       "      <td>2020-01-23</td>\n",
       "      <td>33.93911</td>\n",
       "      <td>67.709953</td>\n",
       "      <td>0</td>\n",
       "      <td>0</td>\n",
       "      <td>0.0</td>\n",
       "    </tr>\n",
       "    <tr>\n",
       "      <th>2</th>\n",
       "      <td>Afghanistan</td>\n",
       "      <td>NaN</td>\n",
       "      <td>2020-01-24</td>\n",
       "      <td>33.93911</td>\n",
       "      <td>67.709953</td>\n",
       "      <td>0</td>\n",
       "      <td>0</td>\n",
       "      <td>0.0</td>\n",
       "    </tr>\n",
       "    <tr>\n",
       "      <th>3</th>\n",
       "      <td>Afghanistan</td>\n",
       "      <td>NaN</td>\n",
       "      <td>2020-01-25</td>\n",
       "      <td>33.93911</td>\n",
       "      <td>67.709953</td>\n",
       "      <td>0</td>\n",
       "      <td>0</td>\n",
       "      <td>0.0</td>\n",
       "    </tr>\n",
       "    <tr>\n",
       "      <th>4</th>\n",
       "      <td>Afghanistan</td>\n",
       "      <td>NaN</td>\n",
       "      <td>2020-01-26</td>\n",
       "      <td>33.93911</td>\n",
       "      <td>67.709953</td>\n",
       "      <td>0</td>\n",
       "      <td>0</td>\n",
       "      <td>0.0</td>\n",
       "    </tr>\n",
       "  </tbody>\n",
       "</table>\n",
       "</div>"
      ],
      "text/plain": [
       "       country subregion       date       lat       long  confirmed  death  \\\n",
       "0  Afghanistan       NaN 2020-01-22  33.93911  67.709953          0      0   \n",
       "1  Afghanistan       NaN 2020-01-23  33.93911  67.709953          0      0   \n",
       "2  Afghanistan       NaN 2020-01-24  33.93911  67.709953          0      0   \n",
       "3  Afghanistan       NaN 2020-01-25  33.93911  67.709953          0      0   \n",
       "4  Afghanistan       NaN 2020-01-26  33.93911  67.709953          0      0   \n",
       "\n",
       "   recovered  \n",
       "0        0.0  \n",
       "1        0.0  \n",
       "2        0.0  \n",
       "3        0.0  \n",
       "4        0.0  "
      ]
     },
     "execution_count": 11,
     "metadata": {},
     "output_type": "execute_result"
    }
   ],
   "source": [
    "merge_data.head()"
   ]
  },
  {
   "cell_type": "code",
   "execution_count": 12,
   "id": "87c5be00-f036-4552-9f67-7de876fb287f",
   "metadata": {},
   "outputs": [],
   "source": [
    "merge_data.to_csv('covid19.csv',index = False, encoding='utf-8')"
   ]
  },
  {
   "cell_type": "code",
   "execution_count": null,
   "id": "f362e093-f8ba-4604-b78a-0176b5a5df15",
   "metadata": {},
   "outputs": [],
   "source": []
  }
 ],
 "metadata": {
  "kernelspec": {
   "display_name": "Python 3 (ipykernel)",
   "language": "python",
   "name": "python3"
  },
  "language_info": {
   "codemirror_mode": {
    "name": "ipython",
    "version": 3
   },
   "file_extension": ".py",
   "mimetype": "text/x-python",
   "name": "python",
   "nbconvert_exporter": "python",
   "pygments_lexer": "ipython3",
   "version": "3.9.13"
  }
 },
 "nbformat": 4,
 "nbformat_minor": 5
}
