{
 "cells": [
  {
   "cell_type": "markdown",
   "id": "03917b18-9f3e-4d99-a03c-b59aafe00adc",
   "metadata": {},
   "source": [
    "## Universidad del Valle de Guatemala\n",
    "### Data Science\n",
    "#### Juan Marroquin 19845\n",
    "#### Carlos Raxtum 19721"
   ]
  },
  {
   "cell_type": "code",
   "execution_count": 1,
   "id": "59fcfe73-0d93-429b-981c-24ad94a89674",
   "metadata": {},
   "outputs": [],
   "source": [
    "import pandas as pd"
   ]
  },
  {
   "cell_type": "markdown",
   "id": "7346cd79-a561-4990-8a03-74089fc77804",
   "metadata": {},
   "source": [
    "###### functions that rename and convert the data"
   ]
  },
  {
   "cell_type": "code",
   "execution_count": 2,
   "id": "07da3617-5a2c-44bb-a584-7b4f828ac112",
   "metadata": {},
   "outputs": [],
   "source": [
    "# rename columns\n",
    "def rename_columns(df):\n",
    "    output = df.rename(\n",
    "        columns = {\n",
    "            'Province/State':'subregion',\n",
    "            'Country/Region': 'country',\n",
    "            'Lat': 'lat',\n",
    "            'Long':'long',\n",
    "        }\n",
    "    )\n",
    "    return output"
   ]
  },
  {
   "cell_type": "code",
   "execution_count": 3,
   "id": "907bed9d-026b-4244-86e0-1d6ae7b46955",
   "metadata": {},
   "outputs": [],
   "source": [
    "def melt_data(df,new_name):\n",
    "    output = df.melt(id_vars = ['country','subregion','lat','long'],\n",
    "                     var_name = 'date_Raw',\n",
    "                     value_name = new_name\n",
    "    )\n",
    "    return output"
   ]
  },
  {
   "cell_type": "code",
   "execution_count": 4,
   "id": "998916a5-380c-4951-903e-4ba916c242ad",
   "metadata": {},
   "outputs": [],
   "source": [
    "def convert_dates(df):\n",
    "    output = df.assign(\n",
    "        date = pd.to_datetime(df.date_Raw,format='%m/%d/%y')\n",
    "    )\n",
    "    output.drop(columns = ['date_Raw'],inplace = True)\n",
    "    return output"
   ]
  },
  {
   "cell_type": "code",
   "execution_count": 5,
   "id": "e25be66b-ad29-4d8f-99ee-b040409b382d",
   "metadata": {},
   "outputs": [],
   "source": [
    "def arrange_data(df,new_name):\n",
    "    output = df.filter(['country','subregion','date','lat','long',new_name]).sort_values(['country','subregion','date','lat','long']).reset_index(drop=True)\n",
    "    return output"
   ]
  },
  {
   "cell_type": "code",
   "execution_count": 6,
   "id": "18579fd1-c181-4197-80e5-7f27fc50d177",
   "metadata": {},
   "outputs": [],
   "source": [
    "def get_csv(url,value_var_name):\n",
    "    df = pd.read_csv(url)\n",
    "    df = rename_columns(df)\n",
    "    df = melt_data(df,value_var_name)\n",
    "    df = convert_dates(df)\n",
    "    df = arrange_data(df,value_var_name)\n",
    "    return df"
   ]
  },
  {
   "cell_type": "markdown",
   "id": "a02b6ef1-97d6-4fee-955a-cb3b632a2262",
   "metadata": {},
   "source": [
    "##### Get data from url"
   ]
  },
  {
   "cell_type": "code",
   "execution_count": 7,
   "id": "73cae101-a958-41a9-80f7-727a2b0d8c0f",
   "metadata": {},
   "outputs": [],
   "source": [
    "#get case confirmed data\n",
    "url ='https://data.humdata.org/hxlproxy/api/data-preview.csv?url=https%3A%2F%2Fraw.githubusercontent.com%2FCSSEGISandData%2FCOVID-19%2Fmaster%2Fcsse_covid_19_data%2Fcsse_covid_19_time_series%2Ftime_series_covid19_confirmed_global.csv&filename=time_series_covid19_confirmed_global.csv'\n",
    "case_confirmed = get_csv(url,'confirmed')\n",
    "# get death confirmed data\n",
    "url = 'https://data.humdata.org/hxlproxy/api/data-preview.csv?url=https%3A%2F%2Fraw.githubusercontent.com%2FCSSEGISandData%2FCOVID-19%2Fmaster%2Fcsse_covid_19_data%2Fcsse_covid_19_time_series%2Ftime_series_covid19_deaths_global.csv&filename=time_series_covid19_deaths_global.csv'\n",
    "dead_confirmed = get_csv(url,'death')\n",
    "#get recoverd confirmed data\n",
    "url = 'https://data.humdata.org/hxlproxy/api/data-preview.csv?url=https%3A%2F%2Fraw.githubusercontent.com%2FCSSEGISandData%2FCOVID-19%2Fmaster%2Fcsse_covid_19_data%2Fcsse_covid_19_time_series%2Ftime_series_covid19_recovered_global.csv&filename=time_series_covid19_recovered_global.csv'\n",
    "recoverd_confirmed = get_csv(url,'recovered')"
   ]
  },
  {
   "cell_type": "code",
   "execution_count": 8,
   "id": "35cab49b-6ca4-479f-82be-3a28d5b52029",
   "metadata": {},
   "outputs": [
    {
     "name": "stdout",
     "output_type": "stream",
     "text": [
      "case confirmed:  (289578, 6)\n",
      "dead confirmed:  (289578, 6)\n",
      "recoverd confirmed:  (274548, 6)\n"
     ]
    }
   ],
   "source": [
    "print('case confirmed: ',case_confirmed.shape)\n",
    "print('dead confirmed: ',dead_confirmed.shape)\n",
    "print('recoverd confirmed: ',recoverd_confirmed.shape)"
   ]
  },
  {
   "cell_type": "markdown",
   "id": "d7444062-a742-434f-aaee-f26044ad4c36",
   "metadata": {},
   "source": [
    "###### drop columns before merge"
   ]
  },
  {
   "cell_type": "code",
   "execution_count": 9,
   "id": "5158626f-9e8a-4741-893e-d0806f580a46",
   "metadata": {},
   "outputs": [],
   "source": [
    "dead_confirmed.drop(columns=['lat','long'],inplace=True)\n",
    "recoverd_confirmed.drop(columns=['lat','long'],inplace=True)"
   ]
  },
  {
   "cell_type": "markdown",
   "id": "a3fa81dd-067b-41cf-a420-5a440dc4c0ed",
   "metadata": {},
   "source": [
    "##### Merge the dfs into one"
   ]
  },
  {
   "cell_type": "code",
   "execution_count": 10,
   "id": "a706f520-8d73-405c-98cf-c06680c48a56",
   "metadata": {},
   "outputs": [],
   "source": [
    "merge_data = case_confirmed.merge(dead_confirmed, on = ['country','subregion','date'],how = 'left').merge(recoverd_confirmed, on = ['country','subregion','date'],how = 'left')"
   ]
  },
  {
   "cell_type": "code",
   "execution_count": 11,
   "id": "8288a81b-b62c-49a2-869c-47842678e6f0",
   "metadata": {},
   "outputs": [
    {
     "data": {
      "text/html": [
       "<div>\n",
       "<style scoped>\n",
       "    .dataframe tbody tr th:only-of-type {\n",
       "        vertical-align: middle;\n",
       "    }\n",
       "\n",
       "    .dataframe tbody tr th {\n",
       "        vertical-align: top;\n",
       "    }\n",
       "\n",
       "    .dataframe thead th {\n",
       "        text-align: right;\n",
       "    }\n",
       "</style>\n",
       "<table border=\"1\" class=\"dataframe\">\n",
       "  <thead>\n",
       "    <tr style=\"text-align: right;\">\n",
       "      <th></th>\n",
       "      <th>country</th>\n",
       "      <th>subregion</th>\n",
       "      <th>date</th>\n",
       "      <th>lat</th>\n",
       "      <th>long</th>\n",
       "      <th>confirmed</th>\n",
       "      <th>death</th>\n",
       "      <th>recovered</th>\n",
       "    </tr>\n",
       "  </thead>\n",
       "  <tbody>\n",
       "    <tr>\n",
       "      <th>0</th>\n",
       "      <td>Afghanistan</td>\n",
       "      <td>NaN</td>\n",
       "      <td>2020-01-22</td>\n",
       "      <td>33.93911</td>\n",
       "      <td>67.709953</td>\n",
       "      <td>0</td>\n",
       "      <td>0</td>\n",
       "      <td>0.0</td>\n",
       "    </tr>\n",
       "    <tr>\n",
       "      <th>1</th>\n",
       "      <td>Afghanistan</td>\n",
       "      <td>NaN</td>\n",
       "      <td>2020-01-23</td>\n",
       "      <td>33.93911</td>\n",
       "      <td>67.709953</td>\n",
       "      <td>0</td>\n",
       "      <td>0</td>\n",
       "      <td>0.0</td>\n",
       "    </tr>\n",
       "    <tr>\n",
       "      <th>2</th>\n",
       "      <td>Afghanistan</td>\n",
       "      <td>NaN</td>\n",
       "      <td>2020-01-24</td>\n",
       "      <td>33.93911</td>\n",
       "      <td>67.709953</td>\n",
       "      <td>0</td>\n",
       "      <td>0</td>\n",
       "      <td>0.0</td>\n",
       "    </tr>\n",
       "    <tr>\n",
       "      <th>3</th>\n",
       "      <td>Afghanistan</td>\n",
       "      <td>NaN</td>\n",
       "      <td>2020-01-25</td>\n",
       "      <td>33.93911</td>\n",
       "      <td>67.709953</td>\n",
       "      <td>0</td>\n",
       "      <td>0</td>\n",
       "      <td>0.0</td>\n",
       "    </tr>\n",
       "    <tr>\n",
       "      <th>4</th>\n",
       "      <td>Afghanistan</td>\n",
       "      <td>NaN</td>\n",
       "      <td>2020-01-26</td>\n",
       "      <td>33.93911</td>\n",
       "      <td>67.709953</td>\n",
       "      <td>0</td>\n",
       "      <td>0</td>\n",
       "      <td>0.0</td>\n",
       "    </tr>\n",
       "  </tbody>\n",
       "</table>\n",
       "</div>"
      ],
      "text/plain": [
       "       country subregion       date       lat       long  confirmed  death  \\\n",
       "0  Afghanistan       NaN 2020-01-22  33.93911  67.709953          0      0   \n",
       "1  Afghanistan       NaN 2020-01-23  33.93911  67.709953          0      0   \n",
       "2  Afghanistan       NaN 2020-01-24  33.93911  67.709953          0      0   \n",
       "3  Afghanistan       NaN 2020-01-25  33.93911  67.709953          0      0   \n",
       "4  Afghanistan       NaN 2020-01-26  33.93911  67.709953          0      0   \n",
       "\n",
       "   recovered  \n",
       "0        0.0  \n",
       "1        0.0  \n",
       "2        0.0  \n",
       "3        0.0  \n",
       "4        0.0  "
      ]
     },
     "execution_count": 11,
     "metadata": {},
     "output_type": "execute_result"
    }
   ],
   "source": [
    "merge_data.head()"
   ]
  },
  {
   "cell_type": "code",
   "execution_count": 12,
   "id": "f362e093-f8ba-4604-b78a-0176b5a5df15",
   "metadata": {},
   "outputs": [],
   "source": [
    "df = pd.read_csv('2022_population.csv',encoding='utf-8')"
   ]
  },
  {
   "cell_type": "code",
   "execution_count": 13,
   "id": "3ebde23e-3d7f-4882-8baa-ef997d77dd12",
   "metadata": {},
   "outputs": [],
   "source": [
    "# change name in for the US\n",
    "df.loc[df['country'] == 'United States', 'country'] = 'US'\n",
    "merge_data.loc[merge_data['country'] == 'Korea, North', 'country'] = 'North Korea'\n",
    "merge_data.loc[merge_data['country'] == 'Korea, South', 'country'] = 'South Korea'\n",
    "merge_data.loc[merge_data['country'] == \"Cote d'Ivoire\", 'country'] = 'Ivory Coast'\n",
    "merge_data.loc[merge_data['country'] == \"Czechia\", 'country'] = 'Czech Republic'\n",
    "merge_data.loc[merge_data['country'] == \"Cabo Verde\", 'country'] = 'Cape Verde'\n",
    "merge_data.loc[merge_data['country'] == \"Taiwan*\", 'country'] = 'Taiwan'\n",
    "merge_data.loc[merge_data['country'] == \"Holy See\", 'country'] = 'Vatican City'\n",
    "#merge_data.loc[merge_data['country'] == \"Samoa\", 'country'] = 'American Samoa'\n",
    "#merge_data.loc[merge_data['country'] == \"Martinica\", 'country'] = 'Martinique'"
   ]
  },
  {
   "cell_type": "code",
   "execution_count": 14,
   "id": "87c5be00-f036-4552-9f67-7de876fb287f",
   "metadata": {},
   "outputs": [],
   "source": [
    "#merge_data.to_csv('covid19.csv',index = False, encoding='utf-8')"
   ]
  },
  {
   "cell_type": "code",
   "execution_count": 15,
   "id": "6c3c5763-4a41-473d-826d-4b6246db623e",
   "metadata": {},
   "outputs": [],
   "source": [
    "df.drop(['iso_code', 'rank','world_%','growth_rate','2020_population'], axis = 1, inplace = True) "
   ]
  },
  {
   "cell_type": "code",
   "execution_count": 16,
   "id": "7c75005e-9d1a-475e-890d-a2060fb56b13",
   "metadata": {},
   "outputs": [],
   "source": [
    "df = df.rename(columns={'2022_last_updated': 'population'})"
   ]
  },
  {
   "cell_type": "code",
   "execution_count": 17,
   "id": "962029bf-13d9-44ba-8c92-5c26a88b6e71",
   "metadata": {},
   "outputs": [],
   "source": [
    "df[\"population\"] = df[\"population\"].map(lambda x: x.replace(',', ''))\n",
    "df[\"area_sq_km\"] = df[\"area_sq_km\"].map(lambda x: x.replace(',', ''))\n",
    "df[\"density_sq_km\"] = df[\"density_sq_km\"].map(lambda x: x.replace('/sq_km', '').replace(',', ''))"
   ]
  },
  {
   "cell_type": "code",
   "execution_count": 18,
   "id": "39bb5c26-fa8f-460b-9731-ddee2fe8dc0c",
   "metadata": {},
   "outputs": [
    {
     "data": {
      "text/html": [
       "<div>\n",
       "<style scoped>\n",
       "    .dataframe tbody tr th:only-of-type {\n",
       "        vertical-align: middle;\n",
       "    }\n",
       "\n",
       "    .dataframe tbody tr th {\n",
       "        vertical-align: top;\n",
       "    }\n",
       "\n",
       "    .dataframe thead th {\n",
       "        text-align: right;\n",
       "    }\n",
       "</style>\n",
       "<table border=\"1\" class=\"dataframe\">\n",
       "  <thead>\n",
       "    <tr style=\"text-align: right;\">\n",
       "      <th></th>\n",
       "      <th>country</th>\n",
       "      <th>population</th>\n",
       "      <th>area_sq_km</th>\n",
       "      <th>density_sq_km</th>\n",
       "    </tr>\n",
       "  </thead>\n",
       "  <tbody>\n",
       "    <tr>\n",
       "      <th>0</th>\n",
       "      <td>China</td>\n",
       "      <td>1425865702</td>\n",
       "      <td>9706961</td>\n",
       "      <td>147</td>\n",
       "    </tr>\n",
       "    <tr>\n",
       "      <th>1</th>\n",
       "      <td>India</td>\n",
       "      <td>1419924173</td>\n",
       "      <td>3287590</td>\n",
       "      <td>431</td>\n",
       "    </tr>\n",
       "    <tr>\n",
       "      <th>2</th>\n",
       "      <td>US</td>\n",
       "      <td>338737868</td>\n",
       "      <td>9372610</td>\n",
       "      <td>36</td>\n",
       "    </tr>\n",
       "    <tr>\n",
       "      <th>3</th>\n",
       "      <td>Indonesia</td>\n",
       "      <td>276002970</td>\n",
       "      <td>1904569</td>\n",
       "      <td>145</td>\n",
       "    </tr>\n",
       "    <tr>\n",
       "      <th>4</th>\n",
       "      <td>Pakistan</td>\n",
       "      <td>237129351</td>\n",
       "      <td>881912</td>\n",
       "      <td>267</td>\n",
       "    </tr>\n",
       "  </tbody>\n",
       "</table>\n",
       "</div>"
      ],
      "text/plain": [
       "     country  population area_sq_km density_sq_km\n",
       "0      China  1425865702    9706961           147\n",
       "1      India  1419924173    3287590           431\n",
       "2         US   338737868    9372610            36\n",
       "3  Indonesia   276002970    1904569           145\n",
       "4   Pakistan   237129351     881912           267"
      ]
     },
     "execution_count": 18,
     "metadata": {},
     "output_type": "execute_result"
    }
   ],
   "source": [
    "df.head()"
   ]
  },
  {
   "cell_type": "code",
   "execution_count": 19,
   "id": "0ecc0645-fd58-4052-bd13-08d7d0ef1eb4",
   "metadata": {},
   "outputs": [],
   "source": [
    "df[\"area_sq_km\"] = df[\"area_sq_km\"].astype(float)\n",
    "df[\"population\"] = df[\"population\"].astype(float)\n",
    "df[\"density_sq_km\"] = df[\"density_sq_km\"].astype(float)"
   ]
  },
  {
   "cell_type": "code",
   "execution_count": 20,
   "id": "b5223e4b-8e9a-4ebf-859b-ff99dbe64968",
   "metadata": {},
   "outputs": [
    {
     "data": {
      "text/html": [
       "<div>\n",
       "<style scoped>\n",
       "    .dataframe tbody tr th:only-of-type {\n",
       "        vertical-align: middle;\n",
       "    }\n",
       "\n",
       "    .dataframe tbody tr th {\n",
       "        vertical-align: top;\n",
       "    }\n",
       "\n",
       "    .dataframe thead th {\n",
       "        text-align: right;\n",
       "    }\n",
       "</style>\n",
       "<table border=\"1\" class=\"dataframe\">\n",
       "  <thead>\n",
       "    <tr style=\"text-align: right;\">\n",
       "      <th></th>\n",
       "      <th>country</th>\n",
       "      <th>population</th>\n",
       "      <th>area_sq_km</th>\n",
       "      <th>density_sq_km</th>\n",
       "    </tr>\n",
       "  </thead>\n",
       "  <tbody>\n",
       "    <tr>\n",
       "      <th>0</th>\n",
       "      <td>China</td>\n",
       "      <td>1.425866e+09</td>\n",
       "      <td>9706961.0</td>\n",
       "      <td>147.0</td>\n",
       "    </tr>\n",
       "    <tr>\n",
       "      <th>1</th>\n",
       "      <td>India</td>\n",
       "      <td>1.419924e+09</td>\n",
       "      <td>3287590.0</td>\n",
       "      <td>431.0</td>\n",
       "    </tr>\n",
       "    <tr>\n",
       "      <th>2</th>\n",
       "      <td>US</td>\n",
       "      <td>3.387379e+08</td>\n",
       "      <td>9372610.0</td>\n",
       "      <td>36.0</td>\n",
       "    </tr>\n",
       "    <tr>\n",
       "      <th>3</th>\n",
       "      <td>Indonesia</td>\n",
       "      <td>2.760030e+08</td>\n",
       "      <td>1904569.0</td>\n",
       "      <td>145.0</td>\n",
       "    </tr>\n",
       "    <tr>\n",
       "      <th>4</th>\n",
       "      <td>Pakistan</td>\n",
       "      <td>2.371294e+08</td>\n",
       "      <td>881912.0</td>\n",
       "      <td>267.0</td>\n",
       "    </tr>\n",
       "  </tbody>\n",
       "</table>\n",
       "</div>"
      ],
      "text/plain": [
       "     country    population  area_sq_km  density_sq_km\n",
       "0      China  1.425866e+09   9706961.0          147.0\n",
       "1      India  1.419924e+09   3287590.0          431.0\n",
       "2         US  3.387379e+08   9372610.0           36.0\n",
       "3  Indonesia  2.760030e+08   1904569.0          145.0\n",
       "4   Pakistan  2.371294e+08    881912.0          267.0"
      ]
     },
     "execution_count": 20,
     "metadata": {},
     "output_type": "execute_result"
    }
   ],
   "source": [
    "df.head()"
   ]
  },
  {
   "cell_type": "code",
   "execution_count": 21,
   "id": "b2fbc2a8-9b7d-4ade-8190-051c2571db8c",
   "metadata": {},
   "outputs": [
    {
     "name": "stdout",
     "output_type": "stream",
     "text": [
      "<class 'pandas.core.frame.DataFrame'>\n",
      "RangeIndex: 216 entries, 0 to 215\n",
      "Data columns (total 4 columns):\n",
      " #   Column         Non-Null Count  Dtype  \n",
      "---  ------         --------------  -----  \n",
      " 0   country        216 non-null    object \n",
      " 1   population     216 non-null    float64\n",
      " 2   area_sq_km     216 non-null    float64\n",
      " 3   density_sq_km  216 non-null    float64\n",
      "dtypes: float64(3), object(1)\n",
      "memory usage: 6.9+ KB\n"
     ]
    }
   ],
   "source": [
    "df.info()"
   ]
  },
  {
   "cell_type": "code",
   "execution_count": 26,
   "id": "28d4ec1a-96f5-4600-9324-fa175f8c8c2d",
   "metadata": {},
   "outputs": [],
   "source": [
    "df_list = df.country.unique().tolist()\n",
    "merge_list = merge_data.country.unique().tolist()"
   ]
  },
  {
   "cell_type": "code",
   "execution_count": 28,
   "id": "f25fb2cd-1302-4817-9952-ce09c3700415",
   "metadata": {},
   "outputs": [],
   "source": [
    "drop_countries = []\n",
    "for name in df_list:\n",
    "    if name not in merge_list:\n",
    "        drop_countries.append(name)"
   ]
  },
  {
   "cell_type": "code",
   "execution_count": 29,
   "id": "4c890faf-a920-480c-a16a-508188996351",
   "metadata": {},
   "outputs": [],
   "source": [
    "for name in drop_countries:\n",
    "    df = df.drop(df[df.country == name ].index)\n",
    "    df.reset_index(drop=True)"
   ]
  },
  {
   "cell_type": "code",
   "execution_count": 30,
   "id": "3ff77a51-b4e6-4885-8207-27d1756d5cce",
   "metadata": {},
   "outputs": [],
   "source": [
    "df2 = pd.merge(merge_data, df, on=['country'])"
   ]
  },
  {
   "cell_type": "code",
   "execution_count": 31,
   "id": "a881c027-58f1-443f-a161-7c50084ac1c2",
   "metadata": {},
   "outputs": [
    {
     "data": {
      "text/html": [
       "<div>\n",
       "<style scoped>\n",
       "    .dataframe tbody tr th:only-of-type {\n",
       "        vertical-align: middle;\n",
       "    }\n",
       "\n",
       "    .dataframe tbody tr th {\n",
       "        vertical-align: top;\n",
       "    }\n",
       "\n",
       "    .dataframe thead th {\n",
       "        text-align: right;\n",
       "    }\n",
       "</style>\n",
       "<table border=\"1\" class=\"dataframe\">\n",
       "  <thead>\n",
       "    <tr style=\"text-align: right;\">\n",
       "      <th></th>\n",
       "      <th>country</th>\n",
       "      <th>subregion</th>\n",
       "      <th>date</th>\n",
       "      <th>lat</th>\n",
       "      <th>long</th>\n",
       "      <th>confirmed</th>\n",
       "      <th>death</th>\n",
       "      <th>recovered</th>\n",
       "      <th>population</th>\n",
       "      <th>area_sq_km</th>\n",
       "      <th>density_sq_km</th>\n",
       "    </tr>\n",
       "  </thead>\n",
       "  <tbody>\n",
       "    <tr>\n",
       "      <th>0</th>\n",
       "      <td>Afghanistan</td>\n",
       "      <td>NaN</td>\n",
       "      <td>2020-01-22</td>\n",
       "      <td>33.93911</td>\n",
       "      <td>67.709953</td>\n",
       "      <td>0</td>\n",
       "      <td>0</td>\n",
       "      <td>0.0</td>\n",
       "      <td>41439625.0</td>\n",
       "      <td>652230.0</td>\n",
       "      <td>63.0</td>\n",
       "    </tr>\n",
       "    <tr>\n",
       "      <th>1</th>\n",
       "      <td>Afghanistan</td>\n",
       "      <td>NaN</td>\n",
       "      <td>2020-01-23</td>\n",
       "      <td>33.93911</td>\n",
       "      <td>67.709953</td>\n",
       "      <td>0</td>\n",
       "      <td>0</td>\n",
       "      <td>0.0</td>\n",
       "      <td>41439625.0</td>\n",
       "      <td>652230.0</td>\n",
       "      <td>63.0</td>\n",
       "    </tr>\n",
       "    <tr>\n",
       "      <th>2</th>\n",
       "      <td>Afghanistan</td>\n",
       "      <td>NaN</td>\n",
       "      <td>2020-01-24</td>\n",
       "      <td>33.93911</td>\n",
       "      <td>67.709953</td>\n",
       "      <td>0</td>\n",
       "      <td>0</td>\n",
       "      <td>0.0</td>\n",
       "      <td>41439625.0</td>\n",
       "      <td>652230.0</td>\n",
       "      <td>63.0</td>\n",
       "    </tr>\n",
       "    <tr>\n",
       "      <th>3</th>\n",
       "      <td>Afghanistan</td>\n",
       "      <td>NaN</td>\n",
       "      <td>2020-01-25</td>\n",
       "      <td>33.93911</td>\n",
       "      <td>67.709953</td>\n",
       "      <td>0</td>\n",
       "      <td>0</td>\n",
       "      <td>0.0</td>\n",
       "      <td>41439625.0</td>\n",
       "      <td>652230.0</td>\n",
       "      <td>63.0</td>\n",
       "    </tr>\n",
       "    <tr>\n",
       "      <th>4</th>\n",
       "      <td>Afghanistan</td>\n",
       "      <td>NaN</td>\n",
       "      <td>2020-01-26</td>\n",
       "      <td>33.93911</td>\n",
       "      <td>67.709953</td>\n",
       "      <td>0</td>\n",
       "      <td>0</td>\n",
       "      <td>0.0</td>\n",
       "      <td>41439625.0</td>\n",
       "      <td>652230.0</td>\n",
       "      <td>63.0</td>\n",
       "    </tr>\n",
       "  </tbody>\n",
       "</table>\n",
       "</div>"
      ],
      "text/plain": [
       "       country subregion       date       lat       long  confirmed  death  \\\n",
       "0  Afghanistan       NaN 2020-01-22  33.93911  67.709953          0      0   \n",
       "1  Afghanistan       NaN 2020-01-23  33.93911  67.709953          0      0   \n",
       "2  Afghanistan       NaN 2020-01-24  33.93911  67.709953          0      0   \n",
       "3  Afghanistan       NaN 2020-01-25  33.93911  67.709953          0      0   \n",
       "4  Afghanistan       NaN 2020-01-26  33.93911  67.709953          0      0   \n",
       "\n",
       "   recovered  population  area_sq_km  density_sq_km  \n",
       "0        0.0  41439625.0    652230.0           63.0  \n",
       "1        0.0  41439625.0    652230.0           63.0  \n",
       "2        0.0  41439625.0    652230.0           63.0  \n",
       "3        0.0  41439625.0    652230.0           63.0  \n",
       "4        0.0  41439625.0    652230.0           63.0  "
      ]
     },
     "execution_count": 31,
     "metadata": {},
     "output_type": "execute_result"
    }
   ],
   "source": [
    "df2.head()"
   ]
  },
  {
   "cell_type": "code",
   "execution_count": 32,
   "id": "39d76aca-8856-46c8-9cc4-96c85791558e",
   "metadata": {},
   "outputs": [],
   "source": [
    "df2.to_csv('covid19.csv',index = False, encoding='utf-8')"
   ]
  }
 ],
 "metadata": {
  "kernelspec": {
   "display_name": "Python 3 (ipykernel)",
   "language": "python",
   "name": "python3"
  },
  "language_info": {
   "codemirror_mode": {
    "name": "ipython",
    "version": 3
   },
   "file_extension": ".py",
   "mimetype": "text/x-python",
   "name": "python",
   "nbconvert_exporter": "python",
   "pygments_lexer": "ipython3",
   "version": "3.9.13"
  }
 },
 "nbformat": 4,
 "nbformat_minor": 5
}
