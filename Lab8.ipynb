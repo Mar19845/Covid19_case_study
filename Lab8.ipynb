{
 "cells": [
  {
   "cell_type": "markdown",
   "id": "616e8da0-20f4-447a-9dba-a24a1cdea650",
   "metadata": {},
   "source": [
    "## Universidad del Valle de Guatemala\n",
    "### Data Science\n",
    "#### Juan Marroquin 19845\n",
    "#### Carlos Raxtum 19721"
   ]
  },
  {
   "cell_type": "code",
   "execution_count": 1,
   "id": "38801c5e-cefe-4d01-bec1-011571eb3139",
   "metadata": {},
   "outputs": [],
   "source": [
    "import seaborn as sns\n",
    "import matplotlib.pyplot as plt\n",
    "import pandas as pd\n",
    "import numpy as np\n",
    "from mpl_toolkits.mplot3d import Axes3D"
   ]
  },
  {
   "cell_type": "markdown",
   "id": "7f37b523-f9c9-41c0-8a0b-9196ac2088c8",
   "metadata": {},
   "source": [
    "#### PRIMEROS 3 EJERCICIOS EN EL NOTEBOOK getInfo.ipynb"
   ]
  },
  {
   "cell_type": "code",
   "execution_count": 2,
   "id": "d4e88054-36c1-4d08-92f7-ee265ba9e91b",
   "metadata": {},
   "outputs": [],
   "source": [
    "df = pd.read_csv('covid19.csv',encoding='utf-8')"
   ]
  },
  {
   "cell_type": "markdown",
   "id": "ae839f39-c393-42af-b2d4-fe737129a1fc",
   "metadata": {},
   "source": [
    "##### drop subregion column"
   ]
  },
  {
   "cell_type": "code",
   "execution_count": 3,
   "id": "8bb140ad-1e65-4abe-b764-6c832276ead2",
   "metadata": {},
   "outputs": [],
   "source": [
    "df = df.drop(['subregion'], axis=1)"
   ]
  },
  {
   "cell_type": "markdown",
   "id": "5849797c-1a33-4bea-9a96-f7135b0a7c44",
   "metadata": {},
   "source": [
    "#### Analisis Exploratorio"
   ]
  },
  {
   "cell_type": "code",
   "execution_count": 4,
   "id": "c712c0ba-686c-4494-9ec1-5d4c3910de9e",
   "metadata": {},
   "outputs": [
    {
     "data": {
      "text/html": [
       "<div>\n",
       "<style scoped>\n",
       "    .dataframe tbody tr th:only-of-type {\n",
       "        vertical-align: middle;\n",
       "    }\n",
       "\n",
       "    .dataframe tbody tr th {\n",
       "        vertical-align: top;\n",
       "    }\n",
       "\n",
       "    .dataframe thead th {\n",
       "        text-align: right;\n",
       "    }\n",
       "</style>\n",
       "<table border=\"1\" class=\"dataframe\">\n",
       "  <thead>\n",
       "    <tr style=\"text-align: right;\">\n",
       "      <th></th>\n",
       "      <th>country</th>\n",
       "      <th>date</th>\n",
       "      <th>lat</th>\n",
       "      <th>long</th>\n",
       "      <th>confirmed</th>\n",
       "      <th>death</th>\n",
       "      <th>recovered</th>\n",
       "    </tr>\n",
       "  </thead>\n",
       "  <tbody>\n",
       "    <tr>\n",
       "      <th>0</th>\n",
       "      <td>Afghanistan</td>\n",
       "      <td>2020-01-22</td>\n",
       "      <td>33.93911</td>\n",
       "      <td>67.709953</td>\n",
       "      <td>0</td>\n",
       "      <td>0</td>\n",
       "      <td>0.0</td>\n",
       "    </tr>\n",
       "    <tr>\n",
       "      <th>1</th>\n",
       "      <td>Afghanistan</td>\n",
       "      <td>2020-01-23</td>\n",
       "      <td>33.93911</td>\n",
       "      <td>67.709953</td>\n",
       "      <td>0</td>\n",
       "      <td>0</td>\n",
       "      <td>0.0</td>\n",
       "    </tr>\n",
       "    <tr>\n",
       "      <th>2</th>\n",
       "      <td>Afghanistan</td>\n",
       "      <td>2020-01-24</td>\n",
       "      <td>33.93911</td>\n",
       "      <td>67.709953</td>\n",
       "      <td>0</td>\n",
       "      <td>0</td>\n",
       "      <td>0.0</td>\n",
       "    </tr>\n",
       "    <tr>\n",
       "      <th>3</th>\n",
       "      <td>Afghanistan</td>\n",
       "      <td>2020-01-25</td>\n",
       "      <td>33.93911</td>\n",
       "      <td>67.709953</td>\n",
       "      <td>0</td>\n",
       "      <td>0</td>\n",
       "      <td>0.0</td>\n",
       "    </tr>\n",
       "    <tr>\n",
       "      <th>4</th>\n",
       "      <td>Afghanistan</td>\n",
       "      <td>2020-01-26</td>\n",
       "      <td>33.93911</td>\n",
       "      <td>67.709953</td>\n",
       "      <td>0</td>\n",
       "      <td>0</td>\n",
       "      <td>0.0</td>\n",
       "    </tr>\n",
       "  </tbody>\n",
       "</table>\n",
       "</div>"
      ],
      "text/plain": [
       "       country        date       lat       long  confirmed  death  recovered\n",
       "0  Afghanistan  2020-01-22  33.93911  67.709953          0      0        0.0\n",
       "1  Afghanistan  2020-01-23  33.93911  67.709953          0      0        0.0\n",
       "2  Afghanistan  2020-01-24  33.93911  67.709953          0      0        0.0\n",
       "3  Afghanistan  2020-01-25  33.93911  67.709953          0      0        0.0\n",
       "4  Afghanistan  2020-01-26  33.93911  67.709953          0      0        0.0"
      ]
     },
     "execution_count": 4,
     "metadata": {},
     "output_type": "execute_result"
    }
   ],
   "source": [
    "df.head()"
   ]
  },
  {
   "cell_type": "markdown",
   "id": "3868eb0f-9a9b-4047-89cd-a09c348a6eab",
   "metadata": {},
   "source": [
    "##### Shape of dataframe"
   ]
  },
  {
   "cell_type": "code",
   "execution_count": 5,
   "id": "c641d442-bf33-4844-93fa-cb75a829955c",
   "metadata": {},
   "outputs": [
    {
     "data": {
      "text/plain": [
       "(286977, 7)"
      ]
     },
     "execution_count": 5,
     "metadata": {},
     "output_type": "execute_result"
    }
   ],
   "source": [
    "df.shape"
   ]
  },
  {
   "cell_type": "markdown",
   "id": "43ebec1d-342e-4f55-8882-95295eea5e51",
   "metadata": {},
   "source": [
    "##### Describe df"
   ]
  },
  {
   "cell_type": "code",
   "execution_count": 6,
   "id": "081c9f22-ab2e-45e9-a78d-27dc3b16474d",
   "metadata": {},
   "outputs": [
    {
     "data": {
      "text/html": [
       "<div>\n",
       "<style scoped>\n",
       "    .dataframe tbody tr th:only-of-type {\n",
       "        vertical-align: middle;\n",
       "    }\n",
       "\n",
       "    .dataframe tbody tr th {\n",
       "        vertical-align: top;\n",
       "    }\n",
       "\n",
       "    .dataframe thead th {\n",
       "        text-align: right;\n",
       "    }\n",
       "</style>\n",
       "<table border=\"1\" class=\"dataframe\">\n",
       "  <thead>\n",
       "    <tr style=\"text-align: right;\">\n",
       "      <th></th>\n",
       "      <th>lat</th>\n",
       "      <th>long</th>\n",
       "      <th>confirmed</th>\n",
       "      <th>death</th>\n",
       "      <th>recovered</th>\n",
       "    </tr>\n",
       "  </thead>\n",
       "  <tbody>\n",
       "    <tr>\n",
       "      <th>count</th>\n",
       "      <td>284991.000000</td>\n",
       "      <td>284991.000000</td>\n",
       "      <td>2.869770e+05</td>\n",
       "      <td>2.869770e+05</td>\n",
       "      <td>2.710890e+05</td>\n",
       "    </tr>\n",
       "    <tr>\n",
       "      <th>mean</th>\n",
       "      <td>19.718719</td>\n",
       "      <td>22.182084</td>\n",
       "      <td>7.623394e+05</td>\n",
       "      <td>1.189202e+04</td>\n",
       "      <td>8.568111e+04</td>\n",
       "    </tr>\n",
       "    <tr>\n",
       "      <th>std</th>\n",
       "      <td>25.911394</td>\n",
       "      <td>77.735286</td>\n",
       "      <td>4.096779e+06</td>\n",
       "      <td>5.841977e+04</td>\n",
       "      <td>7.553919e+05</td>\n",
       "    </tr>\n",
       "    <tr>\n",
       "      <th>min</th>\n",
       "      <td>-71.949900</td>\n",
       "      <td>-178.116500</td>\n",
       "      <td>0.000000e+00</td>\n",
       "      <td>0.000000e+00</td>\n",
       "      <td>-1.000000e+00</td>\n",
       "    </tr>\n",
       "    <tr>\n",
       "      <th>25%</th>\n",
       "      <td>3.933900</td>\n",
       "      <td>-42.604300</td>\n",
       "      <td>4.120000e+02</td>\n",
       "      <td>2.000000e+00</td>\n",
       "      <td>0.000000e+00</td>\n",
       "    </tr>\n",
       "    <tr>\n",
       "      <th>50%</th>\n",
       "      <td>21.512583</td>\n",
       "      <td>20.939400</td>\n",
       "      <td>9.980000e+03</td>\n",
       "      <td>1.130000e+02</td>\n",
       "      <td>0.000000e+00</td>\n",
       "    </tr>\n",
       "    <tr>\n",
       "      <th>75%</th>\n",
       "      <td>40.463667</td>\n",
       "      <td>90.356300</td>\n",
       "      <td>1.693960e+05</td>\n",
       "      <td>2.451000e+03</td>\n",
       "      <td>1.707000e+03</td>\n",
       "    </tr>\n",
       "    <tr>\n",
       "      <th>max</th>\n",
       "      <td>71.706900</td>\n",
       "      <td>178.065000</td>\n",
       "      <td>9.672111e+07</td>\n",
       "      <td>1.062681e+06</td>\n",
       "      <td>3.097475e+07</td>\n",
       "    </tr>\n",
       "  </tbody>\n",
       "</table>\n",
       "</div>"
      ],
      "text/plain": [
       "                 lat           long     confirmed         death     recovered\n",
       "count  284991.000000  284991.000000  2.869770e+05  2.869770e+05  2.710890e+05\n",
       "mean       19.718719      22.182084  7.623394e+05  1.189202e+04  8.568111e+04\n",
       "std        25.911394      77.735286  4.096779e+06  5.841977e+04  7.553919e+05\n",
       "min       -71.949900    -178.116500  0.000000e+00  0.000000e+00 -1.000000e+00\n",
       "25%         3.933900     -42.604300  4.120000e+02  2.000000e+00  0.000000e+00\n",
       "50%        21.512583      20.939400  9.980000e+03  1.130000e+02  0.000000e+00\n",
       "75%        40.463667      90.356300  1.693960e+05  2.451000e+03  1.707000e+03\n",
       "max        71.706900     178.065000  9.672111e+07  1.062681e+06  3.097475e+07"
      ]
     },
     "execution_count": 6,
     "metadata": {},
     "output_type": "execute_result"
    }
   ],
   "source": [
    "df.describe()"
   ]
  },
  {
   "cell_type": "code",
   "execution_count": 7,
   "id": "2b3f8f44-aca1-4e1f-a6ec-d958eca8aef1",
   "metadata": {},
   "outputs": [
    {
     "name": "stdout",
     "output_type": "stream",
     "text": [
      "<class 'pandas.core.frame.DataFrame'>\n",
      "RangeIndex: 286977 entries, 0 to 286976\n",
      "Data columns (total 7 columns):\n",
      " #   Column     Non-Null Count   Dtype  \n",
      "---  ------     --------------   -----  \n",
      " 0   country    286977 non-null  object \n",
      " 1   date       286977 non-null  object \n",
      " 2   lat        284991 non-null  float64\n",
      " 3   long       284991 non-null  float64\n",
      " 4   confirmed  286977 non-null  int64  \n",
      " 5   death      286977 non-null  int64  \n",
      " 6   recovered  271089 non-null  float64\n",
      "dtypes: float64(3), int64(2), object(2)\n",
      "memory usage: 15.3+ MB\n"
     ]
    }
   ],
   "source": [
    "df.info()"
   ]
  },
  {
   "cell_type": "code",
   "execution_count": 8,
   "id": "95074007-b4ce-4a18-bfce-f13c9fb57ec6",
   "metadata": {},
   "outputs": [],
   "source": [
    "# replace nan in recoverd column with 0\n",
    "# we asume a Nan values means that nobody was recoverd from covid that day\n",
    "df['recovered']=df['recovered'].fillna(0)"
   ]
  },
  {
   "cell_type": "code",
   "execution_count": 9,
   "id": "9a94fd72-3191-407b-82c7-318316d4025a",
   "metadata": {},
   "outputs": [
    {
     "data": {
      "text/plain": [
       "array(['Afghanistan', 'Albania', 'Algeria', 'Andorra', 'Angola',\n",
       "       'Antarctica', 'Antigua and Barbuda', 'Argentina', 'Armenia',\n",
       "       'Australia', 'Austria', 'Azerbaijan', 'Bahamas', 'Bahrain',\n",
       "       'Bangladesh', 'Barbados', 'Belarus', 'Belgium', 'Belize', 'Benin',\n",
       "       'Bhutan', 'Bolivia', 'Bosnia and Herzegovina', 'Botswana',\n",
       "       'Brazil', 'Brunei', 'Bulgaria', 'Burkina Faso', 'Burma', 'Burundi',\n",
       "       'Cabo Verde', 'Cambodia', 'Cameroon', 'Canada',\n",
       "       'Central African Republic', 'Chad', 'Chile', 'China', 'Colombia',\n",
       "       'Comoros', 'Congo (Brazzaville)', 'Congo (Kinshasa)', 'Costa Rica',\n",
       "       \"Cote d'Ivoire\", 'Croatia', 'Cuba', 'Cyprus', 'Czechia', 'Denmark',\n",
       "       'Diamond Princess', 'Djibouti', 'Dominica', 'Dominican Republic',\n",
       "       'Ecuador', 'Egypt', 'El Salvador', 'Equatorial Guinea', 'Eritrea',\n",
       "       'Estonia', 'Eswatini', 'Ethiopia', 'Fiji', 'Finland', 'France',\n",
       "       'Gabon', 'Gambia', 'Georgia', 'Germany', 'Ghana', 'Greece',\n",
       "       'Grenada', 'Guatemala', 'Guinea', 'Guinea-Bissau', 'Guyana',\n",
       "       'Haiti', 'Holy See', 'Honduras', 'Hungary', 'Iceland', 'India',\n",
       "       'Indonesia', 'Iran', 'Iraq', 'Ireland', 'Israel', 'Italy',\n",
       "       'Jamaica', 'Japan', 'Jordan', 'Kazakhstan', 'Kenya', 'Kiribati',\n",
       "       'Korea, North', 'Korea, South', 'Kosovo', 'Kuwait', 'Kyrgyzstan',\n",
       "       'Laos', 'Latvia', 'Lebanon', 'Lesotho', 'Liberia', 'Libya',\n",
       "       'Liechtenstein', 'Lithuania', 'Luxembourg', 'MS Zaandam',\n",
       "       'Madagascar', 'Malawi', 'Malaysia', 'Maldives', 'Mali', 'Malta',\n",
       "       'Marshall Islands', 'Mauritania', 'Mauritius', 'Mexico',\n",
       "       'Micronesia', 'Moldova', 'Monaco', 'Mongolia', 'Montenegro',\n",
       "       'Morocco', 'Mozambique', 'Namibia', 'Nauru', 'Nepal',\n",
       "       'Netherlands', 'New Zealand', 'Nicaragua', 'Niger', 'Nigeria',\n",
       "       'North Macedonia', 'Norway', 'Oman', 'Pakistan', 'Palau', 'Panama',\n",
       "       'Papua New Guinea', 'Paraguay', 'Peru', 'Philippines', 'Poland',\n",
       "       'Portugal', 'Qatar', 'Romania', 'Russia', 'Rwanda',\n",
       "       'Saint Kitts and Nevis', 'Saint Lucia',\n",
       "       'Saint Vincent and the Grenadines', 'Samoa', 'San Marino',\n",
       "       'Sao Tome and Principe', 'Saudi Arabia', 'Senegal', 'Serbia',\n",
       "       'Seychelles', 'Sierra Leone', 'Singapore', 'Slovakia', 'Slovenia',\n",
       "       'Solomon Islands', 'Somalia', 'South Africa', 'South Sudan',\n",
       "       'Spain', 'Sri Lanka', 'Sudan', 'Summer Olympics 2020', 'Suriname',\n",
       "       'Sweden', 'Switzerland', 'Syria', 'Taiwan*', 'Tajikistan',\n",
       "       'Tanzania', 'Thailand', 'Timor-Leste', 'Togo', 'Tonga',\n",
       "       'Trinidad and Tobago', 'Tunisia', 'Turkey', 'Tuvalu', 'US',\n",
       "       'Uganda', 'Ukraine', 'United Arab Emirates', 'United Kingdom',\n",
       "       'Uruguay', 'Uzbekistan', 'Vanuatu', 'Venezuela', 'Vietnam',\n",
       "       'West Bank and Gaza', 'Winter Olympics 2022', 'Yemen', 'Zambia',\n",
       "       'Zimbabwe'], dtype=object)"
      ]
     },
     "execution_count": 9,
     "metadata": {},
     "output_type": "execute_result"
    }
   ],
   "source": [
    "df['country'].unique()"
   ]
  },
  {
   "cell_type": "code",
   "execution_count": 10,
   "id": "d0897ba2-70dc-4a9f-a443-1524601de55a",
   "metadata": {},
   "outputs": [],
   "source": [
    "# remove from the country columns\n",
    "remove_country = ['Diamond Princess','Winter Olympics 2022','MS Zaandam','Summer Olympics 2020']\n",
    "for fake in remove_country:\n",
    "    df = df.drop(df[df.country == fake ].index)\n",
    "    df.reset_index(drop=True)"
   ]
  },
  {
   "cell_type": "markdown",
   "id": "3ee94f3d-3160-45d2-91dd-5660a57e2593",
   "metadata": {},
   "source": [
    "#### Null values in dataset"
   ]
  },
  {
   "cell_type": "code",
   "execution_count": 11,
   "id": "2faa229f-9d74-4d58-86d8-7779dc8296ab",
   "metadata": {},
   "outputs": [
    {
     "data": {
      "text/plain": [
       "[Text(0.5, 1.0, 'Null values in dataset')]"
      ]
     },
     "execution_count": 11,
     "metadata": {},
     "output_type": "execute_result"
    },
    {
     "data": {
      "image/png": "[encoded data removed]",
      "text/plain": [
       "<Figure size 432x288 with 1 Axes>"
      ]
     },
     "metadata": {
      "needs_background": "light"
     },
     "output_type": "display_data"
    }
   ],
   "source": [
    "figure = sns.heatmap(df.isnull(), yticklabels = False, cbar = False, cmap=\"Blues\")\n",
    "figure.set(title = \"Null values in dataset\")"
   ]
  },
  {
   "cell_type": "code",
   "execution_count": 12,
   "id": "2539a98b-87f7-482b-a23f-10bfab091948",
   "metadata": {},
   "outputs": [
    {
     "data": {
      "text/plain": [
       "country         0\n",
       "date            0\n",
       "lat          1986\n",
       "long         1986\n",
       "confirmed       0\n",
       "death           0\n",
       "recovered       0\n",
       "dtype: int64"
      ]
     },
     "execution_count": 12,
     "metadata": {},
     "output_type": "execute_result"
    }
   ],
   "source": [
    "df.isnull().sum()"
   ]
  },
  {
   "cell_type": "markdown",
   "id": "df152a57-197b-4548-87bf-da4cf568f712",
   "metadata": {},
   "source": [
    "##### Get what Countries does not have lat and long values"
   ]
  },
  {
   "cell_type": "code",
   "execution_count": 13,
   "id": "d20e3ccc-ea3d-47c5-ad1b-f90ccb652efa",
   "metadata": {},
   "outputs": [
    {
     "data": {
      "text/plain": [
       "array(['Canada', 'China'], dtype=object)"
      ]
     },
     "execution_count": 13,
     "metadata": {},
     "output_type": "execute_result"
    }
   ],
   "source": [
    "df[df.lat.isnull()].country.unique()"
   ]
  },
  {
   "cell_type": "code",
   "execution_count": 14,
   "id": "dc768f90-bcdf-4ce6-b672-8e4ae6816169",
   "metadata": {},
   "outputs": [],
   "source": [
    "coutries_lat_long = {\n",
    "    'Canada': {\n",
    "        'lat': 45.424721,\n",
    "        'long':-75.695000\n",
    "    },\n",
    "    'China': {\n",
    "        'lat':39.916668,\n",
    "        'long':116.383331\n",
    "    },\n",
    "}"
   ]
  },
  {
   "cell_type": "code",
   "execution_count": 15,
   "id": "79eb1fb1-60d0-4f34-8792-fa1045886629",
   "metadata": {},
   "outputs": [
    {
     "data": {
      "text/plain": [
       "{'lat': 45.424721, 'long': -75.695}"
      ]
     },
     "execution_count": 15,
     "metadata": {},
     "output_type": "execute_result"
    }
   ],
   "source": [
    "coutries_lat_long['Canada']"
   ]
  },
  {
   "cell_type": "markdown",
   "id": "67167d35-a53b-4bfd-a9cb-7b8f4ab67669",
   "metadata": {},
   "source": [
    "##### Replace the Nan values"
   ]
  },
  {
   "cell_type": "code",
   "execution_count": 16,
   "id": "47735583-add2-4265-b957-75cda1305b6b",
   "metadata": {},
   "outputs": [],
   "source": [
    "for country_fix in coutries_lat_long:\n",
    "    df.loc[df[\"country\"] == country_fix, \"lat\"] = coutries_lat_long[country_fix]['lat']\n",
    "    df.loc[df[\"country\"] == country_fix, \"long\"] = coutries_lat_long[country_fix]['long']"
   ]
  },
  {
   "cell_type": "markdown",
   "id": "d2a39235-c71f-4d31-88fb-d1a8e0a721ae",
   "metadata": {},
   "source": [
    "## After cleaning the data get the new statistics "
   ]
  },
  {
   "cell_type": "code",
   "execution_count": 17,
   "id": "209d2666-2dc1-4687-92db-4f861900b50d",
   "metadata": {},
   "outputs": [
    {
     "data": {
      "text/html": [
       "<div>\n",
       "<style scoped>\n",
       "    .dataframe tbody tr th:only-of-type {\n",
       "        vertical-align: middle;\n",
       "    }\n",
       "\n",
       "    .dataframe tbody tr th {\n",
       "        vertical-align: top;\n",
       "    }\n",
       "\n",
       "    .dataframe thead th {\n",
       "        text-align: right;\n",
       "    }\n",
       "</style>\n",
       "<table border=\"1\" class=\"dataframe\">\n",
       "  <thead>\n",
       "    <tr style=\"text-align: right;\">\n",
       "      <th></th>\n",
       "      <th>lat</th>\n",
       "      <th>long</th>\n",
       "      <th>confirmed</th>\n",
       "      <th>death</th>\n",
       "      <th>recovered</th>\n",
       "    </tr>\n",
       "  </thead>\n",
       "  <tbody>\n",
       "    <tr>\n",
       "      <th>count</th>\n",
       "      <td>283005.000000</td>\n",
       "      <td>283005.000000</td>\n",
       "      <td>2.830050e+05</td>\n",
       "      <td>2.830050e+05</td>\n",
       "      <td>2.830050e+05</td>\n",
       "    </tr>\n",
       "    <tr>\n",
       "      <th>mean</th>\n",
       "      <td>20.608889</td>\n",
       "      <td>22.349650</td>\n",
       "      <td>7.730346e+05</td>\n",
       "      <td>1.205887e+04</td>\n",
       "      <td>8.207228e+04</td>\n",
       "    </tr>\n",
       "    <tr>\n",
       "      <th>std</th>\n",
       "      <td>25.878030</td>\n",
       "      <td>77.613372</td>\n",
       "      <td>4.124427e+06</td>\n",
       "      <td>5.881121e+04</td>\n",
       "      <td>7.395182e+05</td>\n",
       "    </tr>\n",
       "    <tr>\n",
       "      <th>min</th>\n",
       "      <td>-71.949900</td>\n",
       "      <td>-178.116500</td>\n",
       "      <td>0.000000e+00</td>\n",
       "      <td>0.000000e+00</td>\n",
       "      <td>-1.000000e+00</td>\n",
       "    </tr>\n",
       "    <tr>\n",
       "      <th>25%</th>\n",
       "      <td>4.860416</td>\n",
       "      <td>-55.765800</td>\n",
       "      <td>4.540000e+02</td>\n",
       "      <td>3.000000e+00</td>\n",
       "      <td>0.000000e+00</td>\n",
       "    </tr>\n",
       "    <tr>\n",
       "      <th>50%</th>\n",
       "      <td>23.424076</td>\n",
       "      <td>20.939400</td>\n",
       "      <td>1.083600e+04</td>\n",
       "      <td>1.210000e+02</td>\n",
       "      <td>0.000000e+00</td>\n",
       "    </tr>\n",
       "    <tr>\n",
       "      <th>75%</th>\n",
       "      <td>40.143100</td>\n",
       "      <td>90.433600</td>\n",
       "      <td>1.783780e+05</td>\n",
       "      <td>2.555000e+03</td>\n",
       "      <td>1.357000e+03</td>\n",
       "    </tr>\n",
       "    <tr>\n",
       "      <th>max</th>\n",
       "      <td>71.706900</td>\n",
       "      <td>178.065000</td>\n",
       "      <td>9.672111e+07</td>\n",
       "      <td>1.062681e+06</td>\n",
       "      <td>3.097475e+07</td>\n",
       "    </tr>\n",
       "  </tbody>\n",
       "</table>\n",
       "</div>"
      ],
      "text/plain": [
       "                 lat           long     confirmed         death     recovered\n",
       "count  283005.000000  283005.000000  2.830050e+05  2.830050e+05  2.830050e+05\n",
       "mean       20.608889      22.349650  7.730346e+05  1.205887e+04  8.207228e+04\n",
       "std        25.878030      77.613372  4.124427e+06  5.881121e+04  7.395182e+05\n",
       "min       -71.949900    -178.116500  0.000000e+00  0.000000e+00 -1.000000e+00\n",
       "25%         4.860416     -55.765800  4.540000e+02  3.000000e+00  0.000000e+00\n",
       "50%        23.424076      20.939400  1.083600e+04  1.210000e+02  0.000000e+00\n",
       "75%        40.143100      90.433600  1.783780e+05  2.555000e+03  1.357000e+03\n",
       "max        71.706900     178.065000  9.672111e+07  1.062681e+06  3.097475e+07"
      ]
     },
     "execution_count": 17,
     "metadata": {},
     "output_type": "execute_result"
    }
   ],
   "source": [
    "df.describe()"
   ]
  },
  {
   "cell_type": "code",
   "execution_count": 18,
   "id": "2cf65c5a-c075-432a-91d9-5bc3a62bc6c5",
   "metadata": {},
   "outputs": [
    {
     "name": "stdout",
     "output_type": "stream",
     "text": [
      "<class 'pandas.core.frame.DataFrame'>\n",
      "Int64Index: 283005 entries, 0 to 286976\n",
      "Data columns (total 7 columns):\n",
      " #   Column     Non-Null Count   Dtype  \n",
      "---  ------     --------------   -----  \n",
      " 0   country    283005 non-null  object \n",
      " 1   date       283005 non-null  object \n",
      " 2   lat        283005 non-null  float64\n",
      " 3   long       283005 non-null  float64\n",
      " 4   confirmed  283005 non-null  int64  \n",
      " 5   death      283005 non-null  int64  \n",
      " 6   recovered  283005 non-null  float64\n",
      "dtypes: float64(3), int64(2), object(2)\n",
      "memory usage: 17.3+ MB\n"
     ]
    }
   ],
   "source": [
    "df.info()"
   ]
  },
  {
   "cell_type": "markdown",
   "id": "1f7fb213-03c5-4674-aab2-c1a7ed789e18",
   "metadata": {},
   "source": [
    "#### Null values in dataset"
   ]
  },
  {
   "cell_type": "code",
   "execution_count": 19,
   "id": "36cdb8f0-95ca-478b-b5af-71e45d864ad9",
   "metadata": {},
   "outputs": [
    {
     "data": {
      "text/plain": [
       "[Text(0.5, 1.0, 'Null values in dataset')]"
      ]
     },
     "execution_count": 19,
     "metadata": {},
     "output_type": "execute_result"
    },
    {
     "data": {
      "image/png": "[encoded data removed]",
      "text/plain": [
       "<Figure size 432x288 with 1 Axes>"
      ]
     },
     "metadata": {
      "needs_background": "light"
     },
     "output_type": "display_data"
    }
   ],
   "source": [
    "figure = sns.heatmap(df.isnull(), yticklabels = False, cbar = False, cmap=\"Blues\")\n",
    "figure.set(title = \"Null values in dataset\")"
   ]
  },
  {
   "cell_type": "markdown",
   "id": "a7002789-58ae-44da-a3a9-be2e735a9319",
   "metadata": {},
   "source": [
    "#### Some graphs "
   ]
  },
  {
   "cell_type": "code",
   "execution_count": 20,
   "id": "f75bd1af-413a-4338-acab-cb4be8058275",
   "metadata": {},
   "outputs": [
    {
     "data": {
      "image/png": "[encoded data removed]",
      "text/plain": [
       "<Figure size 1080x432 with 1 Axes>"
      ]
     },
     "metadata": {
      "needs_background": "light"
     },
     "output_type": "display_data"
    }
   ],
   "source": [
    "plt.figure(figsize = (15, 6))\n",
    "figure = sns.regplot(x = 'confirmed', y = 'death', data = df[df.country == 'Guatemala' ])\n",
    "figure.set(title = \"Confirmed cases vs Deads in Guatemala\")\n",
    "plt.show()"
   ]
  },
  {
   "cell_type": "code",
   "execution_count": 21,
   "id": "ecedaa47-80fc-425f-9001-3880b06db985",
   "metadata": {},
   "outputs": [
    {
     "data": {
      "image/png": "[encoded data removed]",
      "text/plain": [
       "<Figure size 1080x432 with 1 Axes>"
      ]
     },
     "metadata": {
      "needs_background": "light"
     },
     "output_type": "display_data"
    }
   ],
   "source": [
    "plt.figure(figsize = (15, 6))\n",
    "figure = sns.regplot(x = 'confirmed', y = 'recovered', data = df[df.country == 'Guatemala' ])\n",
    "figure.set(title = \"Confirmed cases vs Recovered in Guatemala\")\n",
    "plt.show()"
   ]
  },
  {
   "cell_type": "code",
   "execution_count": 25,
   "id": "9fc85fce-96a5-4783-881f-ef24efc4a4a6",
   "metadata": {},
   "outputs": [
    {
     "data": {
      "image/png": "[encoded data removed]",
      "text/plain": [
       "<Figure size 1080x432 with 1 Axes>"
      ]
     },
     "metadata": {
      "needs_background": "light"
     },
     "output_type": "display_data"
    }
   ],
   "source": [
    "plt.figure(figsize = (15, 6))\n",
    "figure = sns.regplot(x = 'confirmed', y = 'death', data = df[df.country == 'US' ])\n",
    "figure.set(title = \"Confirmed cases vs Deads in USA\")\n",
    "plt.show()"
   ]
  },
  {
   "cell_type": "code",
   "execution_count": 23,
   "id": "ffc2515c-868b-4798-bafc-ac41959d22a7",
   "metadata": {},
   "outputs": [
    {
     "data": {
      "text/plain": [
       "[Text(0.5, 1.0, 'Confirmed cases vs Recovered in USA')]"
      ]
     },
     "execution_count": 23,
     "metadata": {},
     "output_type": "execute_result"
    },
    {
     "data": {
      "image/png": "[encoded data removed]",
      "text/plain": [
       "<Figure size 1080x432 with 1 Axes>"
      ]
     },
     "metadata": {
      "needs_background": "light"
     },
     "output_type": "display_data"
    }
   ],
   "source": [
    "plt.figure(figsize = (15, 6))\n",
    "figure = sns.regplot(x = 'confirmed', y = 'recovered', data = df[df.country == 'US' ])\n",
    "figure.set(title = \"Confirmed cases vs Recovered in USA\")"
   ]
  },
  {
   "cell_type": "code",
   "execution_count": null,
   "id": "2cd61272-01d8-4d41-8a15-1a5b3a25f048",
   "metadata": {},
   "outputs": [],
   "source": []
  }
 ],
 "metadata": {
  "kernelspec": {
   "display_name": "Python 3 (ipykernel)",
   "language": "python",
   "name": "python3"
  },
  "language_info": {
   "codemirror_mode": {
    "name": "ipython",
    "version": 3
   },
   "file_extension": ".py",
   "mimetype": "text/x-python",
   "name": "python",
   "nbconvert_exporter": "python",
   "pygments_lexer": "ipython3",
   "version": "3.9.13"
  }
 },
 "nbformat": 4,
 "nbformat_minor": 5
}
