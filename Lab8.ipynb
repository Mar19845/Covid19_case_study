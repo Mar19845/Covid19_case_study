{
 "cells": [
  {
   "cell_type": "markdown",
   "id": "616e8da0-20f4-447a-9dba-a24a1cdea650",
   "metadata": {},
   "source": [
    "## Universidad del Valle de Guatemala\n",
    "### Data Science\n",
    "#### Juan Marroquin 19845\n",
    "#### Carlos Raxtum 19721"
   ]
  },
  {
   "cell_type": "code",
   "execution_count": 2,
   "id": "38801c5e-cefe-4d01-bec1-011571eb3139",
   "metadata": {},
   "outputs": [],
   "source": [
    "import seaborn as sns\n",
    "import matplotlib.pyplot as plt\n",
    "import pandas as pd\n",
    "import numpy as np\n",
    "from mpl_toolkits.mplot3d import Axes3D"
   ]
  },
  {
   "cell_type": "markdown",
   "id": "7f37b523-f9c9-41c0-8a0b-9196ac2088c8",
   "metadata": {},
   "source": [
    "#### PRIMEROS 3 EJERCICIOS EN EL NOTEBOOK getInfo.ipynb"
   ]
  },
  {
   "cell_type": "code",
   "execution_count": 6,
   "id": "d4e88054-36c1-4d08-92f7-ee265ba9e91b",
   "metadata": {},
   "outputs": [],
   "source": [
    "df = pd.read_csv('covid19.csv',encoding='utf-8')"
   ]
  },
  {
   "cell_type": "markdown",
   "id": "5849797c-1a33-4bea-9a96-f7135b0a7c44",
   "metadata": {},
   "source": [
    "#### Analisis Exploratorio"
   ]
  },
  {
   "cell_type": "code",
   "execution_count": 7,
   "id": "c712c0ba-686c-4494-9ec1-5d4c3910de9e",
   "metadata": {},
   "outputs": [
    {
     "data": {
      "text/html": [
       "<div>\n",
       "<style scoped>\n",
       "    .dataframe tbody tr th:only-of-type {\n",
       "        vertical-align: middle;\n",
       "    }\n",
       "\n",
       "    .dataframe tbody tr th {\n",
       "        vertical-align: top;\n",
       "    }\n",
       "\n",
       "    .dataframe thead th {\n",
       "        text-align: right;\n",
       "    }\n",
       "</style>\n",
       "<table border=\"1\" class=\"dataframe\">\n",
       "  <thead>\n",
       "    <tr style=\"text-align: right;\">\n",
       "      <th></th>\n",
       "      <th>country</th>\n",
       "      <th>subregion</th>\n",
       "      <th>date</th>\n",
       "      <th>lat</th>\n",
       "      <th>long</th>\n",
       "      <th>confirmed</th>\n",
       "      <th>death</th>\n",
       "      <th>recoverd</th>\n",
       "    </tr>\n",
       "  </thead>\n",
       "  <tbody>\n",
       "    <tr>\n",
       "      <th>0</th>\n",
       "      <td>Afghanistan</td>\n",
       "      <td>NaN</td>\n",
       "      <td>2020-01-22</td>\n",
       "      <td>33.93911</td>\n",
       "      <td>67.709953</td>\n",
       "      <td>0</td>\n",
       "      <td>0</td>\n",
       "      <td>0.0</td>\n",
       "    </tr>\n",
       "    <tr>\n",
       "      <th>1</th>\n",
       "      <td>Afghanistan</td>\n",
       "      <td>NaN</td>\n",
       "      <td>2020-01-23</td>\n",
       "      <td>33.93911</td>\n",
       "      <td>67.709953</td>\n",
       "      <td>0</td>\n",
       "      <td>0</td>\n",
       "      <td>0.0</td>\n",
       "    </tr>\n",
       "    <tr>\n",
       "      <th>2</th>\n",
       "      <td>Afghanistan</td>\n",
       "      <td>NaN</td>\n",
       "      <td>2020-01-24</td>\n",
       "      <td>33.93911</td>\n",
       "      <td>67.709953</td>\n",
       "      <td>0</td>\n",
       "      <td>0</td>\n",
       "      <td>0.0</td>\n",
       "    </tr>\n",
       "    <tr>\n",
       "      <th>3</th>\n",
       "      <td>Afghanistan</td>\n",
       "      <td>NaN</td>\n",
       "      <td>2020-01-25</td>\n",
       "      <td>33.93911</td>\n",
       "      <td>67.709953</td>\n",
       "      <td>0</td>\n",
       "      <td>0</td>\n",
       "      <td>0.0</td>\n",
       "    </tr>\n",
       "    <tr>\n",
       "      <th>4</th>\n",
       "      <td>Afghanistan</td>\n",
       "      <td>NaN</td>\n",
       "      <td>2020-01-26</td>\n",
       "      <td>33.93911</td>\n",
       "      <td>67.709953</td>\n",
       "      <td>0</td>\n",
       "      <td>0</td>\n",
       "      <td>0.0</td>\n",
       "    </tr>\n",
       "  </tbody>\n",
       "</table>\n",
       "</div>"
      ],
      "text/plain": [
       "       country subregion        date       lat       long  confirmed  death  \\\n",
       "0  Afghanistan       NaN  2020-01-22  33.93911  67.709953          0      0   \n",
       "1  Afghanistan       NaN  2020-01-23  33.93911  67.709953          0      0   \n",
       "2  Afghanistan       NaN  2020-01-24  33.93911  67.709953          0      0   \n",
       "3  Afghanistan       NaN  2020-01-25  33.93911  67.709953          0      0   \n",
       "4  Afghanistan       NaN  2020-01-26  33.93911  67.709953          0      0   \n",
       "\n",
       "   recoverd  \n",
       "0       0.0  \n",
       "1       0.0  \n",
       "2       0.0  \n",
       "3       0.0  \n",
       "4       0.0  "
      ]
     },
     "execution_count": 7,
     "metadata": {},
     "output_type": "execute_result"
    }
   ],
   "source": [
    "df.head()"
   ]
  },
  {
   "cell_type": "markdown",
   "id": "3868eb0f-9a9b-4047-89cd-a09c348a6eab",
   "metadata": {},
   "source": [
    "##### Shape of dataframe"
   ]
  },
  {
   "cell_type": "code",
   "execution_count": 9,
   "id": "c641d442-bf33-4844-93fa-cb75a829955c",
   "metadata": {},
   "outputs": [
    {
     "data": {
      "text/plain": [
       "(286977, 8)"
      ]
     },
     "execution_count": 9,
     "metadata": {},
     "output_type": "execute_result"
    }
   ],
   "source": [
    "df.shape"
   ]
  },
  {
   "cell_type": "markdown",
   "id": "43ebec1d-342e-4f55-8882-95295eea5e51",
   "metadata": {},
   "source": [
    "##### Describe df"
   ]
  },
  {
   "cell_type": "code",
   "execution_count": 8,
   "id": "081c9f22-ab2e-45e9-a78d-27dc3b16474d",
   "metadata": {},
   "outputs": [
    {
     "data": {
      "text/html": [
       "<div>\n",
       "<style scoped>\n",
       "    .dataframe tbody tr th:only-of-type {\n",
       "        vertical-align: middle;\n",
       "    }\n",
       "\n",
       "    .dataframe tbody tr th {\n",
       "        vertical-align: top;\n",
       "    }\n",
       "\n",
       "    .dataframe thead th {\n",
       "        text-align: right;\n",
       "    }\n",
       "</style>\n",
       "<table border=\"1\" class=\"dataframe\">\n",
       "  <thead>\n",
       "    <tr style=\"text-align: right;\">\n",
       "      <th></th>\n",
       "      <th>lat</th>\n",
       "      <th>long</th>\n",
       "      <th>confirmed</th>\n",
       "      <th>death</th>\n",
       "      <th>recoverd</th>\n",
       "    </tr>\n",
       "  </thead>\n",
       "  <tbody>\n",
       "    <tr>\n",
       "      <th>count</th>\n",
       "      <td>284991.000000</td>\n",
       "      <td>284991.000000</td>\n",
       "      <td>2.869770e+05</td>\n",
       "      <td>2.869770e+05</td>\n",
       "      <td>2.710890e+05</td>\n",
       "    </tr>\n",
       "    <tr>\n",
       "      <th>mean</th>\n",
       "      <td>19.718719</td>\n",
       "      <td>22.182084</td>\n",
       "      <td>7.623394e+05</td>\n",
       "      <td>1.189195e+04</td>\n",
       "      <td>8.568111e+04</td>\n",
       "    </tr>\n",
       "    <tr>\n",
       "      <th>std</th>\n",
       "      <td>25.911394</td>\n",
       "      <td>77.735286</td>\n",
       "      <td>4.096779e+06</td>\n",
       "      <td>5.841957e+04</td>\n",
       "      <td>7.553919e+05</td>\n",
       "    </tr>\n",
       "    <tr>\n",
       "      <th>min</th>\n",
       "      <td>-71.949900</td>\n",
       "      <td>-178.116500</td>\n",
       "      <td>0.000000e+00</td>\n",
       "      <td>0.000000e+00</td>\n",
       "      <td>-1.000000e+00</td>\n",
       "    </tr>\n",
       "    <tr>\n",
       "      <th>25%</th>\n",
       "      <td>3.933900</td>\n",
       "      <td>-42.604300</td>\n",
       "      <td>4.120000e+02</td>\n",
       "      <td>2.000000e+00</td>\n",
       "      <td>0.000000e+00</td>\n",
       "    </tr>\n",
       "    <tr>\n",
       "      <th>50%</th>\n",
       "      <td>21.512583</td>\n",
       "      <td>20.939400</td>\n",
       "      <td>9.980000e+03</td>\n",
       "      <td>1.130000e+02</td>\n",
       "      <td>0.000000e+00</td>\n",
       "    </tr>\n",
       "    <tr>\n",
       "      <th>75%</th>\n",
       "      <td>40.463667</td>\n",
       "      <td>90.356300</td>\n",
       "      <td>1.693960e+05</td>\n",
       "      <td>2.451000e+03</td>\n",
       "      <td>1.707000e+03</td>\n",
       "    </tr>\n",
       "    <tr>\n",
       "      <th>max</th>\n",
       "      <td>71.706900</td>\n",
       "      <td>178.065000</td>\n",
       "      <td>9.672111e+07</td>\n",
       "      <td>1.062681e+06</td>\n",
       "      <td>3.097475e+07</td>\n",
       "    </tr>\n",
       "  </tbody>\n",
       "</table>\n",
       "</div>"
      ],
      "text/plain": [
       "                 lat           long     confirmed         death      recoverd\n",
       "count  284991.000000  284991.000000  2.869770e+05  2.869770e+05  2.710890e+05\n",
       "mean       19.718719      22.182084  7.623394e+05  1.189195e+04  8.568111e+04\n",
       "std        25.911394      77.735286  4.096779e+06  5.841957e+04  7.553919e+05\n",
       "min       -71.949900    -178.116500  0.000000e+00  0.000000e+00 -1.000000e+00\n",
       "25%         3.933900     -42.604300  4.120000e+02  2.000000e+00  0.000000e+00\n",
       "50%        21.512583      20.939400  9.980000e+03  1.130000e+02  0.000000e+00\n",
       "75%        40.463667      90.356300  1.693960e+05  2.451000e+03  1.707000e+03\n",
       "max        71.706900     178.065000  9.672111e+07  1.062681e+06  3.097475e+07"
      ]
     },
     "execution_count": 8,
     "metadata": {},
     "output_type": "execute_result"
    }
   ],
   "source": [
    "df.describe()"
   ]
  },
  {
   "cell_type": "code",
   "execution_count": null,
   "id": "2b3f8f44-aca1-4e1f-a6ec-d958eca8aef1",
   "metadata": {},
   "outputs": [],
   "source": []
  }
 ],
 "metadata": {
  "kernelspec": {
   "display_name": "Python 3 (ipykernel)",
   "language": "python",
   "name": "python3"
  },
  "language_info": {
   "codemirror_mode": {
    "name": "ipython",
    "version": 3
   },
   "file_extension": ".py",
   "mimetype": "text/x-python",
   "name": "python",
   "nbconvert_exporter": "python",
   "pygments_lexer": "ipython3",
   "version": "3.9.13"
  }
 },
 "nbformat": 4,
 "nbformat_minor": 5
}
