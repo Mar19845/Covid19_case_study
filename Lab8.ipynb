{
 "cells": [
  {
   "cell_type": "markdown",
   "id": "616e8da0-20f4-447a-9dba-a24a1cdea650",
   "metadata": {},
   "source": [
    "## Universidad del Valle de Guatemala\n",
    "### Data Science\n",
    "#### Juan Marroquin 19845\n",
    "#### Carlos Raxtum 19721"
   ]
  },
  {
   "cell_type": "code",
   "execution_count": 1,
   "id": "38801c5e-cefe-4d01-bec1-011571eb3139",
   "metadata": {},
   "outputs": [],
   "source": [
    "import seaborn as sns\n",
    "import matplotlib.pyplot as plt\n",
    "import pandas as pd\n",
    "import numpy as np\n",
    "from mpl_toolkits.mplot3d import Axes3D"
   ]
  },
  {
   "cell_type": "markdown",
   "id": "7f37b523-f9c9-41c0-8a0b-9196ac2088c8",
   "metadata": {},
   "source": [
    "#### PRIMEROS 3 EJERCICIOS EN EL NOTEBOOK getInfo.ipynb"
   ]
  },
  {
   "cell_type": "code",
   "execution_count": 2,
   "id": "d4e88054-36c1-4d08-92f7-ee265ba9e91b",
   "metadata": {},
   "outputs": [
    {
     "name": "stderr",
     "output_type": "stream",
     "text": [
      "C:\\Users\\melma\\AppData\\Local\\Temp\\ipykernel_2744\\3704449094.py:1: DtypeWarning: Columns (1) have mixed types. Specify dtype option on import or set low_memory=False.\n",
      "  df = pd.read_csv('covid19.csv',encoding='utf-8')\n"
     ]
    }
   ],
   "source": [
    "df = pd.read_csv('covid19.csv',encoding='utf-8')"
   ]
  },
  {
   "cell_type": "markdown",
   "id": "ae839f39-c393-42af-b2d4-fe737129a1fc",
   "metadata": {},
   "source": [
    "##### drop subregion column"
   ]
  },
  {
   "cell_type": "code",
   "execution_count": 3,
   "id": "8bb140ad-1e65-4abe-b764-6c832276ead2",
   "metadata": {},
   "outputs": [],
   "source": [
    "df = df.drop(['subregion'], axis=1)"
   ]
  },
  {
   "cell_type": "markdown",
   "id": "da8e6b04-0ff7-47e8-abda-23985a2fb1ae",
   "metadata": {},
   "source": [
    "##### check for negative values and removed it"
   ]
  },
  {
   "cell_type": "code",
   "execution_count": 4,
   "id": "e530a753-87e3-48f6-9b8b-e34b1f125abf",
   "metadata": {},
   "outputs": [],
   "source": [
    "df = df.query('not (confirmed < 0 or death < 0 or recovered <0) ')"
   ]
  },
  {
   "cell_type": "markdown",
   "id": "a93bac5b-0b34-42d4-8d3c-2bebcb45fd11",
   "metadata": {},
   "source": [
    "##### drop duplicates"
   ]
  },
  {
   "cell_type": "code",
   "execution_count": 5,
   "id": "f9a2c797-d2d4-4dd6-855d-c6254d5be315",
   "metadata": {},
   "outputs": [],
   "source": [
    "df = df.drop_duplicates()"
   ]
  },
  {
   "cell_type": "markdown",
   "id": "5849797c-1a33-4bea-9a96-f7135b0a7c44",
   "metadata": {},
   "source": [
    "#### Analisis Exploratorio"
   ]
  },
  {
   "cell_type": "code",
   "execution_count": 6,
   "id": "c712c0ba-686c-4494-9ec1-5d4c3910de9e",
   "metadata": {},
   "outputs": [
    {
     "data": {
      "text/html": [
       "<div>\n",
       "<style scoped>\n",
       "    .dataframe tbody tr th:only-of-type {\n",
       "        vertical-align: middle;\n",
       "    }\n",
       "\n",
       "    .dataframe tbody tr th {\n",
       "        vertical-align: top;\n",
       "    }\n",
       "\n",
       "    .dataframe thead th {\n",
       "        text-align: right;\n",
       "    }\n",
       "</style>\n",
       "<table border=\"1\" class=\"dataframe\">\n",
       "  <thead>\n",
       "    <tr style=\"text-align: right;\">\n",
       "      <th></th>\n",
       "      <th>country</th>\n",
       "      <th>date</th>\n",
       "      <th>lat</th>\n",
       "      <th>long</th>\n",
       "      <th>confirmed</th>\n",
       "      <th>death</th>\n",
       "      <th>recovered</th>\n",
       "      <th>population</th>\n",
       "      <th>area_sq_km</th>\n",
       "      <th>density_sq_km</th>\n",
       "    </tr>\n",
       "  </thead>\n",
       "  <tbody>\n",
       "    <tr>\n",
       "      <th>0</th>\n",
       "      <td>Afghanistan</td>\n",
       "      <td>2020-01-22</td>\n",
       "      <td>33.93911</td>\n",
       "      <td>67.709953</td>\n",
       "      <td>0</td>\n",
       "      <td>0</td>\n",
       "      <td>0.0</td>\n",
       "      <td>41439625.0</td>\n",
       "      <td>652230.0</td>\n",
       "      <td>63.0</td>\n",
       "    </tr>\n",
       "    <tr>\n",
       "      <th>1</th>\n",
       "      <td>Afghanistan</td>\n",
       "      <td>2020-01-23</td>\n",
       "      <td>33.93911</td>\n",
       "      <td>67.709953</td>\n",
       "      <td>0</td>\n",
       "      <td>0</td>\n",
       "      <td>0.0</td>\n",
       "      <td>41439625.0</td>\n",
       "      <td>652230.0</td>\n",
       "      <td>63.0</td>\n",
       "    </tr>\n",
       "    <tr>\n",
       "      <th>2</th>\n",
       "      <td>Afghanistan</td>\n",
       "      <td>2020-01-24</td>\n",
       "      <td>33.93911</td>\n",
       "      <td>67.709953</td>\n",
       "      <td>0</td>\n",
       "      <td>0</td>\n",
       "      <td>0.0</td>\n",
       "      <td>41439625.0</td>\n",
       "      <td>652230.0</td>\n",
       "      <td>63.0</td>\n",
       "    </tr>\n",
       "    <tr>\n",
       "      <th>3</th>\n",
       "      <td>Afghanistan</td>\n",
       "      <td>2020-01-25</td>\n",
       "      <td>33.93911</td>\n",
       "      <td>67.709953</td>\n",
       "      <td>0</td>\n",
       "      <td>0</td>\n",
       "      <td>0.0</td>\n",
       "      <td>41439625.0</td>\n",
       "      <td>652230.0</td>\n",
       "      <td>63.0</td>\n",
       "    </tr>\n",
       "    <tr>\n",
       "      <th>4</th>\n",
       "      <td>Afghanistan</td>\n",
       "      <td>2020-01-26</td>\n",
       "      <td>33.93911</td>\n",
       "      <td>67.709953</td>\n",
       "      <td>0</td>\n",
       "      <td>0</td>\n",
       "      <td>0.0</td>\n",
       "      <td>41439625.0</td>\n",
       "      <td>652230.0</td>\n",
       "      <td>63.0</td>\n",
       "    </tr>\n",
       "  </tbody>\n",
       "</table>\n",
       "</div>"
      ],
      "text/plain": [
       "       country        date       lat       long  confirmed  death  recovered  \\\n",
       "0  Afghanistan  2020-01-22  33.93911  67.709953          0      0        0.0   \n",
       "1  Afghanistan  2020-01-23  33.93911  67.709953          0      0        0.0   \n",
       "2  Afghanistan  2020-01-24  33.93911  67.709953          0      0        0.0   \n",
       "3  Afghanistan  2020-01-25  33.93911  67.709953          0      0        0.0   \n",
       "4  Afghanistan  2020-01-26  33.93911  67.709953          0      0        0.0   \n",
       "\n",
       "   population  area_sq_km  density_sq_km  \n",
       "0  41439625.0    652230.0           63.0  \n",
       "1  41439625.0    652230.0           63.0  \n",
       "2  41439625.0    652230.0           63.0  \n",
       "3  41439625.0    652230.0           63.0  \n",
       "4  41439625.0    652230.0           63.0  "
      ]
     },
     "execution_count": 6,
     "metadata": {},
     "output_type": "execute_result"
    }
   ],
   "source": [
    "df.head()"
   ]
  },
  {
   "cell_type": "markdown",
   "id": "3868eb0f-9a9b-4047-89cd-a09c348a6eab",
   "metadata": {},
   "source": [
    "##### Shape of dataframe"
   ]
  },
  {
   "cell_type": "code",
   "execution_count": 7,
   "id": "c641d442-bf33-4844-93fa-cb75a829955c",
   "metadata": {},
   "outputs": [
    {
     "data": {
      "text/plain": [
       "(270481, 10)"
      ]
     },
     "execution_count": 7,
     "metadata": {},
     "output_type": "execute_result"
    }
   ],
   "source": [
    "df.shape"
   ]
  },
  {
   "cell_type": "markdown",
   "id": "43ebec1d-342e-4f55-8882-95295eea5e51",
   "metadata": {},
   "source": [
    "##### Describe df"
   ]
  },
  {
   "cell_type": "code",
   "execution_count": 8,
   "id": "081c9f22-ab2e-45e9-a78d-27dc3b16474d",
   "metadata": {},
   "outputs": [
    {
     "data": {
      "text/html": [
       "<div>\n",
       "<style scoped>\n",
       "    .dataframe tbody tr th:only-of-type {\n",
       "        vertical-align: middle;\n",
       "    }\n",
       "\n",
       "    .dataframe tbody tr th {\n",
       "        vertical-align: top;\n",
       "    }\n",
       "\n",
       "    .dataframe thead th {\n",
       "        text-align: right;\n",
       "    }\n",
       "</style>\n",
       "<table border=\"1\" class=\"dataframe\">\n",
       "  <thead>\n",
       "    <tr style=\"text-align: right;\">\n",
       "      <th></th>\n",
       "      <th>lat</th>\n",
       "      <th>long</th>\n",
       "      <th>confirmed</th>\n",
       "      <th>death</th>\n",
       "      <th>recovered</th>\n",
       "      <th>population</th>\n",
       "      <th>area_sq_km</th>\n",
       "      <th>density_sq_km</th>\n",
       "    </tr>\n",
       "  </thead>\n",
       "  <tbody>\n",
       "    <tr>\n",
       "      <th>count</th>\n",
       "      <td>268477.000000</td>\n",
       "      <td>268477.000000</td>\n",
       "      <td>2.704810e+05</td>\n",
       "      <td>2.704810e+05</td>\n",
       "      <td>2.545000e+05</td>\n",
       "      <td>2.704810e+05</td>\n",
       "      <td>2.704810e+05</td>\n",
       "      <td>270481.000000</td>\n",
       "    </tr>\n",
       "    <tr>\n",
       "      <th>mean</th>\n",
       "      <td>20.471120</td>\n",
       "      <td>22.314081</td>\n",
       "      <td>8.256086e+05</td>\n",
       "      <td>1.274123e+04</td>\n",
       "      <td>9.060618e+04</td>\n",
       "      <td>2.124795e+08</td>\n",
       "      <td>2.456829e+06</td>\n",
       "      <td>256.165409</td>\n",
       "    </tr>\n",
       "    <tr>\n",
       "      <th>std</th>\n",
       "      <td>25.694558</td>\n",
       "      <td>78.806949</td>\n",
       "      <td>4.286766e+06</td>\n",
       "      <td>6.075034e+04</td>\n",
       "      <td>7.793106e+05</td>\n",
       "      <td>4.701630e+08</td>\n",
       "      <td>3.935168e+06</td>\n",
       "      <td>1226.916897</td>\n",
       "    </tr>\n",
       "    <tr>\n",
       "      <th>min</th>\n",
       "      <td>-51.796300</td>\n",
       "      <td>-178.116500</td>\n",
       "      <td>0.000000e+00</td>\n",
       "      <td>0.000000e+00</td>\n",
       "      <td>0.000000e+00</td>\n",
       "      <td>5.100000e+02</td>\n",
       "      <td>1.000000e+00</td>\n",
       "      <td>2.000000</td>\n",
       "    </tr>\n",
       "    <tr>\n",
       "      <th>25%</th>\n",
       "      <td>4.860416</td>\n",
       "      <td>-51.925300</td>\n",
       "      <td>4.720000e+02</td>\n",
       "      <td>3.000000e+00</td>\n",
       "      <td>0.000000e+00</td>\n",
       "      <td>5.197606e+06</td>\n",
       "      <td>5.110000e+04</td>\n",
       "      <td>29.000000</td>\n",
       "    </tr>\n",
       "    <tr>\n",
       "      <th>50%</th>\n",
       "      <td>22.300000</td>\n",
       "      <td>21.745300</td>\n",
       "      <td>1.174200e+04</td>\n",
       "      <td>1.250000e+02</td>\n",
       "      <td>0.000000e+00</td>\n",
       "      <td>2.283576e+07</td>\n",
       "      <td>2.729670e+05</td>\n",
       "      <td>115.000000</td>\n",
       "    </tr>\n",
       "    <tr>\n",
       "      <th>75%</th>\n",
       "      <td>41.204380</td>\n",
       "      <td>90.433600</td>\n",
       "      <td>1.984510e+05</td>\n",
       "      <td>2.695000e+03</td>\n",
       "      <td>1.802250e+03</td>\n",
       "      <td>6.604078e+07</td>\n",
       "      <td>1.904569e+06</td>\n",
       "      <td>171.000000</td>\n",
       "    </tr>\n",
       "    <tr>\n",
       "      <th>max</th>\n",
       "      <td>71.706900</td>\n",
       "      <td>178.065000</td>\n",
       "      <td>9.708366e+07</td>\n",
       "      <td>1.066584e+06</td>\n",
       "      <td>3.097475e+07</td>\n",
       "      <td>1.425866e+09</td>\n",
       "      <td>1.709824e+07</td>\n",
       "      <td>18235.000000</td>\n",
       "    </tr>\n",
       "  </tbody>\n",
       "</table>\n",
       "</div>"
      ],
      "text/plain": [
       "                 lat           long     confirmed         death     recovered  \\\n",
       "count  268477.000000  268477.000000  2.704810e+05  2.704810e+05  2.545000e+05   \n",
       "mean       20.471120      22.314081  8.256086e+05  1.274123e+04  9.060618e+04   \n",
       "std        25.694558      78.806949  4.286766e+06  6.075034e+04  7.793106e+05   \n",
       "min       -51.796300    -178.116500  0.000000e+00  0.000000e+00  0.000000e+00   \n",
       "25%         4.860416     -51.925300  4.720000e+02  3.000000e+00  0.000000e+00   \n",
       "50%        22.300000      21.745300  1.174200e+04  1.250000e+02  0.000000e+00   \n",
       "75%        41.204380      90.433600  1.984510e+05  2.695000e+03  1.802250e+03   \n",
       "max        71.706900     178.065000  9.708366e+07  1.066584e+06  3.097475e+07   \n",
       "\n",
       "         population    area_sq_km  density_sq_km  \n",
       "count  2.704810e+05  2.704810e+05  270481.000000  \n",
       "mean   2.124795e+08  2.456829e+06     256.165409  \n",
       "std    4.701630e+08  3.935168e+06    1226.916897  \n",
       "min    5.100000e+02  1.000000e+00       2.000000  \n",
       "25%    5.197606e+06  5.110000e+04      29.000000  \n",
       "50%    2.283576e+07  2.729670e+05     115.000000  \n",
       "75%    6.604078e+07  1.904569e+06     171.000000  \n",
       "max    1.425866e+09  1.709824e+07   18235.000000  "
      ]
     },
     "execution_count": 8,
     "metadata": {},
     "output_type": "execute_result"
    }
   ],
   "source": [
    "df.describe()"
   ]
  },
  {
   "cell_type": "code",
   "execution_count": 9,
   "id": "2b3f8f44-aca1-4e1f-a6ec-d958eca8aef1",
   "metadata": {},
   "outputs": [
    {
     "name": "stdout",
     "output_type": "stream",
     "text": [
      "<class 'pandas.core.frame.DataFrame'>\n",
      "Int64Index: 270481 entries, 0 to 270539\n",
      "Data columns (total 10 columns):\n",
      " #   Column         Non-Null Count   Dtype  \n",
      "---  ------         --------------   -----  \n",
      " 0   country        270481 non-null  object \n",
      " 1   date           270481 non-null  object \n",
      " 2   lat            268477 non-null  float64\n",
      " 3   long           268477 non-null  float64\n",
      " 4   confirmed      270481 non-null  int64  \n",
      " 5   death          270481 non-null  int64  \n",
      " 6   recovered      254500 non-null  float64\n",
      " 7   population     270481 non-null  float64\n",
      " 8   area_sq_km     270481 non-null  float64\n",
      " 9   density_sq_km  270481 non-null  float64\n",
      "dtypes: float64(6), int64(2), object(2)\n",
      "memory usage: 22.7+ MB\n"
     ]
    }
   ],
   "source": [
    "df.info()"
   ]
  },
  {
   "cell_type": "code",
   "execution_count": 10,
   "id": "95074007-b4ce-4a18-bfce-f13c9fb57ec6",
   "metadata": {},
   "outputs": [],
   "source": [
    "# replace nan in recoverd column with 0\n",
    "# we asume a Nan values means that nobody was recoverd from covid that day\n",
    "df['recovered']=df['recovered'].fillna(0)"
   ]
  },
  {
   "cell_type": "code",
   "execution_count": 11,
   "id": "9a94fd72-3191-407b-82c7-318316d4025a",
   "metadata": {},
   "outputs": [
    {
     "data": {
      "text/plain": [
       "array(['Afghanistan', 'Albania', 'Algeria', 'Andorra', 'Angola',\n",
       "       'Argentina', 'Armenia', 'Australia', 'Austria', 'Azerbaijan',\n",
       "       'Bahamas', 'Bahrain', 'Bangladesh', 'Barbados', 'Belarus',\n",
       "       'Belgium', 'Belize', 'Benin', 'Bhutan', 'Bolivia', 'Botswana',\n",
       "       'Brazil', 'Brunei', 'Bulgaria', 'Burkina Faso', 'Burundi',\n",
       "       'Cape Verde', 'Cambodia', 'Cameroon', 'Canada',\n",
       "       'Central African Republic', 'Chad', 'Chile', 'China', 'Colombia',\n",
       "       'Comoros', 'Costa Rica', 'Ivory Coast', 'Croatia', 'Cuba',\n",
       "       'Cyprus', 'Czech Republic', 'Denmark', 'Djibouti', 'Dominica',\n",
       "       'Dominican Republic', 'Ecuador', 'Egypt', 'El Salvador',\n",
       "       'Equatorial Guinea', 'Eritrea', 'Estonia', 'Ethiopia', 'Fiji',\n",
       "       'Finland', 'France', 'Gabon', 'Gambia', 'Georgia', 'Germany',\n",
       "       'Ghana', 'Greece', 'Grenada', 'Guatemala', 'Guinea', 'Guyana',\n",
       "       'Haiti', 'Vatican City', 'Honduras', 'Hungary', 'Iceland', 'India',\n",
       "       'Indonesia', 'Iran', 'Iraq', 'Ireland', 'Israel', 'Italy',\n",
       "       'Jamaica', 'Japan', 'Jordan', 'Kazakhstan', 'Kenya', 'Kiribati',\n",
       "       'North Korea', 'South Korea', 'Kuwait', 'Kyrgyzstan', 'Laos',\n",
       "       'Latvia', 'Lebanon', 'Lesotho', 'Liberia', 'Libya',\n",
       "       'Liechtenstein', 'Lithuania', 'Luxembourg', 'Madagascar', 'Malawi',\n",
       "       'Malaysia', 'Maldives', 'Mali', 'Malta', 'Marshall Islands',\n",
       "       'Mauritania', 'Mauritius', 'Mexico', 'Micronesia', 'Moldova',\n",
       "       'Monaco', 'Mongolia', 'Montenegro', 'Morocco', 'Mozambique',\n",
       "       'Namibia', 'Nauru', 'Nepal', 'Netherlands', 'New Zealand',\n",
       "       'Nicaragua', 'Niger', 'Nigeria', 'North Macedonia', 'Norway',\n",
       "       'Oman', 'Pakistan', 'Palau', 'Panama', 'Papua New Guinea',\n",
       "       'Paraguay', 'Peru', 'Philippines', 'Poland', 'Portugal', 'Qatar',\n",
       "       'Romania', 'Russia', 'Rwanda', 'Saint Lucia', 'Samoa',\n",
       "       'San Marino', 'Saudi Arabia', 'Senegal', 'Serbia', 'Seychelles',\n",
       "       'Sierra Leone', 'Singapore', 'Slovakia', 'Slovenia',\n",
       "       'Solomon Islands', 'Somalia', 'South Africa', 'South Sudan',\n",
       "       'Spain', 'Sri Lanka', 'Sudan', 'Suriname', 'Sweden', 'Switzerland',\n",
       "       'Syria', 'Taiwan', 'Tajikistan', 'Tanzania', 'Thailand', 'Togo',\n",
       "       'Tonga', 'Tunisia', 'Turkey', 'Tuvalu', 'US', 'Uganda', 'Ukraine',\n",
       "       'United Arab Emirates', 'United Kingdom', 'Uruguay', 'Uzbekistan',\n",
       "       'Vanuatu', 'Venezuela', 'Vietnam', 'Yemen', 'Zambia', 'Zimbabwe'],\n",
       "      dtype=object)"
      ]
     },
     "execution_count": 11,
     "metadata": {},
     "output_type": "execute_result"
    }
   ],
   "source": [
    "df['country'].unique()"
   ]
  },
  {
   "cell_type": "code",
   "execution_count": 12,
   "id": "d0897ba2-70dc-4a9f-a443-1524601de55a",
   "metadata": {},
   "outputs": [],
   "source": [
    "# remove from the country columns\n",
    "remove_country = ['Diamond Princess','Winter Olympics 2022','MS Zaandam','Summer Olympics 2020']\n",
    "for fake in remove_country:\n",
    "    df = df.drop(df[df.country == fake ].index)\n",
    "    df.reset_index(drop=True)"
   ]
  },
  {
   "cell_type": "markdown",
   "id": "3ee94f3d-3160-45d2-91dd-5660a57e2593",
   "metadata": {},
   "source": [
    "#### Null values in dataset"
   ]
  },
  {
   "cell_type": "code",
   "execution_count": 13,
   "id": "2faa229f-9d74-4d58-86d8-7779dc8296ab",
   "metadata": {},
   "outputs": [
    {
     "data": {
      "text/plain": [
       "[Text(0.5, 1.0, 'Null values in dataset')]"
      ]
     },
     "execution_count": 13,
     "metadata": {},
     "output_type": "execute_result"
    },
    {
     "data": {
      "image/png": "[encoded data removed]",
      "text/plain": [
       "<Figure size 432x288 with 1 Axes>"
      ]
     },
     "metadata": {
      "needs_background": "light"
     },
     "output_type": "display_data"
    }
   ],
   "source": [
    "figure = sns.heatmap(df.isnull(), yticklabels = False, cbar = False, cmap=\"Blues\")\n",
    "figure.set(title = \"Null values in dataset\")"
   ]
  },
  {
   "cell_type": "code",
   "execution_count": 14,
   "id": "2539a98b-87f7-482b-a23f-10bfab091948",
   "metadata": {},
   "outputs": [
    {
     "data": {
      "text/plain": [
       "country             0\n",
       "date                0\n",
       "lat              2004\n",
       "long             2004\n",
       "confirmed           0\n",
       "death               0\n",
       "recovered           0\n",
       "population          0\n",
       "area_sq_km          0\n",
       "density_sq_km       0\n",
       "dtype: int64"
      ]
     },
     "execution_count": 14,
     "metadata": {},
     "output_type": "execute_result"
    }
   ],
   "source": [
    "df.isnull().sum()"
   ]
  },
  {
   "cell_type": "markdown",
   "id": "df152a57-197b-4548-87bf-da4cf568f712",
   "metadata": {},
   "source": [
    "##### Get what Countries does not have lat and long values"
   ]
  },
  {
   "cell_type": "code",
   "execution_count": 15,
   "id": "d20e3ccc-ea3d-47c5-ad1b-f90ccb652efa",
   "metadata": {},
   "outputs": [
    {
     "data": {
      "text/plain": [
       "array(['Canada', 'China'], dtype=object)"
      ]
     },
     "execution_count": 15,
     "metadata": {},
     "output_type": "execute_result"
    }
   ],
   "source": [
    "df[df.lat.isnull()].country.unique()"
   ]
  },
  {
   "cell_type": "code",
   "execution_count": 16,
   "id": "dc768f90-bcdf-4ce6-b672-8e4ae6816169",
   "metadata": {},
   "outputs": [],
   "source": [
    "coutries_lat_long = {\n",
    "    'Canada': {\n",
    "        'lat': 45.424721,\n",
    "        'long':-75.695000\n",
    "    },\n",
    "    'China': {\n",
    "        'lat':39.916668,\n",
    "        'long':116.383331\n",
    "    },\n",
    "}"
   ]
  },
  {
   "cell_type": "markdown",
   "id": "67167d35-a53b-4bfd-a9cb-7b8f4ab67669",
   "metadata": {},
   "source": [
    "##### Replace the Nan values"
   ]
  },
  {
   "cell_type": "code",
   "execution_count": 17,
   "id": "47735583-add2-4265-b957-75cda1305b6b",
   "metadata": {},
   "outputs": [],
   "source": [
    "for country_fix in coutries_lat_long:\n",
    "    df.loc[df[\"country\"] == country_fix, \"lat\"] = coutries_lat_long[country_fix]['lat']\n",
    "    df.loc[df[\"country\"] == country_fix, \"long\"] = coutries_lat_long[country_fix]['long']"
   ]
  },
  {
   "cell_type": "markdown",
   "id": "d2a39235-c71f-4d31-88fb-d1a8e0a721ae",
   "metadata": {},
   "source": [
    "## After cleaning the data get the new statistics "
   ]
  },
  {
   "cell_type": "code",
   "execution_count": 18,
   "id": "209d2666-2dc1-4687-92db-4f861900b50d",
   "metadata": {},
   "outputs": [
    {
     "data": {
      "text/html": [
       "<div>\n",
       "<style scoped>\n",
       "    .dataframe tbody tr th:only-of-type {\n",
       "        vertical-align: middle;\n",
       "    }\n",
       "\n",
       "    .dataframe tbody tr th {\n",
       "        vertical-align: top;\n",
       "    }\n",
       "\n",
       "    .dataframe thead th {\n",
       "        text-align: right;\n",
       "    }\n",
       "</style>\n",
       "<table border=\"1\" class=\"dataframe\">\n",
       "  <thead>\n",
       "    <tr style=\"text-align: right;\">\n",
       "      <th></th>\n",
       "      <th>lat</th>\n",
       "      <th>long</th>\n",
       "      <th>confirmed</th>\n",
       "      <th>death</th>\n",
       "      <th>recovered</th>\n",
       "      <th>population</th>\n",
       "      <th>area_sq_km</th>\n",
       "      <th>density_sq_km</th>\n",
       "    </tr>\n",
       "  </thead>\n",
       "  <tbody>\n",
       "    <tr>\n",
       "      <th>count</th>\n",
       "      <td>270481.000000</td>\n",
       "      <td>270481.000000</td>\n",
       "      <td>2.704810e+05</td>\n",
       "      <td>2.704810e+05</td>\n",
       "      <td>2.704810e+05</td>\n",
       "      <td>2.704810e+05</td>\n",
       "      <td>2.704810e+05</td>\n",
       "      <td>270481.000000</td>\n",
       "    </tr>\n",
       "    <tr>\n",
       "      <th>mean</th>\n",
       "      <td>21.384504</td>\n",
       "      <td>23.124621</td>\n",
       "      <td>8.256086e+05</td>\n",
       "      <td>1.274123e+04</td>\n",
       "      <td>8.525284e+04</td>\n",
       "      <td>2.124795e+08</td>\n",
       "      <td>2.456829e+06</td>\n",
       "      <td>256.165409</td>\n",
       "    </tr>\n",
       "    <tr>\n",
       "      <th>std</th>\n",
       "      <td>25.542569</td>\n",
       "      <td>78.644519</td>\n",
       "      <td>4.286766e+06</td>\n",
       "      <td>6.075034e+04</td>\n",
       "      <td>7.562396e+05</td>\n",
       "      <td>4.701630e+08</td>\n",
       "      <td>3.935168e+06</td>\n",
       "      <td>1226.916897</td>\n",
       "    </tr>\n",
       "    <tr>\n",
       "      <th>min</th>\n",
       "      <td>-51.796300</td>\n",
       "      <td>-178.116500</td>\n",
       "      <td>0.000000e+00</td>\n",
       "      <td>0.000000e+00</td>\n",
       "      <td>0.000000e+00</td>\n",
       "      <td>5.100000e+02</td>\n",
       "      <td>1.000000e+00</td>\n",
       "      <td>2.000000</td>\n",
       "    </tr>\n",
       "    <tr>\n",
       "      <th>25%</th>\n",
       "      <td>6.423800</td>\n",
       "      <td>-55.765800</td>\n",
       "      <td>4.720000e+02</td>\n",
       "      <td>3.000000e+00</td>\n",
       "      <td>0.000000e+00</td>\n",
       "      <td>5.197606e+06</td>\n",
       "      <td>5.110000e+04</td>\n",
       "      <td>29.000000</td>\n",
       "    </tr>\n",
       "    <tr>\n",
       "      <th>50%</th>\n",
       "      <td>23.885942</td>\n",
       "      <td>21.745300</td>\n",
       "      <td>1.174200e+04</td>\n",
       "      <td>1.250000e+02</td>\n",
       "      <td>0.000000e+00</td>\n",
       "      <td>2.283576e+07</td>\n",
       "      <td>2.729670e+05</td>\n",
       "      <td>115.000000</td>\n",
       "    </tr>\n",
       "    <tr>\n",
       "      <th>75%</th>\n",
       "      <td>40.463667</td>\n",
       "      <td>101.975766</td>\n",
       "      <td>1.984510e+05</td>\n",
       "      <td>2.695000e+03</td>\n",
       "      <td>1.310000e+03</td>\n",
       "      <td>6.604078e+07</td>\n",
       "      <td>1.904569e+06</td>\n",
       "      <td>171.000000</td>\n",
       "    </tr>\n",
       "    <tr>\n",
       "      <th>max</th>\n",
       "      <td>71.706900</td>\n",
       "      <td>178.065000</td>\n",
       "      <td>9.708366e+07</td>\n",
       "      <td>1.066584e+06</td>\n",
       "      <td>3.097475e+07</td>\n",
       "      <td>1.425866e+09</td>\n",
       "      <td>1.709824e+07</td>\n",
       "      <td>18235.000000</td>\n",
       "    </tr>\n",
       "  </tbody>\n",
       "</table>\n",
       "</div>"
      ],
      "text/plain": [
       "                 lat           long     confirmed         death     recovered  \\\n",
       "count  270481.000000  270481.000000  2.704810e+05  2.704810e+05  2.704810e+05   \n",
       "mean       21.384504      23.124621  8.256086e+05  1.274123e+04  8.525284e+04   \n",
       "std        25.542569      78.644519  4.286766e+06  6.075034e+04  7.562396e+05   \n",
       "min       -51.796300    -178.116500  0.000000e+00  0.000000e+00  0.000000e+00   \n",
       "25%         6.423800     -55.765800  4.720000e+02  3.000000e+00  0.000000e+00   \n",
       "50%        23.885942      21.745300  1.174200e+04  1.250000e+02  0.000000e+00   \n",
       "75%        40.463667     101.975766  1.984510e+05  2.695000e+03  1.310000e+03   \n",
       "max        71.706900     178.065000  9.708366e+07  1.066584e+06  3.097475e+07   \n",
       "\n",
       "         population    area_sq_km  density_sq_km  \n",
       "count  2.704810e+05  2.704810e+05  270481.000000  \n",
       "mean   2.124795e+08  2.456829e+06     256.165409  \n",
       "std    4.701630e+08  3.935168e+06    1226.916897  \n",
       "min    5.100000e+02  1.000000e+00       2.000000  \n",
       "25%    5.197606e+06  5.110000e+04      29.000000  \n",
       "50%    2.283576e+07  2.729670e+05     115.000000  \n",
       "75%    6.604078e+07  1.904569e+06     171.000000  \n",
       "max    1.425866e+09  1.709824e+07   18235.000000  "
      ]
     },
     "execution_count": 18,
     "metadata": {},
     "output_type": "execute_result"
    }
   ],
   "source": [
    "df.describe()"
   ]
  },
  {
   "cell_type": "code",
   "execution_count": 19,
   "id": "2cf65c5a-c075-432a-91d9-5bc3a62bc6c5",
   "metadata": {},
   "outputs": [
    {
     "name": "stdout",
     "output_type": "stream",
     "text": [
      "<class 'pandas.core.frame.DataFrame'>\n",
      "Int64Index: 270481 entries, 0 to 270539\n",
      "Data columns (total 10 columns):\n",
      " #   Column         Non-Null Count   Dtype  \n",
      "---  ------         --------------   -----  \n",
      " 0   country        270481 non-null  object \n",
      " 1   date           270481 non-null  object \n",
      " 2   lat            270481 non-null  float64\n",
      " 3   long           270481 non-null  float64\n",
      " 4   confirmed      270481 non-null  int64  \n",
      " 5   death          270481 non-null  int64  \n",
      " 6   recovered      270481 non-null  float64\n",
      " 7   population     270481 non-null  float64\n",
      " 8   area_sq_km     270481 non-null  float64\n",
      " 9   density_sq_km  270481 non-null  float64\n",
      "dtypes: float64(6), int64(2), object(2)\n",
      "memory usage: 22.7+ MB\n"
     ]
    }
   ],
   "source": [
    "df.info()"
   ]
  },
  {
   "cell_type": "markdown",
   "id": "1f7fb213-03c5-4674-aab2-c1a7ed789e18",
   "metadata": {},
   "source": [
    "#### Null values in dataset"
   ]
  },
  {
   "cell_type": "code",
   "execution_count": 20,
   "id": "36cdb8f0-95ca-478b-b5af-71e45d864ad9",
   "metadata": {},
   "outputs": [
    {
     "data": {
      "text/plain": [
       "[Text(0.5, 1.0, 'Null values in dataset')]"
      ]
     },
     "execution_count": 20,
     "metadata": {},
     "output_type": "execute_result"
    },
    {
     "data": {
      "image/png": "[encoded data removed]",
      "text/plain": [
       "<Figure size 432x288 with 1 Axes>"
      ]
     },
     "metadata": {
      "needs_background": "light"
     },
     "output_type": "display_data"
    }
   ],
   "source": [
    "figure = sns.heatmap(df.isnull(), yticklabels = False, cbar = False, cmap=\"Blues\")\n",
    "figure.set(title = \"Null values in dataset\")"
   ]
  },
  {
   "cell_type": "markdown",
   "id": "a7002789-58ae-44da-a3a9-be2e735a9319",
   "metadata": {},
   "source": [
    "#### Some graphs "
   ]
  },
  {
   "cell_type": "markdown",
   "id": "f5400b8c-44ba-4bfe-9ba6-90a7d0d5b4e5",
   "metadata": {},
   "source": [
    "### Create new column with the new cases of covid "
   ]
  },
  {
   "cell_type": "code",
   "execution_count": 21,
   "id": "873f4379-4c6a-4bd8-b10e-a4a27b242b71",
   "metadata": {},
   "outputs": [],
   "source": [
    "new_cases = df.sort_values(by=['country','date']).filter(['country','date','confirmed']).groupby(['country']).confirmed.diff()\n",
    "# manera de evitar casos negativos\n",
    "# 1 lambda\n",
    "# 2 if\n",
    "# 3 despues de aggergar la columna elimar los negativos"
   ]
  },
  {
   "cell_type": "code",
   "execution_count": 22,
   "id": "5d3ec6c4-b5b4-44cf-9637-6e11d31407bf",
   "metadata": {},
   "outputs": [],
   "source": [
    "df = df.assign(new_cases = new_cases)"
   ]
  },
  {
   "cell_type": "code",
   "execution_count": 23,
   "id": "ad795e21-0788-48ff-8dd4-4a7464176368",
   "metadata": {},
   "outputs": [],
   "source": [
    "df.loc[df['new_cases'] < 0, 'new_cases'] = 0"
   ]
  },
  {
   "cell_type": "markdown",
   "id": "16032c2e-67e2-416f-a733-2b53c37061db",
   "metadata": {},
   "source": [
    "### Create new column of the new infected people"
   ]
  },
  {
   "cell_type": "code",
   "execution_count": 24,
   "id": "b5fb99e3-f85f-4f80-9fd9-6c46b4e32abf",
   "metadata": {},
   "outputs": [],
   "source": [
    "df['infected'] = df.confirmed - df.death - df.recovered\n",
    "# manera de evitar casos negativos\n",
    "# 1 lambda\n",
    "# 2 if\n",
    "# 3 despues de aggergar la columna elimar los negativos"
   ]
  },
  {
   "cell_type": "code",
   "execution_count": 25,
   "id": "625b4c3f-5806-4958-8287-ed1f69039b0c",
   "metadata": {},
   "outputs": [],
   "source": [
    "df.loc[df['infected'] < 0, 'infected'] = 0"
   ]
  },
  {
   "cell_type": "code",
   "execution_count": 26,
   "id": "8852faee-330a-4520-b748-73acf447fd61",
   "metadata": {},
   "outputs": [
    {
     "data": {
      "text/html": [
       "<div>\n",
       "<style scoped>\n",
       "    .dataframe tbody tr th:only-of-type {\n",
       "        vertical-align: middle;\n",
       "    }\n",
       "\n",
       "    .dataframe tbody tr th {\n",
       "        vertical-align: top;\n",
       "    }\n",
       "\n",
       "    .dataframe thead th {\n",
       "        text-align: right;\n",
       "    }\n",
       "</style>\n",
       "<table border=\"1\" class=\"dataframe\">\n",
       "  <thead>\n",
       "    <tr style=\"text-align: right;\">\n",
       "      <th></th>\n",
       "      <th>country</th>\n",
       "      <th>date</th>\n",
       "      <th>lat</th>\n",
       "      <th>long</th>\n",
       "      <th>confirmed</th>\n",
       "      <th>death</th>\n",
       "      <th>recovered</th>\n",
       "      <th>population</th>\n",
       "      <th>area_sq_km</th>\n",
       "      <th>density_sq_km</th>\n",
       "      <th>new_cases</th>\n",
       "      <th>infected</th>\n",
       "    </tr>\n",
       "  </thead>\n",
       "  <tbody>\n",
       "    <tr>\n",
       "      <th>270535</th>\n",
       "      <td>Zimbabwe</td>\n",
       "      <td>2022-10-15</td>\n",
       "      <td>-19.015438</td>\n",
       "      <td>29.154857</td>\n",
       "      <td>257827</td>\n",
       "      <td>5605</td>\n",
       "      <td>0.0</td>\n",
       "      <td>16415563.0</td>\n",
       "      <td>390757.0</td>\n",
       "      <td>42.0</td>\n",
       "      <td>0.0</td>\n",
       "      <td>252222.0</td>\n",
       "    </tr>\n",
       "    <tr>\n",
       "      <th>270536</th>\n",
       "      <td>Zimbabwe</td>\n",
       "      <td>2022-10-16</td>\n",
       "      <td>-19.015438</td>\n",
       "      <td>29.154857</td>\n",
       "      <td>257893</td>\n",
       "      <td>5606</td>\n",
       "      <td>0.0</td>\n",
       "      <td>16415563.0</td>\n",
       "      <td>390757.0</td>\n",
       "      <td>42.0</td>\n",
       "      <td>66.0</td>\n",
       "      <td>252287.0</td>\n",
       "    </tr>\n",
       "    <tr>\n",
       "      <th>270537</th>\n",
       "      <td>Zimbabwe</td>\n",
       "      <td>2022-10-17</td>\n",
       "      <td>-19.015438</td>\n",
       "      <td>29.154857</td>\n",
       "      <td>257893</td>\n",
       "      <td>5606</td>\n",
       "      <td>0.0</td>\n",
       "      <td>16415563.0</td>\n",
       "      <td>390757.0</td>\n",
       "      <td>42.0</td>\n",
       "      <td>0.0</td>\n",
       "      <td>252287.0</td>\n",
       "    </tr>\n",
       "    <tr>\n",
       "      <th>270538</th>\n",
       "      <td>Zimbabwe</td>\n",
       "      <td>2022-10-18</td>\n",
       "      <td>-19.015438</td>\n",
       "      <td>29.154857</td>\n",
       "      <td>257893</td>\n",
       "      <td>5606</td>\n",
       "      <td>0.0</td>\n",
       "      <td>16415563.0</td>\n",
       "      <td>390757.0</td>\n",
       "      <td>42.0</td>\n",
       "      <td>0.0</td>\n",
       "      <td>252287.0</td>\n",
       "    </tr>\n",
       "    <tr>\n",
       "      <th>270539</th>\n",
       "      <td>Zimbabwe</td>\n",
       "      <td>2022-10-19</td>\n",
       "      <td>-19.015438</td>\n",
       "      <td>29.154857</td>\n",
       "      <td>257893</td>\n",
       "      <td>5606</td>\n",
       "      <td>0.0</td>\n",
       "      <td>16415563.0</td>\n",
       "      <td>390757.0</td>\n",
       "      <td>42.0</td>\n",
       "      <td>0.0</td>\n",
       "      <td>252287.0</td>\n",
       "    </tr>\n",
       "  </tbody>\n",
       "</table>\n",
       "</div>"
      ],
      "text/plain": [
       "         country        date        lat       long  confirmed  death  \\\n",
       "270535  Zimbabwe  2022-10-15 -19.015438  29.154857     257827   5605   \n",
       "270536  Zimbabwe  2022-10-16 -19.015438  29.154857     257893   5606   \n",
       "270537  Zimbabwe  2022-10-17 -19.015438  29.154857     257893   5606   \n",
       "270538  Zimbabwe  2022-10-18 -19.015438  29.154857     257893   5606   \n",
       "270539  Zimbabwe  2022-10-19 -19.015438  29.154857     257893   5606   \n",
       "\n",
       "        recovered  population  area_sq_km  density_sq_km  new_cases  infected  \n",
       "270535        0.0  16415563.0    390757.0           42.0        0.0  252222.0  \n",
       "270536        0.0  16415563.0    390757.0           42.0       66.0  252287.0  \n",
       "270537        0.0  16415563.0    390757.0           42.0        0.0  252287.0  \n",
       "270538        0.0  16415563.0    390757.0           42.0        0.0  252287.0  \n",
       "270539        0.0  16415563.0    390757.0           42.0        0.0  252287.0  "
      ]
     },
     "execution_count": 26,
     "metadata": {},
     "output_type": "execute_result"
    }
   ],
   "source": [
    "df.tail()"
   ]
  },
  {
   "cell_type": "code",
   "execution_count": 27,
   "id": "9bc4f0fc-9f8a-4f42-ba77-71437a8595c8",
   "metadata": {},
   "outputs": [
    {
     "data": {
      "text/html": [
       "<div>\n",
       "<style scoped>\n",
       "    .dataframe tbody tr th:only-of-type {\n",
       "        vertical-align: middle;\n",
       "    }\n",
       "\n",
       "    .dataframe tbody tr th {\n",
       "        vertical-align: top;\n",
       "    }\n",
       "\n",
       "    .dataframe thead th {\n",
       "        text-align: right;\n",
       "    }\n",
       "</style>\n",
       "<table border=\"1\" class=\"dataframe\">\n",
       "  <thead>\n",
       "    <tr style=\"text-align: right;\">\n",
       "      <th></th>\n",
       "      <th>lat</th>\n",
       "      <th>long</th>\n",
       "      <th>confirmed</th>\n",
       "      <th>death</th>\n",
       "      <th>recovered</th>\n",
       "      <th>population</th>\n",
       "      <th>area_sq_km</th>\n",
       "      <th>density_sq_km</th>\n",
       "      <th>new_cases</th>\n",
       "      <th>infected</th>\n",
       "    </tr>\n",
       "  </thead>\n",
       "  <tbody>\n",
       "    <tr>\n",
       "      <th>count</th>\n",
       "      <td>270481.000000</td>\n",
       "      <td>270481.000000</td>\n",
       "      <td>2.704810e+05</td>\n",
       "      <td>2.704810e+05</td>\n",
       "      <td>2.704810e+05</td>\n",
       "      <td>2.704810e+05</td>\n",
       "      <td>2.704810e+05</td>\n",
       "      <td>270481.000000</td>\n",
       "      <td>2.702990e+05</td>\n",
       "      <td>2.704810e+05</td>\n",
       "    </tr>\n",
       "    <tr>\n",
       "      <th>mean</th>\n",
       "      <td>21.384504</td>\n",
       "      <td>23.124621</td>\n",
       "      <td>8.256086e+05</td>\n",
       "      <td>1.274123e+04</td>\n",
       "      <td>8.525284e+04</td>\n",
       "      <td>2.124795e+08</td>\n",
       "      <td>2.456829e+06</td>\n",
       "      <td>256.165409</td>\n",
       "      <td>1.003089e+05</td>\n",
       "      <td>7.276938e+05</td>\n",
       "    </tr>\n",
       "    <tr>\n",
       "      <th>std</th>\n",
       "      <td>25.542569</td>\n",
       "      <td>78.644519</td>\n",
       "      <td>4.286766e+06</td>\n",
       "      <td>6.075034e+04</td>\n",
       "      <td>7.562396e+05</td>\n",
       "      <td>4.701630e+08</td>\n",
       "      <td>3.935168e+06</td>\n",
       "      <td>1226.916897</td>\n",
       "      <td>1.242191e+06</td>\n",
       "      <td>4.167060e+06</td>\n",
       "    </tr>\n",
       "    <tr>\n",
       "      <th>min</th>\n",
       "      <td>-51.796300</td>\n",
       "      <td>-178.116500</td>\n",
       "      <td>0.000000e+00</td>\n",
       "      <td>0.000000e+00</td>\n",
       "      <td>0.000000e+00</td>\n",
       "      <td>5.100000e+02</td>\n",
       "      <td>1.000000e+00</td>\n",
       "      <td>2.000000</td>\n",
       "      <td>0.000000e+00</td>\n",
       "      <td>0.000000e+00</td>\n",
       "    </tr>\n",
       "    <tr>\n",
       "      <th>25%</th>\n",
       "      <td>6.423800</td>\n",
       "      <td>-55.765800</td>\n",
       "      <td>4.720000e+02</td>\n",
       "      <td>3.000000e+00</td>\n",
       "      <td>0.000000e+00</td>\n",
       "      <td>5.197606e+06</td>\n",
       "      <td>5.110000e+04</td>\n",
       "      <td>29.000000</td>\n",
       "      <td>0.000000e+00</td>\n",
       "      <td>4.100000e+01</td>\n",
       "    </tr>\n",
       "    <tr>\n",
       "      <th>50%</th>\n",
       "      <td>23.885942</td>\n",
       "      <td>21.745300</td>\n",
       "      <td>1.174200e+04</td>\n",
       "      <td>1.250000e+02</td>\n",
       "      <td>0.000000e+00</td>\n",
       "      <td>2.283576e+07</td>\n",
       "      <td>2.729670e+05</td>\n",
       "      <td>115.000000</td>\n",
       "      <td>2.600000e+01</td>\n",
       "      <td>4.003000e+03</td>\n",
       "    </tr>\n",
       "    <tr>\n",
       "      <th>75%</th>\n",
       "      <td>40.463667</td>\n",
       "      <td>101.975766</td>\n",
       "      <td>1.984510e+05</td>\n",
       "      <td>2.695000e+03</td>\n",
       "      <td>1.310000e+03</td>\n",
       "      <td>6.604078e+07</td>\n",
       "      <td>1.904569e+06</td>\n",
       "      <td>171.000000</td>\n",
       "      <td>8.890000e+02</td>\n",
       "      <td>8.116000e+04</td>\n",
       "    </tr>\n",
       "    <tr>\n",
       "      <th>max</th>\n",
       "      <td>71.706900</td>\n",
       "      <td>178.065000</td>\n",
       "      <td>9.708366e+07</td>\n",
       "      <td>1.066584e+06</td>\n",
       "      <td>3.097475e+07</td>\n",
       "      <td>1.425866e+09</td>\n",
       "      <td>1.709824e+07</td>\n",
       "      <td>18235.000000</td>\n",
       "      <td>3.543479e+07</td>\n",
       "      <td>9.601708e+07</td>\n",
       "    </tr>\n",
       "  </tbody>\n",
       "</table>\n",
       "</div>"
      ],
      "text/plain": [
       "                 lat           long     confirmed         death     recovered  \\\n",
       "count  270481.000000  270481.000000  2.704810e+05  2.704810e+05  2.704810e+05   \n",
       "mean       21.384504      23.124621  8.256086e+05  1.274123e+04  8.525284e+04   \n",
       "std        25.542569      78.644519  4.286766e+06  6.075034e+04  7.562396e+05   \n",
       "min       -51.796300    -178.116500  0.000000e+00  0.000000e+00  0.000000e+00   \n",
       "25%         6.423800     -55.765800  4.720000e+02  3.000000e+00  0.000000e+00   \n",
       "50%        23.885942      21.745300  1.174200e+04  1.250000e+02  0.000000e+00   \n",
       "75%        40.463667     101.975766  1.984510e+05  2.695000e+03  1.310000e+03   \n",
       "max        71.706900     178.065000  9.708366e+07  1.066584e+06  3.097475e+07   \n",
       "\n",
       "         population    area_sq_km  density_sq_km     new_cases      infected  \n",
       "count  2.704810e+05  2.704810e+05  270481.000000  2.702990e+05  2.704810e+05  \n",
       "mean   2.124795e+08  2.456829e+06     256.165409  1.003089e+05  7.276938e+05  \n",
       "std    4.701630e+08  3.935168e+06    1226.916897  1.242191e+06  4.167060e+06  \n",
       "min    5.100000e+02  1.000000e+00       2.000000  0.000000e+00  0.000000e+00  \n",
       "25%    5.197606e+06  5.110000e+04      29.000000  0.000000e+00  4.100000e+01  \n",
       "50%    2.283576e+07  2.729670e+05     115.000000  2.600000e+01  4.003000e+03  \n",
       "75%    6.604078e+07  1.904569e+06     171.000000  8.890000e+02  8.116000e+04  \n",
       "max    1.425866e+09  1.709824e+07   18235.000000  3.543479e+07  9.601708e+07  "
      ]
     },
     "execution_count": 27,
     "metadata": {},
     "output_type": "execute_result"
    }
   ],
   "source": [
    "df.describe()"
   ]
  },
  {
   "cell_type": "code",
   "execution_count": 28,
   "id": "242f4308-474d-48db-aa6c-1453e1031c33",
   "metadata": {},
   "outputs": [
    {
     "data": {
      "text/html": [
       "<div>\n",
       "<style scoped>\n",
       "    .dataframe tbody tr th:only-of-type {\n",
       "        vertical-align: middle;\n",
       "    }\n",
       "\n",
       "    .dataframe tbody tr th {\n",
       "        vertical-align: top;\n",
       "    }\n",
       "\n",
       "    .dataframe thead th {\n",
       "        text-align: right;\n",
       "    }\n",
       "</style>\n",
       "<table border=\"1\" class=\"dataframe\">\n",
       "  <thead>\n",
       "    <tr style=\"text-align: right;\">\n",
       "      <th></th>\n",
       "      <th>country</th>\n",
       "      <th>date</th>\n",
       "      <th>lat</th>\n",
       "      <th>long</th>\n",
       "      <th>confirmed</th>\n",
       "      <th>death</th>\n",
       "      <th>recovered</th>\n",
       "      <th>population</th>\n",
       "      <th>area_sq_km</th>\n",
       "      <th>density_sq_km</th>\n",
       "      <th>new_cases</th>\n",
       "      <th>infected</th>\n",
       "    </tr>\n",
       "  </thead>\n",
       "  <tbody>\n",
       "  </tbody>\n",
       "</table>\n",
       "</div>"
      ],
      "text/plain": [
       "Empty DataFrame\n",
       "Columns: [country, date, lat, long, confirmed, death, recovered, population, area_sq_km, density_sq_km, new_cases, infected]\n",
       "Index: []"
      ]
     },
     "execution_count": 28,
     "metadata": {},
     "output_type": "execute_result"
    }
   ],
   "source": [
    "df.query('(new_cases < 0 or infected < 0) ')"
   ]
  },
  {
   "cell_type": "markdown",
   "id": "ad6ce193-f09f-4d40-b62e-4c057083831e",
   "metadata": {},
   "source": [
    "#### Normalize data"
   ]
  },
  {
   "cell_type": "code",
   "execution_count": 36,
   "id": "13620375-6b10-4925-a16f-3f06f3eadc4d",
   "metadata": {},
   "outputs": [],
   "source": [
    "df = df.assign(death_by_million=lambda x:(round((x['death'] * 100000) / x['population'])))\n",
    "df = df.assign(recovered_by_million=lambda x:(round((x['recovered'] * 100000) / x['population'])))\n",
    "df = df.assign(infected_by_million=lambda x:(round((x['infected'] * 100000) / x['population'])))\n",
    "df = df.assign(confirmed_by_million=lambda x:(round((x['confirmed'] * 100000) / x['population'])))"
   ]
  },
  {
   "cell_type": "code",
   "execution_count": 37,
   "id": "c16c2e58-86d8-4931-8dea-dbb9e09e85b1",
   "metadata": {},
   "outputs": [
    {
     "data": {
      "text/html": [
       "<div>\n",
       "<style scoped>\n",
       "    .dataframe tbody tr th:only-of-type {\n",
       "        vertical-align: middle;\n",
       "    }\n",
       "\n",
       "    .dataframe tbody tr th {\n",
       "        vertical-align: top;\n",
       "    }\n",
       "\n",
       "    .dataframe thead th {\n",
       "        text-align: right;\n",
       "    }\n",
       "</style>\n",
       "<table border=\"1\" class=\"dataframe\">\n",
       "  <thead>\n",
       "    <tr style=\"text-align: right;\">\n",
       "      <th></th>\n",
       "      <th>country</th>\n",
       "      <th>date</th>\n",
       "      <th>lat</th>\n",
       "      <th>long</th>\n",
       "      <th>confirmed</th>\n",
       "      <th>death</th>\n",
       "      <th>recovered</th>\n",
       "      <th>population</th>\n",
       "      <th>area_sq_km</th>\n",
       "      <th>density_sq_km</th>\n",
       "      <th>new_cases</th>\n",
       "      <th>infected</th>\n",
       "      <th>death_by_million</th>\n",
       "      <th>recovered_by_million</th>\n",
       "      <th>infected_by_million</th>\n",
       "      <th>confirmed_by_million</th>\n",
       "    </tr>\n",
       "  </thead>\n",
       "  <tbody>\n",
       "    <tr>\n",
       "      <th>270535</th>\n",
       "      <td>Zimbabwe</td>\n",
       "      <td>2022-10-15</td>\n",
       "      <td>-19.015438</td>\n",
       "      <td>29.154857</td>\n",
       "      <td>257827</td>\n",
       "      <td>5605</td>\n",
       "      <td>0.0</td>\n",
       "      <td>16415563.0</td>\n",
       "      <td>390757.0</td>\n",
       "      <td>42.0</td>\n",
       "      <td>0.0</td>\n",
       "      <td>252222.0</td>\n",
       "      <td>34.0</td>\n",
       "      <td>0.0</td>\n",
       "      <td>1536.0</td>\n",
       "      <td>1571.0</td>\n",
       "    </tr>\n",
       "    <tr>\n",
       "      <th>270536</th>\n",
       "      <td>Zimbabwe</td>\n",
       "      <td>2022-10-16</td>\n",
       "      <td>-19.015438</td>\n",
       "      <td>29.154857</td>\n",
       "      <td>257893</td>\n",
       "      <td>5606</td>\n",
       "      <td>0.0</td>\n",
       "      <td>16415563.0</td>\n",
       "      <td>390757.0</td>\n",
       "      <td>42.0</td>\n",
       "      <td>66.0</td>\n",
       "      <td>252287.0</td>\n",
       "      <td>34.0</td>\n",
       "      <td>0.0</td>\n",
       "      <td>1537.0</td>\n",
       "      <td>1571.0</td>\n",
       "    </tr>\n",
       "    <tr>\n",
       "      <th>270537</th>\n",
       "      <td>Zimbabwe</td>\n",
       "      <td>2022-10-17</td>\n",
       "      <td>-19.015438</td>\n",
       "      <td>29.154857</td>\n",
       "      <td>257893</td>\n",
       "      <td>5606</td>\n",
       "      <td>0.0</td>\n",
       "      <td>16415563.0</td>\n",
       "      <td>390757.0</td>\n",
       "      <td>42.0</td>\n",
       "      <td>0.0</td>\n",
       "      <td>252287.0</td>\n",
       "      <td>34.0</td>\n",
       "      <td>0.0</td>\n",
       "      <td>1537.0</td>\n",
       "      <td>1571.0</td>\n",
       "    </tr>\n",
       "    <tr>\n",
       "      <th>270538</th>\n",
       "      <td>Zimbabwe</td>\n",
       "      <td>2022-10-18</td>\n",
       "      <td>-19.015438</td>\n",
       "      <td>29.154857</td>\n",
       "      <td>257893</td>\n",
       "      <td>5606</td>\n",
       "      <td>0.0</td>\n",
       "      <td>16415563.0</td>\n",
       "      <td>390757.0</td>\n",
       "      <td>42.0</td>\n",
       "      <td>0.0</td>\n",
       "      <td>252287.0</td>\n",
       "      <td>34.0</td>\n",
       "      <td>0.0</td>\n",
       "      <td>1537.0</td>\n",
       "      <td>1571.0</td>\n",
       "    </tr>\n",
       "    <tr>\n",
       "      <th>270539</th>\n",
       "      <td>Zimbabwe</td>\n",
       "      <td>2022-10-19</td>\n",
       "      <td>-19.015438</td>\n",
       "      <td>29.154857</td>\n",
       "      <td>257893</td>\n",
       "      <td>5606</td>\n",
       "      <td>0.0</td>\n",
       "      <td>16415563.0</td>\n",
       "      <td>390757.0</td>\n",
       "      <td>42.0</td>\n",
       "      <td>0.0</td>\n",
       "      <td>252287.0</td>\n",
       "      <td>34.0</td>\n",
       "      <td>0.0</td>\n",
       "      <td>1537.0</td>\n",
       "      <td>1571.0</td>\n",
       "    </tr>\n",
       "  </tbody>\n",
       "</table>\n",
       "</div>"
      ],
      "text/plain": [
       "         country        date        lat       long  confirmed  death  \\\n",
       "270535  Zimbabwe  2022-10-15 -19.015438  29.154857     257827   5605   \n",
       "270536  Zimbabwe  2022-10-16 -19.015438  29.154857     257893   5606   \n",
       "270537  Zimbabwe  2022-10-17 -19.015438  29.154857     257893   5606   \n",
       "270538  Zimbabwe  2022-10-18 -19.015438  29.154857     257893   5606   \n",
       "270539  Zimbabwe  2022-10-19 -19.015438  29.154857     257893   5606   \n",
       "\n",
       "        recovered  population  area_sq_km  density_sq_km  new_cases  infected  \\\n",
       "270535        0.0  16415563.0    390757.0           42.0        0.0  252222.0   \n",
       "270536        0.0  16415563.0    390757.0           42.0       66.0  252287.0   \n",
       "270537        0.0  16415563.0    390757.0           42.0        0.0  252287.0   \n",
       "270538        0.0  16415563.0    390757.0           42.0        0.0  252287.0   \n",
       "270539        0.0  16415563.0    390757.0           42.0        0.0  252287.0   \n",
       "\n",
       "        death_by_million  recovered_by_million  infected_by_million  \\\n",
       "270535              34.0                   0.0               1536.0   \n",
       "270536              34.0                   0.0               1537.0   \n",
       "270537              34.0                   0.0               1537.0   \n",
       "270538              34.0                   0.0               1537.0   \n",
       "270539              34.0                   0.0               1537.0   \n",
       "\n",
       "        confirmed_by_million  \n",
       "270535                1571.0  \n",
       "270536                1571.0  \n",
       "270537                1571.0  \n",
       "270538                1571.0  \n",
       "270539                1571.0  "
      ]
     },
     "execution_count": 37,
     "metadata": {},
     "output_type": "execute_result"
    }
   ],
   "source": [
    "df.tail()"
   ]
  },
  {
   "cell_type": "code",
   "execution_count": null,
   "id": "0c3a1d3a-2031-46a5-8b66-6150480bff16",
   "metadata": {},
   "outputs": [],
   "source": []
  }
 ],
 "metadata": {
  "kernelspec": {
   "display_name": "Python 3 (ipykernel)",
   "language": "python",
   "name": "python3"
  },
  "language_info": {
   "codemirror_mode": {
    "name": "ipython",
    "version": 3
   },
   "file_extension": ".py",
   "mimetype": "text/x-python",
   "name": "python",
   "nbconvert_exporter": "python",
   "pygments_lexer": "ipython3",
   "version": "3.9.13"
  }
 },
 "nbformat": 4,
 "nbformat_minor": 5
}
