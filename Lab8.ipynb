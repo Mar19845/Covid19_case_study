{
 "cells": [
  {
   "cell_type": "markdown",
   "id": "616e8da0-20f4-447a-9dba-a24a1cdea650",
   "metadata": {},
   "source": [
    "## Universidad del Valle de Guatemala\n",
    "### Data Science\n",
    "#### Juan Marroquin 19845\n",
    "#### Carlos Raxtum 19721"
   ]
  },
  {
   "cell_type": "code",
   "execution_count": 41,
   "id": "38801c5e-cefe-4d01-bec1-011571eb3139",
   "metadata": {},
   "outputs": [],
   "source": [
    "import seaborn as sns\n",
    "import matplotlib.pyplot as plt\n",
    "import pandas as pd\n",
    "import numpy as np\n",
    "from mpl_toolkits.mplot3d import Axes3D"
   ]
  },
  {
   "cell_type": "markdown",
   "id": "7f37b523-f9c9-41c0-8a0b-9196ac2088c8",
   "metadata": {},
   "source": [
    "#### PRIMEROS 3 EJERCICIOS EN EL NOTEBOOK getInfo.ipynb"
   ]
  },
  {
   "cell_type": "code",
   "execution_count": 42,
   "id": "d4e88054-36c1-4d08-92f7-ee265ba9e91b",
   "metadata": {},
   "outputs": [],
   "source": [
    "df = pd.read_csv('covid19.csv',encoding='utf-8')"
   ]
  },
  {
   "cell_type": "markdown",
   "id": "ae839f39-c393-42af-b2d4-fe737129a1fc",
   "metadata": {},
   "source": [
    "##### drop subregion column"
   ]
  },
  {
   "cell_type": "code",
   "execution_count": 43,
   "id": "8bb140ad-1e65-4abe-b764-6c832276ead2",
   "metadata": {},
   "outputs": [],
   "source": [
    "df = df.drop(['subregion'], axis=1)"
   ]
  },
  {
   "cell_type": "markdown",
   "id": "da8e6b04-0ff7-47e8-abda-23985a2fb1ae",
   "metadata": {},
   "source": [
    "##### check for negative values and removed it"
   ]
  },
  {
   "cell_type": "code",
   "execution_count": 44,
   "id": "e530a753-87e3-48f6-9b8b-e34b1f125abf",
   "metadata": {},
   "outputs": [],
   "source": [
    "df = df.query('not (confirmed < 0 or death < 0 or recovered <0) ')"
   ]
  },
  {
   "cell_type": "markdown",
   "id": "a93bac5b-0b34-42d4-8d3c-2bebcb45fd11",
   "metadata": {},
   "source": [
    "##### drop duplicates"
   ]
  },
  {
   "cell_type": "code",
   "execution_count": 45,
   "id": "f9a2c797-d2d4-4dd6-855d-c6254d5be315",
   "metadata": {},
   "outputs": [],
   "source": [
    "df = df.drop_duplicates()"
   ]
  },
  {
   "cell_type": "markdown",
   "id": "5849797c-1a33-4bea-9a96-f7135b0a7c44",
   "metadata": {},
   "source": [
    "#### Analisis Exploratorio"
   ]
  },
  {
   "cell_type": "code",
   "execution_count": 46,
   "id": "c712c0ba-686c-4494-9ec1-5d4c3910de9e",
   "metadata": {},
   "outputs": [
    {
     "data": {
      "text/html": [
       "<div>\n",
       "<style scoped>\n",
       "    .dataframe tbody tr th:only-of-type {\n",
       "        vertical-align: middle;\n",
       "    }\n",
       "\n",
       "    .dataframe tbody tr th {\n",
       "        vertical-align: top;\n",
       "    }\n",
       "\n",
       "    .dataframe thead th {\n",
       "        text-align: right;\n",
       "    }\n",
       "</style>\n",
       "<table border=\"1\" class=\"dataframe\">\n",
       "  <thead>\n",
       "    <tr style=\"text-align: right;\">\n",
       "      <th></th>\n",
       "      <th>country</th>\n",
       "      <th>date</th>\n",
       "      <th>lat</th>\n",
       "      <th>long</th>\n",
       "      <th>confirmed</th>\n",
       "      <th>death</th>\n",
       "      <th>recovered</th>\n",
       "    </tr>\n",
       "  </thead>\n",
       "  <tbody>\n",
       "    <tr>\n",
       "      <th>0</th>\n",
       "      <td>Afghanistan</td>\n",
       "      <td>2020-01-22</td>\n",
       "      <td>33.93911</td>\n",
       "      <td>67.709953</td>\n",
       "      <td>0</td>\n",
       "      <td>0</td>\n",
       "      <td>0.0</td>\n",
       "    </tr>\n",
       "    <tr>\n",
       "      <th>1</th>\n",
       "      <td>Afghanistan</td>\n",
       "      <td>2020-01-23</td>\n",
       "      <td>33.93911</td>\n",
       "      <td>67.709953</td>\n",
       "      <td>0</td>\n",
       "      <td>0</td>\n",
       "      <td>0.0</td>\n",
       "    </tr>\n",
       "    <tr>\n",
       "      <th>2</th>\n",
       "      <td>Afghanistan</td>\n",
       "      <td>2020-01-24</td>\n",
       "      <td>33.93911</td>\n",
       "      <td>67.709953</td>\n",
       "      <td>0</td>\n",
       "      <td>0</td>\n",
       "      <td>0.0</td>\n",
       "    </tr>\n",
       "    <tr>\n",
       "      <th>3</th>\n",
       "      <td>Afghanistan</td>\n",
       "      <td>2020-01-25</td>\n",
       "      <td>33.93911</td>\n",
       "      <td>67.709953</td>\n",
       "      <td>0</td>\n",
       "      <td>0</td>\n",
       "      <td>0.0</td>\n",
       "    </tr>\n",
       "    <tr>\n",
       "      <th>4</th>\n",
       "      <td>Afghanistan</td>\n",
       "      <td>2020-01-26</td>\n",
       "      <td>33.93911</td>\n",
       "      <td>67.709953</td>\n",
       "      <td>0</td>\n",
       "      <td>0</td>\n",
       "      <td>0.0</td>\n",
       "    </tr>\n",
       "  </tbody>\n",
       "</table>\n",
       "</div>"
      ],
      "text/plain": [
       "       country        date       lat       long  confirmed  death  recovered\n",
       "0  Afghanistan  2020-01-22  33.93911  67.709953          0      0        0.0\n",
       "1  Afghanistan  2020-01-23  33.93911  67.709953          0      0        0.0\n",
       "2  Afghanistan  2020-01-24  33.93911  67.709953          0      0        0.0\n",
       "3  Afghanistan  2020-01-25  33.93911  67.709953          0      0        0.0\n",
       "4  Afghanistan  2020-01-26  33.93911  67.709953          0      0        0.0"
      ]
     },
     "execution_count": 46,
     "metadata": {},
     "output_type": "execute_result"
    }
   ],
   "source": [
    "df.head()"
   ]
  },
  {
   "cell_type": "markdown",
   "id": "3868eb0f-9a9b-4047-89cd-a09c348a6eab",
   "metadata": {},
   "source": [
    "##### Shape of dataframe"
   ]
  },
  {
   "cell_type": "code",
   "execution_count": 47,
   "id": "c641d442-bf33-4844-93fa-cb75a829955c",
   "metadata": {},
   "outputs": [
    {
     "data": {
      "text/plain": [
       "(286918, 7)"
      ]
     },
     "execution_count": 47,
     "metadata": {},
     "output_type": "execute_result"
    }
   ],
   "source": [
    "df.shape"
   ]
  },
  {
   "cell_type": "markdown",
   "id": "43ebec1d-342e-4f55-8882-95295eea5e51",
   "metadata": {},
   "source": [
    "##### Describe df"
   ]
  },
  {
   "cell_type": "code",
   "execution_count": 48,
   "id": "081c9f22-ab2e-45e9-a78d-27dc3b16474d",
   "metadata": {},
   "outputs": [
    {
     "data": {
      "text/html": [
       "<div>\n",
       "<style scoped>\n",
       "    .dataframe tbody tr th:only-of-type {\n",
       "        vertical-align: middle;\n",
       "    }\n",
       "\n",
       "    .dataframe tbody tr th {\n",
       "        vertical-align: top;\n",
       "    }\n",
       "\n",
       "    .dataframe thead th {\n",
       "        text-align: right;\n",
       "    }\n",
       "</style>\n",
       "<table border=\"1\" class=\"dataframe\">\n",
       "  <thead>\n",
       "    <tr style=\"text-align: right;\">\n",
       "      <th></th>\n",
       "      <th>lat</th>\n",
       "      <th>long</th>\n",
       "      <th>confirmed</th>\n",
       "      <th>death</th>\n",
       "      <th>recovered</th>\n",
       "    </tr>\n",
       "  </thead>\n",
       "  <tbody>\n",
       "    <tr>\n",
       "      <th>count</th>\n",
       "      <td>284932.000000</td>\n",
       "      <td>284932.000000</td>\n",
       "      <td>2.869180e+05</td>\n",
       "      <td>2.869180e+05</td>\n",
       "      <td>2.710810e+05</td>\n",
       "    </tr>\n",
       "    <tr>\n",
       "      <th>mean</th>\n",
       "      <td>19.723486</td>\n",
       "      <td>22.190280</td>\n",
       "      <td>7.624961e+05</td>\n",
       "      <td>1.189446e+04</td>\n",
       "      <td>8.568364e+04</td>\n",
       "    </tr>\n",
       "    <tr>\n",
       "      <th>std</th>\n",
       "      <td>25.911680</td>\n",
       "      <td>77.738676</td>\n",
       "      <td>4.097186e+06</td>\n",
       "      <td>5.842553e+04</td>\n",
       "      <td>7.554029e+05</td>\n",
       "    </tr>\n",
       "    <tr>\n",
       "      <th>min</th>\n",
       "      <td>-71.949900</td>\n",
       "      <td>-178.116500</td>\n",
       "      <td>0.000000e+00</td>\n",
       "      <td>0.000000e+00</td>\n",
       "      <td>0.000000e+00</td>\n",
       "    </tr>\n",
       "    <tr>\n",
       "      <th>25%</th>\n",
       "      <td>3.933900</td>\n",
       "      <td>-42.604300</td>\n",
       "      <td>4.120000e+02</td>\n",
       "      <td>2.000000e+00</td>\n",
       "      <td>0.000000e+00</td>\n",
       "    </tr>\n",
       "    <tr>\n",
       "      <th>50%</th>\n",
       "      <td>21.512583</td>\n",
       "      <td>20.939400</td>\n",
       "      <td>9.989000e+03</td>\n",
       "      <td>1.130000e+02</td>\n",
       "      <td>0.000000e+00</td>\n",
       "    </tr>\n",
       "    <tr>\n",
       "      <th>75%</th>\n",
       "      <td>40.463667</td>\n",
       "      <td>90.356300</td>\n",
       "      <td>1.693960e+05</td>\n",
       "      <td>2.452000e+03</td>\n",
       "      <td>1.708000e+03</td>\n",
       "    </tr>\n",
       "    <tr>\n",
       "      <th>max</th>\n",
       "      <td>71.706900</td>\n",
       "      <td>178.065000</td>\n",
       "      <td>9.672111e+07</td>\n",
       "      <td>1.062681e+06</td>\n",
       "      <td>3.097475e+07</td>\n",
       "    </tr>\n",
       "  </tbody>\n",
       "</table>\n",
       "</div>"
      ],
      "text/plain": [
       "                 lat           long     confirmed         death     recovered\n",
       "count  284932.000000  284932.000000  2.869180e+05  2.869180e+05  2.710810e+05\n",
       "mean       19.723486      22.190280  7.624961e+05  1.189446e+04  8.568364e+04\n",
       "std        25.911680      77.738676  4.097186e+06  5.842553e+04  7.554029e+05\n",
       "min       -71.949900    -178.116500  0.000000e+00  0.000000e+00  0.000000e+00\n",
       "25%         3.933900     -42.604300  4.120000e+02  2.000000e+00  0.000000e+00\n",
       "50%        21.512583      20.939400  9.989000e+03  1.130000e+02  0.000000e+00\n",
       "75%        40.463667      90.356300  1.693960e+05  2.452000e+03  1.708000e+03\n",
       "max        71.706900     178.065000  9.672111e+07  1.062681e+06  3.097475e+07"
      ]
     },
     "execution_count": 48,
     "metadata": {},
     "output_type": "execute_result"
    }
   ],
   "source": [
    "df.describe()"
   ]
  },
  {
   "cell_type": "code",
   "execution_count": 49,
   "id": "2b3f8f44-aca1-4e1f-a6ec-d958eca8aef1",
   "metadata": {},
   "outputs": [
    {
     "name": "stdout",
     "output_type": "stream",
     "text": [
      "<class 'pandas.core.frame.DataFrame'>\n",
      "Int64Index: 286918 entries, 0 to 286976\n",
      "Data columns (total 7 columns):\n",
      " #   Column     Non-Null Count   Dtype  \n",
      "---  ------     --------------   -----  \n",
      " 0   country    286918 non-null  object \n",
      " 1   date       286918 non-null  object \n",
      " 2   lat        284932 non-null  float64\n",
      " 3   long       284932 non-null  float64\n",
      " 4   confirmed  286918 non-null  int64  \n",
      " 5   death      286918 non-null  int64  \n",
      " 6   recovered  271081 non-null  float64\n",
      "dtypes: float64(3), int64(2), object(2)\n",
      "memory usage: 17.5+ MB\n"
     ]
    }
   ],
   "source": [
    "df.info()"
   ]
  },
  {
   "cell_type": "code",
   "execution_count": 50,
   "id": "95074007-b4ce-4a18-bfce-f13c9fb57ec6",
   "metadata": {},
   "outputs": [],
   "source": [
    "# replace nan in recoverd column with 0\n",
    "# we asume a Nan values means that nobody was recoverd from covid that day\n",
    "df['recovered']=df['recovered'].fillna(0)"
   ]
  },
  {
   "cell_type": "code",
   "execution_count": 51,
   "id": "9a94fd72-3191-407b-82c7-318316d4025a",
   "metadata": {},
   "outputs": [
    {
     "data": {
      "text/plain": [
       "array(['Afghanistan', 'Albania', 'Algeria', 'Andorra', 'Angola',\n",
       "       'Antarctica', 'Antigua and Barbuda', 'Argentina', 'Armenia',\n",
       "       'Australia', 'Austria', 'Azerbaijan', 'Bahamas', 'Bahrain',\n",
       "       'Bangladesh', 'Barbados', 'Belarus', 'Belgium', 'Belize', 'Benin',\n",
       "       'Bhutan', 'Bolivia', 'Bosnia and Herzegovina', 'Botswana',\n",
       "       'Brazil', 'Brunei', 'Bulgaria', 'Burkina Faso', 'Burma', 'Burundi',\n",
       "       'Cabo Verde', 'Cambodia', 'Cameroon', 'Canada',\n",
       "       'Central African Republic', 'Chad', 'Chile', 'China', 'Colombia',\n",
       "       'Comoros', 'Congo (Brazzaville)', 'Congo (Kinshasa)', 'Costa Rica',\n",
       "       \"Cote d'Ivoire\", 'Croatia', 'Cuba', 'Cyprus', 'Czechia', 'Denmark',\n",
       "       'Diamond Princess', 'Djibouti', 'Dominica', 'Dominican Republic',\n",
       "       'Ecuador', 'Egypt', 'El Salvador', 'Equatorial Guinea', 'Eritrea',\n",
       "       'Estonia', 'Eswatini', 'Ethiopia', 'Fiji', 'Finland', 'France',\n",
       "       'Gabon', 'Gambia', 'Georgia', 'Germany', 'Ghana', 'Greece',\n",
       "       'Grenada', 'Guatemala', 'Guinea', 'Guinea-Bissau', 'Guyana',\n",
       "       'Haiti', 'Holy See', 'Honduras', 'Hungary', 'Iceland', 'India',\n",
       "       'Indonesia', 'Iran', 'Iraq', 'Ireland', 'Israel', 'Italy',\n",
       "       'Jamaica', 'Japan', 'Jordan', 'Kazakhstan', 'Kenya', 'Kiribati',\n",
       "       'Korea, North', 'Korea, South', 'Kosovo', 'Kuwait', 'Kyrgyzstan',\n",
       "       'Laos', 'Latvia', 'Lebanon', 'Lesotho', 'Liberia', 'Libya',\n",
       "       'Liechtenstein', 'Lithuania', 'Luxembourg', 'MS Zaandam',\n",
       "       'Madagascar', 'Malawi', 'Malaysia', 'Maldives', 'Mali', 'Malta',\n",
       "       'Marshall Islands', 'Mauritania', 'Mauritius', 'Mexico',\n",
       "       'Micronesia', 'Moldova', 'Monaco', 'Mongolia', 'Montenegro',\n",
       "       'Morocco', 'Mozambique', 'Namibia', 'Nauru', 'Nepal',\n",
       "       'Netherlands', 'New Zealand', 'Nicaragua', 'Niger', 'Nigeria',\n",
       "       'North Macedonia', 'Norway', 'Oman', 'Pakistan', 'Palau', 'Panama',\n",
       "       'Papua New Guinea', 'Paraguay', 'Peru', 'Philippines', 'Poland',\n",
       "       'Portugal', 'Qatar', 'Romania', 'Russia', 'Rwanda',\n",
       "       'Saint Kitts and Nevis', 'Saint Lucia',\n",
       "       'Saint Vincent and the Grenadines', 'Samoa', 'San Marino',\n",
       "       'Sao Tome and Principe', 'Saudi Arabia', 'Senegal', 'Serbia',\n",
       "       'Seychelles', 'Sierra Leone', 'Singapore', 'Slovakia', 'Slovenia',\n",
       "       'Solomon Islands', 'Somalia', 'South Africa', 'South Sudan',\n",
       "       'Spain', 'Sri Lanka', 'Sudan', 'Summer Olympics 2020', 'Suriname',\n",
       "       'Sweden', 'Switzerland', 'Syria', 'Taiwan*', 'Tajikistan',\n",
       "       'Tanzania', 'Thailand', 'Timor-Leste', 'Togo', 'Tonga',\n",
       "       'Trinidad and Tobago', 'Tunisia', 'Turkey', 'Tuvalu', 'US',\n",
       "       'Uganda', 'Ukraine', 'United Arab Emirates', 'United Kingdom',\n",
       "       'Uruguay', 'Uzbekistan', 'Vanuatu', 'Venezuela', 'Vietnam',\n",
       "       'West Bank and Gaza', 'Winter Olympics 2022', 'Yemen', 'Zambia',\n",
       "       'Zimbabwe'], dtype=object)"
      ]
     },
     "execution_count": 51,
     "metadata": {},
     "output_type": "execute_result"
    }
   ],
   "source": [
    "df['country'].unique()"
   ]
  },
  {
   "cell_type": "code",
   "execution_count": 52,
   "id": "d0897ba2-70dc-4a9f-a443-1524601de55a",
   "metadata": {},
   "outputs": [],
   "source": [
    "# remove from the country columns\n",
    "remove_country = ['Diamond Princess','Winter Olympics 2022','MS Zaandam','Summer Olympics 2020']\n",
    "for fake in remove_country:\n",
    "    df = df.drop(df[df.country == fake ].index)\n",
    "    df.reset_index(drop=True)"
   ]
  },
  {
   "cell_type": "markdown",
   "id": "3ee94f3d-3160-45d2-91dd-5660a57e2593",
   "metadata": {},
   "source": [
    "#### Null values in dataset"
   ]
  },
  {
   "cell_type": "code",
   "execution_count": 53,
   "id": "2faa229f-9d74-4d58-86d8-7779dc8296ab",
   "metadata": {},
   "outputs": [
    {
     "data": {
      "text/plain": [
       "[Text(0.5, 1.0, 'Null values in dataset')]"
      ]
     },
     "execution_count": 53,
     "metadata": {},
     "output_type": "execute_result"
    },
    {
     "data": {
      "image/png": "[encoded data removed]",
      "text/plain": [
       "<Figure size 432x288 with 1 Axes>"
      ]
     },
     "metadata": {
      "needs_background": "light"
     },
     "output_type": "display_data"
    }
   ],
   "source": [
    "figure = sns.heatmap(df.isnull(), yticklabels = False, cbar = False, cmap=\"Blues\")\n",
    "figure.set(title = \"Null values in dataset\")"
   ]
  },
  {
   "cell_type": "code",
   "execution_count": 54,
   "id": "2539a98b-87f7-482b-a23f-10bfab091948",
   "metadata": {},
   "outputs": [
    {
     "data": {
      "text/plain": [
       "country         0\n",
       "date            0\n",
       "lat          1986\n",
       "long         1986\n",
       "confirmed       0\n",
       "death           0\n",
       "recovered       0\n",
       "dtype: int64"
      ]
     },
     "execution_count": 54,
     "metadata": {},
     "output_type": "execute_result"
    }
   ],
   "source": [
    "df.isnull().sum()"
   ]
  },
  {
   "cell_type": "markdown",
   "id": "df152a57-197b-4548-87bf-da4cf568f712",
   "metadata": {},
   "source": [
    "##### Get what Countries does not have lat and long values"
   ]
  },
  {
   "cell_type": "code",
   "execution_count": 55,
   "id": "d20e3ccc-ea3d-47c5-ad1b-f90ccb652efa",
   "metadata": {},
   "outputs": [
    {
     "data": {
      "text/plain": [
       "array(['Canada', 'China'], dtype=object)"
      ]
     },
     "execution_count": 55,
     "metadata": {},
     "output_type": "execute_result"
    }
   ],
   "source": [
    "df[df.lat.isnull()].country.unique()"
   ]
  },
  {
   "cell_type": "code",
   "execution_count": 56,
   "id": "dc768f90-bcdf-4ce6-b672-8e4ae6816169",
   "metadata": {},
   "outputs": [],
   "source": [
    "coutries_lat_long = {\n",
    "    'Canada': {\n",
    "        'lat': 45.424721,\n",
    "        'long':-75.695000\n",
    "    },\n",
    "    'China': {\n",
    "        'lat':39.916668,\n",
    "        'long':116.383331\n",
    "    },\n",
    "}"
   ]
  },
  {
   "cell_type": "markdown",
   "id": "67167d35-a53b-4bfd-a9cb-7b8f4ab67669",
   "metadata": {},
   "source": [
    "##### Replace the Nan values"
   ]
  },
  {
   "cell_type": "code",
   "execution_count": 57,
   "id": "47735583-add2-4265-b957-75cda1305b6b",
   "metadata": {},
   "outputs": [],
   "source": [
    "for country_fix in coutries_lat_long:\n",
    "    df.loc[df[\"country\"] == country_fix, \"lat\"] = coutries_lat_long[country_fix]['lat']\n",
    "    df.loc[df[\"country\"] == country_fix, \"long\"] = coutries_lat_long[country_fix]['long']"
   ]
  },
  {
   "cell_type": "markdown",
   "id": "d2a39235-c71f-4d31-88fb-d1a8e0a721ae",
   "metadata": {},
   "source": [
    "## After cleaning the data get the new statistics "
   ]
  },
  {
   "cell_type": "code",
   "execution_count": 58,
   "id": "209d2666-2dc1-4687-92db-4f861900b50d",
   "metadata": {},
   "outputs": [
    {
     "data": {
      "text/html": [
       "<div>\n",
       "<style scoped>\n",
       "    .dataframe tbody tr th:only-of-type {\n",
       "        vertical-align: middle;\n",
       "    }\n",
       "\n",
       "    .dataframe tbody tr th {\n",
       "        vertical-align: top;\n",
       "    }\n",
       "\n",
       "    .dataframe thead th {\n",
       "        text-align: right;\n",
       "    }\n",
       "</style>\n",
       "<table border=\"1\" class=\"dataframe\">\n",
       "  <thead>\n",
       "    <tr style=\"text-align: right;\">\n",
       "      <th></th>\n",
       "      <th>lat</th>\n",
       "      <th>long</th>\n",
       "      <th>confirmed</th>\n",
       "      <th>death</th>\n",
       "      <th>recovered</th>\n",
       "    </tr>\n",
       "  </thead>\n",
       "  <tbody>\n",
       "    <tr>\n",
       "      <th>count</th>\n",
       "      <td>282946.000000</td>\n",
       "      <td>282946.000000</td>\n",
       "      <td>2.829460e+05</td>\n",
       "      <td>2.829460e+05</td>\n",
       "      <td>2.829460e+05</td>\n",
       "    </tr>\n",
       "    <tr>\n",
       "      <th>mean</th>\n",
       "      <td>20.605688</td>\n",
       "      <td>22.371583</td>\n",
       "      <td>7.731958e+05</td>\n",
       "      <td>1.206139e+04</td>\n",
       "      <td>8.208939e+04</td>\n",
       "    </tr>\n",
       "    <tr>\n",
       "      <th>std</th>\n",
       "      <td>25.877478</td>\n",
       "      <td>77.606163</td>\n",
       "      <td>4.124842e+06</td>\n",
       "      <td>5.881708e+04</td>\n",
       "      <td>7.395943e+05</td>\n",
       "    </tr>\n",
       "    <tr>\n",
       "      <th>min</th>\n",
       "      <td>-71.949900</td>\n",
       "      <td>-178.116500</td>\n",
       "      <td>0.000000e+00</td>\n",
       "      <td>0.000000e+00</td>\n",
       "      <td>0.000000e+00</td>\n",
       "    </tr>\n",
       "    <tr>\n",
       "      <th>25%</th>\n",
       "      <td>4.860416</td>\n",
       "      <td>-55.765800</td>\n",
       "      <td>4.540000e+02</td>\n",
       "      <td>3.000000e+00</td>\n",
       "      <td>0.000000e+00</td>\n",
       "    </tr>\n",
       "    <tr>\n",
       "      <th>50%</th>\n",
       "      <td>23.424076</td>\n",
       "      <td>20.939400</td>\n",
       "      <td>1.084500e+04</td>\n",
       "      <td>1.220000e+02</td>\n",
       "      <td>0.000000e+00</td>\n",
       "    </tr>\n",
       "    <tr>\n",
       "      <th>75%</th>\n",
       "      <td>40.143100</td>\n",
       "      <td>90.433600</td>\n",
       "      <td>1.784950e+05</td>\n",
       "      <td>2.555000e+03</td>\n",
       "      <td>1.358000e+03</td>\n",
       "    </tr>\n",
       "    <tr>\n",
       "      <th>max</th>\n",
       "      <td>71.706900</td>\n",
       "      <td>178.065000</td>\n",
       "      <td>9.672111e+07</td>\n",
       "      <td>1.062681e+06</td>\n",
       "      <td>3.097475e+07</td>\n",
       "    </tr>\n",
       "  </tbody>\n",
       "</table>\n",
       "</div>"
      ],
      "text/plain": [
       "                 lat           long     confirmed         death     recovered\n",
       "count  282946.000000  282946.000000  2.829460e+05  2.829460e+05  2.829460e+05\n",
       "mean       20.605688      22.371583  7.731958e+05  1.206139e+04  8.208939e+04\n",
       "std        25.877478      77.606163  4.124842e+06  5.881708e+04  7.395943e+05\n",
       "min       -71.949900    -178.116500  0.000000e+00  0.000000e+00  0.000000e+00\n",
       "25%         4.860416     -55.765800  4.540000e+02  3.000000e+00  0.000000e+00\n",
       "50%        23.424076      20.939400  1.084500e+04  1.220000e+02  0.000000e+00\n",
       "75%        40.143100      90.433600  1.784950e+05  2.555000e+03  1.358000e+03\n",
       "max        71.706900     178.065000  9.672111e+07  1.062681e+06  3.097475e+07"
      ]
     },
     "execution_count": 58,
     "metadata": {},
     "output_type": "execute_result"
    }
   ],
   "source": [
    "df.describe()"
   ]
  },
  {
   "cell_type": "code",
   "execution_count": 59,
   "id": "2cf65c5a-c075-432a-91d9-5bc3a62bc6c5",
   "metadata": {},
   "outputs": [
    {
     "name": "stdout",
     "output_type": "stream",
     "text": [
      "<class 'pandas.core.frame.DataFrame'>\n",
      "Int64Index: 282946 entries, 0 to 286976\n",
      "Data columns (total 7 columns):\n",
      " #   Column     Non-Null Count   Dtype  \n",
      "---  ------     --------------   -----  \n",
      " 0   country    282946 non-null  object \n",
      " 1   date       282946 non-null  object \n",
      " 2   lat        282946 non-null  float64\n",
      " 3   long       282946 non-null  float64\n",
      " 4   confirmed  282946 non-null  int64  \n",
      " 5   death      282946 non-null  int64  \n",
      " 6   recovered  282946 non-null  float64\n",
      "dtypes: float64(3), int64(2), object(2)\n",
      "memory usage: 17.3+ MB\n"
     ]
    }
   ],
   "source": [
    "df.info()"
   ]
  },
  {
   "cell_type": "markdown",
   "id": "1f7fb213-03c5-4674-aab2-c1a7ed789e18",
   "metadata": {},
   "source": [
    "#### Null values in dataset"
   ]
  },
  {
   "cell_type": "code",
   "execution_count": 60,
   "id": "36cdb8f0-95ca-478b-b5af-71e45d864ad9",
   "metadata": {},
   "outputs": [
    {
     "data": {
      "text/plain": [
       "[Text(0.5, 1.0, 'Null values in dataset')]"
      ]
     },
     "execution_count": 60,
     "metadata": {},
     "output_type": "execute_result"
    },
    {
     "data": {
      "image/png": "[encoded data removed]",
      "text/plain": [
       "<Figure size 432x288 with 1 Axes>"
      ]
     },
     "metadata": {
      "needs_background": "light"
     },
     "output_type": "display_data"
    }
   ],
   "source": [
    "figure = sns.heatmap(df.isnull(), yticklabels = False, cbar = False, cmap=\"Blues\")\n",
    "figure.set(title = \"Null values in dataset\")"
   ]
  },
  {
   "cell_type": "markdown",
   "id": "a7002789-58ae-44da-a3a9-be2e735a9319",
   "metadata": {},
   "source": [
    "#### Some graphs "
   ]
  },
  {
   "cell_type": "code",
   "execution_count": 61,
   "id": "f75bd1af-413a-4338-acab-cb4be8058275",
   "metadata": {},
   "outputs": [
    {
     "data": {
      "image/png": "[encoded data removed]",
      "text/plain": [
       "<Figure size 1080x432 with 1 Axes>"
      ]
     },
     "metadata": {
      "needs_background": "light"
     },
     "output_type": "display_data"
    }
   ],
   "source": [
    "plt.figure(figsize = (15, 6))\n",
    "figure = sns.regplot(x = 'confirmed', y = 'death', data = df[df.country == 'Guatemala' ])\n",
    "figure.set(title = \"Confirmed cases vs Deads in Guatemala\")\n",
    "plt.show()"
   ]
  },
  {
   "cell_type": "code",
   "execution_count": 62,
   "id": "ecedaa47-80fc-425f-9001-3880b06db985",
   "metadata": {},
   "outputs": [
    {
     "data": {
      "image/png": "[encoded data removed]",
      "text/plain": [
       "<Figure size 1080x432 with 1 Axes>"
      ]
     },
     "metadata": {
      "needs_background": "light"
     },
     "output_type": "display_data"
    }
   ],
   "source": [
    "plt.figure(figsize = (15, 6))\n",
    "figure = sns.regplot(x = 'confirmed', y = 'recovered', data = df[df.country == 'Guatemala' ])\n",
    "figure.set(title = \"Confirmed cases vs Recovered in Guatemala\")\n",
    "plt.show()"
   ]
  },
  {
   "cell_type": "code",
   "execution_count": 63,
   "id": "9fc85fce-96a5-4783-881f-ef24efc4a4a6",
   "metadata": {},
   "outputs": [
    {
     "data": {
      "image/png": "[encoded data removed]",
      "text/plain": [
       "<Figure size 1080x432 with 1 Axes>"
      ]
     },
     "metadata": {
      "needs_background": "light"
     },
     "output_type": "display_data"
    }
   ],
   "source": [
    "plt.figure(figsize = (15, 6))\n",
    "figure = sns.regplot(x = 'confirmed', y = 'death', data = df[df.country == 'US' ])\n",
    "figure.set(title = \"Confirmed cases vs Deads in USA\")\n",
    "plt.show()"
   ]
  },
  {
   "cell_type": "code",
   "execution_count": 64,
   "id": "ffc2515c-868b-4798-bafc-ac41959d22a7",
   "metadata": {},
   "outputs": [
    {
     "data": {
      "text/plain": [
       "[Text(0.5, 1.0, 'Confirmed cases vs Recovered in USA')]"
      ]
     },
     "execution_count": 64,
     "metadata": {},
     "output_type": "execute_result"
    },
    {
     "data": {
      "image/png": "[encoded data removed]",
      "text/plain": [
       "<Figure size 1080x432 with 1 Axes>"
      ]
     },
     "metadata": {
      "needs_background": "light"
     },
     "output_type": "display_data"
    }
   ],
   "source": [
    "plt.figure(figsize = (15, 6))\n",
    "figure = sns.regplot(x = 'confirmed', y = 'recovered', data = df[df.country == 'US' ])\n",
    "figure.set(title = \"Confirmed cases vs Recovered in USA\")"
   ]
  },
  {
   "cell_type": "markdown",
   "id": "f5400b8c-44ba-4bfe-9ba6-90a7d0d5b4e5",
   "metadata": {},
   "source": [
    "### Create new column with the new cases of covid "
   ]
  },
  {
   "cell_type": "code",
   "execution_count": 67,
   "id": "873f4379-4c6a-4bd8-b10e-a4a27b242b71",
   "metadata": {},
   "outputs": [],
   "source": [
    "new_cases = df.sort_values(by=['country','date']).filter(['country','date','confirmed']).groupby(['country']).confirmed.diff()\n",
    "# manera de evitar casos negativos\n",
    "# 1 lambda\n",
    "# 2 if\n",
    "# 3 despues de aggergar la columna elimar los negativos"
   ]
  },
  {
   "cell_type": "code",
   "execution_count": 28,
   "id": "5d3ec6c4-b5b4-44cf-9637-6e11d31407bf",
   "metadata": {},
   "outputs": [],
   "source": [
    "df = df.assign(new_cases = new_cases)"
   ]
  },
  {
   "cell_type": "markdown",
   "id": "16032c2e-67e2-416f-a733-2b53c37061db",
   "metadata": {},
   "source": [
    "### Create new column of the new infected people"
   ]
  },
  {
   "cell_type": "code",
   "execution_count": 69,
   "id": "b5fb99e3-f85f-4f80-9fd9-6c46b4e32abf",
   "metadata": {},
   "outputs": [],
   "source": [
    "df['infected'] = df.confirmed - df.death - df.recovered\n",
    "# manera de evitar casos negativos\n",
    "# 1 lambda\n",
    "# 2 if\n",
    "# 3 despues de aggergar la columna elimar los negativos"
   ]
  },
  {
   "cell_type": "code",
   "execution_count": 33,
   "id": "8852faee-330a-4520-b748-73acf447fd61",
   "metadata": {},
   "outputs": [
    {
     "data": {
      "text/html": [
       "<div>\n",
       "<style scoped>\n",
       "    .dataframe tbody tr th:only-of-type {\n",
       "        vertical-align: middle;\n",
       "    }\n",
       "\n",
       "    .dataframe tbody tr th {\n",
       "        vertical-align: top;\n",
       "    }\n",
       "\n",
       "    .dataframe thead th {\n",
       "        text-align: right;\n",
       "    }\n",
       "</style>\n",
       "<table border=\"1\" class=\"dataframe\">\n",
       "  <thead>\n",
       "    <tr style=\"text-align: right;\">\n",
       "      <th></th>\n",
       "      <th>country</th>\n",
       "      <th>date</th>\n",
       "      <th>lat</th>\n",
       "      <th>long</th>\n",
       "      <th>confirmed</th>\n",
       "      <th>death</th>\n",
       "      <th>recovered</th>\n",
       "      <th>new_cases</th>\n",
       "      <th>infected</th>\n",
       "    </tr>\n",
       "  </thead>\n",
       "  <tbody>\n",
       "    <tr>\n",
       "      <th>286972</th>\n",
       "      <td>Zimbabwe</td>\n",
       "      <td>2022-10-06</td>\n",
       "      <td>-19.015438</td>\n",
       "      <td>29.154857</td>\n",
       "      <td>257655</td>\n",
       "      <td>5604</td>\n",
       "      <td>0.0</td>\n",
       "      <td>87.0</td>\n",
       "      <td>252051.0</td>\n",
       "    </tr>\n",
       "    <tr>\n",
       "      <th>286973</th>\n",
       "      <td>Zimbabwe</td>\n",
       "      <td>2022-10-07</td>\n",
       "      <td>-19.015438</td>\n",
       "      <td>29.154857</td>\n",
       "      <td>257655</td>\n",
       "      <td>5604</td>\n",
       "      <td>0.0</td>\n",
       "      <td>0.0</td>\n",
       "      <td>252051.0</td>\n",
       "    </tr>\n",
       "    <tr>\n",
       "      <th>286974</th>\n",
       "      <td>Zimbabwe</td>\n",
       "      <td>2022-10-08</td>\n",
       "      <td>-19.015438</td>\n",
       "      <td>29.154857</td>\n",
       "      <td>257655</td>\n",
       "      <td>5604</td>\n",
       "      <td>0.0</td>\n",
       "      <td>0.0</td>\n",
       "      <td>252051.0</td>\n",
       "    </tr>\n",
       "    <tr>\n",
       "      <th>286975</th>\n",
       "      <td>Zimbabwe</td>\n",
       "      <td>2022-10-09</td>\n",
       "      <td>-19.015438</td>\n",
       "      <td>29.154857</td>\n",
       "      <td>257655</td>\n",
       "      <td>5604</td>\n",
       "      <td>0.0</td>\n",
       "      <td>0.0</td>\n",
       "      <td>252051.0</td>\n",
       "    </tr>\n",
       "    <tr>\n",
       "      <th>286976</th>\n",
       "      <td>Zimbabwe</td>\n",
       "      <td>2022-10-10</td>\n",
       "      <td>-19.015438</td>\n",
       "      <td>29.154857</td>\n",
       "      <td>257749</td>\n",
       "      <td>5604</td>\n",
       "      <td>0.0</td>\n",
       "      <td>94.0</td>\n",
       "      <td>252145.0</td>\n",
       "    </tr>\n",
       "  </tbody>\n",
       "</table>\n",
       "</div>"
      ],
      "text/plain": [
       "         country        date        lat       long  confirmed  death  \\\n",
       "286972  Zimbabwe  2022-10-06 -19.015438  29.154857     257655   5604   \n",
       "286973  Zimbabwe  2022-10-07 -19.015438  29.154857     257655   5604   \n",
       "286974  Zimbabwe  2022-10-08 -19.015438  29.154857     257655   5604   \n",
       "286975  Zimbabwe  2022-10-09 -19.015438  29.154857     257655   5604   \n",
       "286976  Zimbabwe  2022-10-10 -19.015438  29.154857     257749   5604   \n",
       "\n",
       "        recovered  new_cases  infected  \n",
       "286972        0.0       87.0  252051.0  \n",
       "286973        0.0        0.0  252051.0  \n",
       "286974        0.0        0.0  252051.0  \n",
       "286975        0.0        0.0  252051.0  \n",
       "286976        0.0       94.0  252145.0  "
      ]
     },
     "execution_count": 33,
     "metadata": {},
     "output_type": "execute_result"
    }
   ],
   "source": [
    "df.tail()"
   ]
  },
  {
   "cell_type": "code",
   "execution_count": 34,
   "id": "9bc4f0fc-9f8a-4f42-ba77-71437a8595c8",
   "metadata": {},
   "outputs": [
    {
     "data": {
      "text/html": [
       "<div>\n",
       "<style scoped>\n",
       "    .dataframe tbody tr th:only-of-type {\n",
       "        vertical-align: middle;\n",
       "    }\n",
       "\n",
       "    .dataframe tbody tr th {\n",
       "        vertical-align: top;\n",
       "    }\n",
       "\n",
       "    .dataframe thead th {\n",
       "        text-align: right;\n",
       "    }\n",
       "</style>\n",
       "<table border=\"1\" class=\"dataframe\">\n",
       "  <thead>\n",
       "    <tr style=\"text-align: right;\">\n",
       "      <th></th>\n",
       "      <th>lat</th>\n",
       "      <th>long</th>\n",
       "      <th>confirmed</th>\n",
       "      <th>death</th>\n",
       "      <th>recovered</th>\n",
       "      <th>new_cases</th>\n",
       "      <th>infected</th>\n",
       "    </tr>\n",
       "  </thead>\n",
       "  <tbody>\n",
       "    <tr>\n",
       "      <th>count</th>\n",
       "      <td>282946.000000</td>\n",
       "      <td>282946.000000</td>\n",
       "      <td>2.829460e+05</td>\n",
       "      <td>2.829460e+05</td>\n",
       "      <td>2.829460e+05</td>\n",
       "      <td>2.827490e+05</td>\n",
       "      <td>2.829460e+05</td>\n",
       "    </tr>\n",
       "    <tr>\n",
       "      <th>mean</th>\n",
       "      <td>20.605688</td>\n",
       "      <td>22.371583</td>\n",
       "      <td>7.731958e+05</td>\n",
       "      <td>1.206139e+04</td>\n",
       "      <td>8.208939e+04</td>\n",
       "      <td>2.136700e+03</td>\n",
       "      <td>6.790450e+05</td>\n",
       "    </tr>\n",
       "    <tr>\n",
       "      <th>std</th>\n",
       "      <td>25.877478</td>\n",
       "      <td>77.606163</td>\n",
       "      <td>4.124842e+06</td>\n",
       "      <td>5.881708e+04</td>\n",
       "      <td>7.395943e+05</td>\n",
       "      <td>1.683258e+06</td>\n",
       "      <td>4.006305e+06</td>\n",
       "    </tr>\n",
       "    <tr>\n",
       "      <th>min</th>\n",
       "      <td>-71.949900</td>\n",
       "      <td>-178.116500</td>\n",
       "      <td>0.000000e+00</td>\n",
       "      <td>0.000000e+00</td>\n",
       "      <td>0.000000e+00</td>\n",
       "      <td>-3.469176e+07</td>\n",
       "      <td>-1.638280e+05</td>\n",
       "    </tr>\n",
       "    <tr>\n",
       "      <th>25%</th>\n",
       "      <td>4.860416</td>\n",
       "      <td>-55.765800</td>\n",
       "      <td>4.540000e+02</td>\n",
       "      <td>3.000000e+00</td>\n",
       "      <td>0.000000e+00</td>\n",
       "      <td>0.000000e+00</td>\n",
       "      <td>3.800000e+01</td>\n",
       "    </tr>\n",
       "    <tr>\n",
       "      <th>50%</th>\n",
       "      <td>23.424076</td>\n",
       "      <td>20.939400</td>\n",
       "      <td>1.084500e+04</td>\n",
       "      <td>1.220000e+02</td>\n",
       "      <td>0.000000e+00</td>\n",
       "      <td>2.200000e+01</td>\n",
       "      <td>3.757000e+03</td>\n",
       "    </tr>\n",
       "    <tr>\n",
       "      <th>75%</th>\n",
       "      <td>40.143100</td>\n",
       "      <td>90.433600</td>\n",
       "      <td>1.784950e+05</td>\n",
       "      <td>2.555000e+03</td>\n",
       "      <td>1.358000e+03</td>\n",
       "      <td>7.760000e+02</td>\n",
       "      <td>7.198800e+04</td>\n",
       "    </tr>\n",
       "    <tr>\n",
       "      <th>max</th>\n",
       "      <td>71.706900</td>\n",
       "      <td>178.065000</td>\n",
       "      <td>9.672111e+07</td>\n",
       "      <td>1.062681e+06</td>\n",
       "      <td>3.097475e+07</td>\n",
       "      <td>3.489424e+07</td>\n",
       "      <td>9.565843e+07</td>\n",
       "    </tr>\n",
       "  </tbody>\n",
       "</table>\n",
       "</div>"
      ],
      "text/plain": [
       "                 lat           long     confirmed         death     recovered  \\\n",
       "count  282946.000000  282946.000000  2.829460e+05  2.829460e+05  2.829460e+05   \n",
       "mean       20.605688      22.371583  7.731958e+05  1.206139e+04  8.208939e+04   \n",
       "std        25.877478      77.606163  4.124842e+06  5.881708e+04  7.395943e+05   \n",
       "min       -71.949900    -178.116500  0.000000e+00  0.000000e+00  0.000000e+00   \n",
       "25%         4.860416     -55.765800  4.540000e+02  3.000000e+00  0.000000e+00   \n",
       "50%        23.424076      20.939400  1.084500e+04  1.220000e+02  0.000000e+00   \n",
       "75%        40.143100      90.433600  1.784950e+05  2.555000e+03  1.358000e+03   \n",
       "max        71.706900     178.065000  9.672111e+07  1.062681e+06  3.097475e+07   \n",
       "\n",
       "          new_cases      infected  \n",
       "count  2.827490e+05  2.829460e+05  \n",
       "mean   2.136700e+03  6.790450e+05  \n",
       "std    1.683258e+06  4.006305e+06  \n",
       "min   -3.469176e+07 -1.638280e+05  \n",
       "25%    0.000000e+00  3.800000e+01  \n",
       "50%    2.200000e+01  3.757000e+03  \n",
       "75%    7.760000e+02  7.198800e+04  \n",
       "max    3.489424e+07  9.565843e+07  "
      ]
     },
     "execution_count": 34,
     "metadata": {},
     "output_type": "execute_result"
    }
   ],
   "source": [
    "df.describe()"
   ]
  },
  {
   "cell_type": "code",
   "execution_count": 37,
   "id": "242f4308-474d-48db-aa6c-1453e1031c33",
   "metadata": {},
   "outputs": [
    {
     "data": {
      "text/html": [
       "<div>\n",
       "<style scoped>\n",
       "    .dataframe tbody tr th:only-of-type {\n",
       "        vertical-align: middle;\n",
       "    }\n",
       "\n",
       "    .dataframe tbody tr th {\n",
       "        vertical-align: top;\n",
       "    }\n",
       "\n",
       "    .dataframe thead th {\n",
       "        text-align: right;\n",
       "    }\n",
       "</style>\n",
       "<table border=\"1\" class=\"dataframe\">\n",
       "  <thead>\n",
       "    <tr style=\"text-align: right;\">\n",
       "      <th></th>\n",
       "      <th>country</th>\n",
       "      <th>date</th>\n",
       "      <th>lat</th>\n",
       "      <th>long</th>\n",
       "      <th>confirmed</th>\n",
       "      <th>death</th>\n",
       "      <th>recovered</th>\n",
       "      <th>new_cases</th>\n",
       "      <th>infected</th>\n",
       "    </tr>\n",
       "  </thead>\n",
       "  <tbody>\n",
       "    <tr>\n",
       "      <th>58</th>\n",
       "      <td>Afghanistan</td>\n",
       "      <td>2020-03-20</td>\n",
       "      <td>33.939110</td>\n",
       "      <td>67.709953</td>\n",
       "      <td>24</td>\n",
       "      <td>0</td>\n",
       "      <td>1.0</td>\n",
       "      <td>-2.0</td>\n",
       "      <td>23.0</td>\n",
       "    </tr>\n",
       "    <tr>\n",
       "      <th>712</th>\n",
       "      <td>Afghanistan</td>\n",
       "      <td>2022-01-03</td>\n",
       "      <td>33.939110</td>\n",
       "      <td>67.709953</td>\n",
       "      <td>158183</td>\n",
       "      <td>7364</td>\n",
       "      <td>0.0</td>\n",
       "      <td>-6.0</td>\n",
       "      <td>150819.0</td>\n",
       "    </tr>\n",
       "    <tr>\n",
       "      <th>6121</th>\n",
       "      <td>Antigua and Barbuda</td>\n",
       "      <td>2020-07-03</td>\n",
       "      <td>17.060800</td>\n",
       "      <td>-61.796400</td>\n",
       "      <td>68</td>\n",
       "      <td>3</td>\n",
       "      <td>23.0</td>\n",
       "      <td>-1.0</td>\n",
       "      <td>42.0</td>\n",
       "    </tr>\n",
       "    <tr>\n",
       "      <th>6431</th>\n",
       "      <td>Antigua and Barbuda</td>\n",
       "      <td>2021-05-09</td>\n",
       "      <td>17.060800</td>\n",
       "      <td>-61.796400</td>\n",
       "      <td>1231</td>\n",
       "      <td>32</td>\n",
       "      <td>1168.0</td>\n",
       "      <td>-1.0</td>\n",
       "      <td>31.0</td>\n",
       "    </tr>\n",
       "    <tr>\n",
       "      <th>8976</th>\n",
       "      <td>Australia</td>\n",
       "      <td>2020-03-01</td>\n",
       "      <td>-35.473500</td>\n",
       "      <td>149.012400</td>\n",
       "      <td>0</td>\n",
       "      <td>0</td>\n",
       "      <td>0.0</td>\n",
       "      <td>-2.0</td>\n",
       "      <td>0.0</td>\n",
       "    </tr>\n",
       "    <tr>\n",
       "      <th>...</th>\n",
       "      <td>...</td>\n",
       "      <td>...</td>\n",
       "      <td>...</td>\n",
       "      <td>...</td>\n",
       "      <td>...</td>\n",
       "      <td>...</td>\n",
       "      <td>...</td>\n",
       "      <td>...</td>\n",
       "      <td>...</td>\n",
       "    </tr>\n",
       "    <tr>\n",
       "      <th>277128</th>\n",
       "      <td>Uruguay</td>\n",
       "      <td>2020-04-12</td>\n",
       "      <td>-32.522800</td>\n",
       "      <td>-55.765800</td>\n",
       "      <td>480</td>\n",
       "      <td>7</td>\n",
       "      <td>231.0</td>\n",
       "      <td>-21.0</td>\n",
       "      <td>242.0</td>\n",
       "    </tr>\n",
       "    <tr>\n",
       "      <th>279945</th>\n",
       "      <td>Vanuatu</td>\n",
       "      <td>2022-07-22</td>\n",
       "      <td>-15.376700</td>\n",
       "      <td>166.959200</td>\n",
       "      <td>11723</td>\n",
       "      <td>14</td>\n",
       "      <td>0.0</td>\n",
       "      <td>-7.0</td>\n",
       "      <td>11709.0</td>\n",
       "    </tr>\n",
       "    <tr>\n",
       "      <th>279952</th>\n",
       "      <td>Vanuatu</td>\n",
       "      <td>2022-07-29</td>\n",
       "      <td>-15.376700</td>\n",
       "      <td>166.959200</td>\n",
       "      <td>11724</td>\n",
       "      <td>14</td>\n",
       "      <td>0.0</td>\n",
       "      <td>-6.0</td>\n",
       "      <td>11710.0</td>\n",
       "    </tr>\n",
       "    <tr>\n",
       "      <th>284200</th>\n",
       "      <td>Yemen</td>\n",
       "      <td>2020-08-11</td>\n",
       "      <td>15.552727</td>\n",
       "      <td>48.516388</td>\n",
       "      <td>1831</td>\n",
       "      <td>523</td>\n",
       "      <td>919.0</td>\n",
       "      <td>-1.0</td>\n",
       "      <td>389.0</td>\n",
       "    </tr>\n",
       "    <tr>\n",
       "      <th>286085</th>\n",
       "      <td>Zimbabwe</td>\n",
       "      <td>2020-05-02</td>\n",
       "      <td>-19.015438</td>\n",
       "      <td>29.154857</td>\n",
       "      <td>34</td>\n",
       "      <td>4</td>\n",
       "      <td>5.0</td>\n",
       "      <td>-6.0</td>\n",
       "      <td>25.0</td>\n",
       "    </tr>\n",
       "  </tbody>\n",
       "</table>\n",
       "<p>49011 rows × 9 columns</p>\n",
       "</div>"
      ],
      "text/plain": [
       "                    country        date        lat        long  confirmed  \\\n",
       "58              Afghanistan  2020-03-20  33.939110   67.709953         24   \n",
       "712             Afghanistan  2022-01-03  33.939110   67.709953     158183   \n",
       "6121    Antigua and Barbuda  2020-07-03  17.060800  -61.796400         68   \n",
       "6431    Antigua and Barbuda  2021-05-09  17.060800  -61.796400       1231   \n",
       "8976              Australia  2020-03-01 -35.473500  149.012400          0   \n",
       "...                     ...         ...        ...         ...        ...   \n",
       "277128              Uruguay  2020-04-12 -32.522800  -55.765800        480   \n",
       "279945              Vanuatu  2022-07-22 -15.376700  166.959200      11723   \n",
       "279952              Vanuatu  2022-07-29 -15.376700  166.959200      11724   \n",
       "284200                Yemen  2020-08-11  15.552727   48.516388       1831   \n",
       "286085             Zimbabwe  2020-05-02 -19.015438   29.154857         34   \n",
       "\n",
       "        death  recovered  new_cases  infected  \n",
       "58          0        1.0       -2.0      23.0  \n",
       "712      7364        0.0       -6.0  150819.0  \n",
       "6121        3       23.0       -1.0      42.0  \n",
       "6431       32     1168.0       -1.0      31.0  \n",
       "8976        0        0.0       -2.0       0.0  \n",
       "...       ...        ...        ...       ...  \n",
       "277128      7      231.0      -21.0     242.0  \n",
       "279945     14        0.0       -7.0   11709.0  \n",
       "279952     14        0.0       -6.0   11710.0  \n",
       "284200    523      919.0       -1.0     389.0  \n",
       "286085      4        5.0       -6.0      25.0  \n",
       "\n",
       "[49011 rows x 9 columns]"
      ]
     },
     "execution_count": 37,
     "metadata": {},
     "output_type": "execute_result"
    }
   ],
   "source": [
    "df.query('(new_cases < 0 or infected < 0) ')"
   ]
  },
  {
   "cell_type": "code",
   "execution_count": 39,
   "id": "63554fea-2804-4d13-87a5-add39cadda65",
   "metadata": {},
   "outputs": [
    {
     "data": {
      "text/html": [
       "<div>\n",
       "<style scoped>\n",
       "    .dataframe tbody tr th:only-of-type {\n",
       "        vertical-align: middle;\n",
       "    }\n",
       "\n",
       "    .dataframe tbody tr th {\n",
       "        vertical-align: top;\n",
       "    }\n",
       "\n",
       "    .dataframe thead th {\n",
       "        text-align: right;\n",
       "    }\n",
       "</style>\n",
       "<table border=\"1\" class=\"dataframe\">\n",
       "  <thead>\n",
       "    <tr style=\"text-align: right;\">\n",
       "      <th></th>\n",
       "      <th>country</th>\n",
       "      <th>date</th>\n",
       "      <th>lat</th>\n",
       "      <th>long</th>\n",
       "      <th>confirmed</th>\n",
       "      <th>death</th>\n",
       "      <th>recovered</th>\n",
       "      <th>new_cases</th>\n",
       "      <th>infected</th>\n",
       "    </tr>\n",
       "  </thead>\n",
       "  <tbody>\n",
       "    <tr>\n",
       "      <th>57</th>\n",
       "      <td>Afghanistan</td>\n",
       "      <td>2020-03-19</td>\n",
       "      <td>33.93911</td>\n",
       "      <td>67.709953</td>\n",
       "      <td>26</td>\n",
       "      <td>0</td>\n",
       "      <td>1.0</td>\n",
       "      <td>0.0</td>\n",
       "      <td>25.0</td>\n",
       "    </tr>\n",
       "  </tbody>\n",
       "</table>\n",
       "</div>"
      ],
      "text/plain": [
       "        country        date       lat       long  confirmed  death  recovered  \\\n",
       "57  Afghanistan  2020-03-19  33.93911  67.709953         26      0        1.0   \n",
       "\n",
       "    new_cases  infected  \n",
       "57        0.0      25.0  "
      ]
     },
     "execution_count": 39,
     "metadata": {},
     "output_type": "execute_result"
    }
   ],
   "source": [
    "df.loc[[57]]"
   ]
  },
  {
   "cell_type": "code",
   "execution_count": null,
   "id": "a84b6a72-63dd-41da-9d8b-bbf33b8d775b",
   "metadata": {},
   "outputs": [],
   "source": []
  }
 ],
 "metadata": {
  "kernelspec": {
   "display_name": "Python 3 (ipykernel)",
   "language": "python",
   "name": "python3"
  },
  "language_info": {
   "codemirror_mode": {
    "name": "ipython",
    "version": 3
   },
   "file_extension": ".py",
   "mimetype": "text/x-python",
   "name": "python",
   "nbconvert_exporter": "python",
   "pygments_lexer": "ipython3",
   "version": "3.9.13"
  }
 },
 "nbformat": 4,
 "nbformat_minor": 5
}
